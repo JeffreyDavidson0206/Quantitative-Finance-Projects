{
 "cells": [
  {
   "cell_type": "markdown",
   "metadata": {},
   "source": [
    "# Monte Carlo Simulations"
   ]
  },
  {
   "cell_type": "code",
   "execution_count": 1,
   "metadata": {},
   "outputs": [],
   "source": [
    "import numpy as np\n",
    "import matplotlib.pyplot as plt\n",
    "import seaborn as sns\n",
    "import scipy as s"
   ]
  },
  {
   "cell_type": "markdown",
   "metadata": {},
   "source": [
    "**Price a regular call and put option using monte carlo simulation and compare with Black Scholes Price. Compute the confidence interval of the estimate. Use appropraite variance reduction procedures to reduce the standard error.**"
   ]
  },
  {
   "cell_type": "code",
   "execution_count": 2,
   "metadata": {},
   "outputs": [],
   "source": [
    "S0 = 120\n",
    "T = 0.5\n",
    "r = 0.03\n",
    "vol = 0.3\n",
    "K = 130"
   ]
  },
  {
   "cell_type": "markdown",
   "metadata": {},
   "source": [
    "_1. Option Price using Black Scholes Model_"
   ]
  },
  {
   "cell_type": "code",
   "execution_count": 3,
   "metadata": {},
   "outputs": [],
   "source": [
    "def blackscholes(S0,T,K,r,vol,call=1):\n",
    "    d1 = (np.log(S0/K)+(r+0.5*vol**2)*(T))/(vol*T**0.5)\n",
    "    d2 = d1-(vol*T**0.5)\n",
    "    if call==1:\n",
    "        price = S0*s.stats.norm.cdf(d1)-K*np.exp(-r*T)*s.stats.norm.cdf(d2)\n",
    "    else:\n",
    "        price = -S0*s.stats.norm.cdf(-d1)+K*np.exp(-r*T)*s.stats.norm.cdf(-d2)\n",
    "    return price"
   ]
  },
  {
   "cell_type": "code",
   "execution_count": 4,
   "metadata": {},
   "outputs": [
    {
     "name": "stdout",
     "output_type": "stream",
     "text": [
      "The Black Scholes price of the call option is 6.931\n",
      "The Black Scholes price of the put option is 14.996\n"
     ]
    }
   ],
   "source": [
    "print(f'The Black Scholes price of the call option is {round(blackscholes(S0,T,K,r,vol,call=1),3)}')\n",
    "print(f'The Black Scholes price of the put option is {round(blackscholes(S0,T,K,r,vol,call=0),3)}')"
   ]
  },
  {
   "cell_type": "markdown",
   "metadata": {},
   "source": [
    "_2. Option Price using Monte Carlo Simulation_"
   ]
  },
  {
   "cell_type": "code",
   "execution_count": 5,
   "metadata": {},
   "outputs": [],
   "source": [
    "def normal_samples(n):\n",
    "    return [np.random.normal() for i in range(n)]"
   ]
  },
  {
   "cell_type": "code",
   "execution_count": 6,
   "metadata": {},
   "outputs": [],
   "source": [
    "def stock_path(S0,m,s,t,phi):\n",
    "    return S0*np.exp((m-0.5*s**2)*t+s*phi*(t)**0.5)"
   ]
  },
  {
   "cell_type": "code",
   "execution_count": 7,
   "metadata": {},
   "outputs": [],
   "source": [
    "def payoff(stock_paths,K,call=1):\n",
    "    if call==1:\n",
    "        payoffs =np.maximum(np.array(stock_paths)-K,0)\n",
    "    else:\n",
    "        payoffs =np.maximum(K-np.array(stock_paths),0)\n",
    "    return payoffs"
   ]
  },
  {
   "cell_type": "code",
   "execution_count": 8,
   "metadata": {},
   "outputs": [],
   "source": [
    "x = normal_samples(100000)"
   ]
  },
  {
   "cell_type": "code",
   "execution_count": 9,
   "metadata": {},
   "outputs": [],
   "source": [
    "c_payoffs = payoff([stock_path(S0,r,vol,T,x[i]) for i in range(10000)],K,call=1)\n",
    "p_payoffs = payoff([stock_path(S0,r,vol,T,x[i]) for i in range(10000)],K,call=0)"
   ]
  },
  {
   "cell_type": "code",
   "execution_count": 10,
   "metadata": {},
   "outputs": [
    {
     "name": "stdout",
     "output_type": "stream",
     "text": [
      "Call Price: 6.878\n",
      "Put Price: 15.207\n"
     ]
    }
   ],
   "source": [
    "c = np.mean(c_payoffs)*np.exp(-r*T)\n",
    "p =np.mean(p_payoffs)*np.exp(-r*T)\n",
    "\n",
    "print(f'Call Price: {round(c,3)}')\n",
    "print(f'Put Price: {round(p,3)}')"
   ]
  },
  {
   "cell_type": "code",
   "execution_count": 11,
   "metadata": {},
   "outputs": [
    {
     "name": "stdout",
     "output_type": "stream",
     "text": [
      "S.E of Call Price: 0.142\n",
      "S.E of Put Price: 0.16\n"
     ]
    }
   ],
   "source": [
    "SE_c =np.std(c_payoffs)*np.exp(-r*T)/(len(c_payoffs)**0.5)\n",
    "SE_p =np.std(p_payoffs)*np.exp(-r*T)/(len(p_payoffs)**0.5)\n",
    "\n",
    "print(f'S.E of Call Price: {round(SE_c,3)}')\n",
    "print(f'S.E of Put Price: {round(SE_p,3)}')"
   ]
  },
  {
   "cell_type": "code",
   "execution_count": 12,
   "metadata": {},
   "outputs": [],
   "source": [
    "def confidence_interval(m,sd,level =0.95):\n",
    "    l = m+sd*s.stats.norm.ppf((1-level)/2)\n",
    "    u = m+sd*s.stats.norm.ppf(1-(1-level)/2)\n",
    "    return round(l,2),round(u,2)"
   ]
  },
  {
   "cell_type": "code",
   "execution_count": 13,
   "metadata": {},
   "outputs": [
    {
     "name": "stdout",
     "output_type": "stream",
     "text": [
      "The 95% confidence interval for call price is (6.6, 7.16)\n",
      "The 95% confidence interval for put price is (14.89, 15.52)\n"
     ]
    }
   ],
   "source": [
    "print(f'The 95% confidence interval for call price is {confidence_interval(c,SE_c,level =0.95)}')\n",
    "print(f'The 95% confidence interval for put price is {confidence_interval(p,SE_p,level =0.95)}')"
   ]
  },
  {
   "cell_type": "markdown",
   "metadata": {},
   "source": [
    "The estimate of option prices found using montecarlo simulation are close to the black scholes price. But the standard error is large. For example, 5% of the time the call option price estimated is going to be below 5.93 which is about $1 lower than the true price. Using variance reduction procedures we might be able to reduce the standard error."
   ]
  },
  {
   "cell_type": "markdown",
   "metadata": {},
   "source": [
    "_3. Using antithetic Variable Technique_"
   ]
  },
  {
   "cell_type": "code",
   "execution_count": 14,
   "metadata": {},
   "outputs": [],
   "source": [
    "x_1 = normal_samples(100000)\n",
    "x_2 = np.array(x_1)*-1"
   ]
  },
  {
   "cell_type": "code",
   "execution_count": 15,
   "metadata": {},
   "outputs": [],
   "source": [
    "c_payoffs_1 = payoff([stock_path(S0,r,vol,T,x_1[i]) for i in range(10000)],K,call=1)\n",
    "p_payoffs_1 = payoff([stock_path(S0,r,vol,T,x_1[i]) for i in range(10000)],K,call=0)\n",
    "\n",
    "c_payoffs_2 = payoff([stock_path(S0,r,vol,T,x_2[i]) for i in range(10000)],K,call=1)\n",
    "p_payoffs_2 = payoff([stock_path(S0,r,vol,T,x_2[i]) for i in range(10000)],K,call=0)\n",
    "\n",
    "c_payoffs = (c_payoffs_1+c_payoffs_2)/2\n",
    "p_payoffs = (p_payoffs_1+p_payoffs_2)/2\n"
   ]
  },
  {
   "cell_type": "code",
   "execution_count": 16,
   "metadata": {},
   "outputs": [
    {
     "name": "stdout",
     "output_type": "stream",
     "text": [
      "Call Price: 6.903\n",
      "Put Price: 14.979\n"
     ]
    }
   ],
   "source": [
    "c = np.mean(c_payoffs)*np.exp(-r*T)\n",
    "p =np.mean(p_payoffs)*np.exp(-r*T)\n",
    "\n",
    "print(f'Call Price: {round(c,3)}')\n",
    "print(f'Put Price: {round(p,3)}')"
   ]
  },
  {
   "cell_type": "code",
   "execution_count": 17,
   "metadata": {},
   "outputs": [
    {
     "name": "stdout",
     "output_type": "stream",
     "text": [
      "S.E of Call Price: 0.088\n",
      "S.E of Put Price: 0.051\n"
     ]
    }
   ],
   "source": [
    "SE_c =np.std(c_payoffs)*np.exp(-r*T)/(len(c_payoffs)**0.5)\n",
    "SE_p =np.std(p_payoffs)*np.exp(-r*T)/(len(p_payoffs)**0.5)\n",
    "\n",
    "print(f'S.E of Call Price: {round(SE_c,3)}')\n",
    "print(f'S.E of Put Price: {round(SE_p,3)}')"
   ]
  },
  {
   "cell_type": "code",
   "execution_count": 18,
   "metadata": {},
   "outputs": [
    {
     "name": "stdout",
     "output_type": "stream",
     "text": [
      "The reduction in SE is about:\n",
      "Calls : 62.9%\n",
      "Puts : 33.33%\n"
     ]
    }
   ],
   "source": [
    "print('The reduction in SE is about:')\n",
    "print(f'Calls : {round(0.278/0.442*100,2)}%')\n",
    "print(f'Puts : {round(0.162/0.486*100,2)}%')"
   ]
  },
  {
   "cell_type": "code",
   "execution_count": 19,
   "metadata": {},
   "outputs": [
    {
     "name": "stdout",
     "output_type": "stream",
     "text": [
      "The 95% confidence interval for call price is (6.73, 7.08)\n",
      "The 95% confidence interval for put price is (14.88, 15.08)\n"
     ]
    }
   ],
   "source": [
    "print(f'The 95% confidence interval for call price is {confidence_interval(c,SE_c,level =0.95)}')\n",
    "print(f'The 95% confidence interval for put price is {confidence_interval(p,SE_p,level =0.95)}')"
   ]
  },
  {
   "cell_type": "markdown",
   "metadata": {},
   "source": [
    "We can see that the confidence interval for the estimate has become narrower"
   ]
  }
 ],
 "metadata": {
  "kernelspec": {
   "display_name": "Python 3",
   "language": "python",
   "name": "python3"
  },
  "language_info": {
   "codemirror_mode": {
    "name": "ipython",
    "version": 3
   },
   "file_extension": ".py",
   "mimetype": "text/x-python",
   "name": "python",
   "nbconvert_exporter": "python",
   "pygments_lexer": "ipython3",
   "version": "3.8.5"
  }
 },
 "nbformat": 4,
 "nbformat_minor": 4
}
