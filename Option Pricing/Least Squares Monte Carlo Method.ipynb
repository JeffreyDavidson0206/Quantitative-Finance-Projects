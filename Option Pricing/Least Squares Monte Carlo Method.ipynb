{
 "cells": [
  {
   "cell_type": "markdown",
   "metadata": {},
   "source": [
    "## Least Squares Monte Carlo Method (Longstaff-Schwartz)"
   ]
  },
  {
   "cell_type": "markdown",
   "metadata": {},
   "source": [
    "Least Squares Monte Carlo method developd by Longstaff and Schwartz extends Monte-Carlo simulation to value options with early exercise features. It uses least squares regression to estimate the value of not exercising the point at each point in time."
   ]
  },
  {
   "cell_type": "code",
   "execution_count": 22,
   "metadata": {},
   "outputs": [],
   "source": [
    "import numpy as np\n",
    "import matplotlib.pyplot as plt\n",
    "import pandas as pd\n",
    "import scipy.stats as st"
   ]
  },
  {
   "cell_type": "code",
   "execution_count": 23,
   "metadata": {},
   "outputs": [],
   "source": [
    "import warnings\n",
    "warnings.filterwarnings('ignore')"
   ]
  },
  {
   "cell_type": "markdown",
   "metadata": {},
   "source": [
    "**Calculate the price of American put option with the following parameters.**"
   ]
  },
  {
   "cell_type": "code",
   "execution_count": 24,
   "metadata": {},
   "outputs": [],
   "source": [
    "S0 = 120\n",
    "K =110\n",
    "T = 0.8\n",
    "r = 0.03\n",
    "vol =0.3"
   ]
  },
  {
   "cell_type": "code",
   "execution_count": 25,
   "metadata": {},
   "outputs": [],
   "source": [
    "def stock_df(paths,S0,T,r,vol,n=100):\n",
    "    stock_table = np.empty((paths,n+1))\n",
    "    t = np.array([i*T/n for i in range(0,n+1)])\n",
    "    z = np.random.randn(paths,n)\n",
    "    stock_table = np.ones((paths,1))*S0\n",
    "    for i in range(n):\n",
    "        stock_table = np.concatenate((stock_table,\n",
    "                                      (stock_table[:,i]*np.exp((r-0.5*vol**2)*(T/n)+vol*z[:,i]*(T/n)**0.5)).reshape(paths,1)),\n",
    "                                     axis=1)      \n",
    "       \n",
    "    stock_df = pd.DataFrame(data=stock_table,columns=t)\n",
    "    stock_df.columns.name ='Time'\n",
    "    stock_df.index.name ='Paths'\n",
    "    return stock_df\n",
    "    "
   ]
  },
  {
   "cell_type": "code",
   "execution_count": 26,
   "metadata": {},
   "outputs": [],
   "source": [
    "s =stock_df(10000,S0,T,r,vol,n=100)"
   ]
  },
  {
   "cell_type": "code",
   "execution_count": 27,
   "metadata": {},
   "outputs": [],
   "source": [
    "def cash_flow_df(stock_df,K,r,option_type=-1):\n",
    "    cash_flow_df = stock_df.copy()\n",
    "    cash_flow_df.iloc[:,-1] = np.maximum(option_type*(stock_df.iloc[:,-1]-K),0)\n",
    "    \n",
    "    for i in range(len(stock_df.columns)-2,-1,-1):\n",
    "        exercise_value = np.maximum(option_type*(stock_df.iloc[:,i]-K),0)\n",
    "        exercise_points = exercise_value>0\n",
    "        \n",
    "        discounted_cash_flow = cash_flow_df.iloc[:,i+1]*np.exp(-r*(stock_df.columns[i+1]-stock_df.columns[i]))\n",
    "        \n",
    "        \n",
    "        holding_value = discounted_cash_flow\n",
    "        \n",
    "        if stock_df.iloc[:,i][exercise_points].count() !=0 :\n",
    "            coeffs = np.polyfit(stock_df.iloc[:,i][exercise_points],\n",
    "                                discounted_cash_flow[exercise_points],deg=2)\n",
    "        \n",
    "            \n",
    "            holding_value[exercise_points] = (stock_df.iloc[:,i][exercise_points]**2)*coeffs[0]+ \\\n",
    "                                            stock_df.iloc[:,i][exercise_points]*coeffs[1]+ \\\n",
    "                                            coeffs[2]\n",
    "        \n",
    "        \n",
    "        cash_flow_df.iloc[:,i] = np.maximum(exercise_value,holding_value)\n",
    "    \n",
    "    return cash_flow_df"
   ]
  },
  {
   "cell_type": "code",
   "execution_count": 28,
   "metadata": {
    "scrolled": false
   },
   "outputs": [],
   "source": [
    "c = cash_flow_df(s,K,r,option_type=-1)"
   ]
  },
  {
   "cell_type": "code",
   "execution_count": 29,
   "metadata": {},
   "outputs": [
    {
     "name": "stdout",
     "output_type": "stream",
     "text": [
      "The price of the American put option is 7.14\n"
     ]
    }
   ],
   "source": [
    "american_montecarlo = np.mean(c[0])\n",
    "print(f'The price of the American put option is {round(american_montecarlo,2)}')"
   ]
  },
  {
   "cell_type": "markdown",
   "metadata": {},
   "source": [
    "We can use control variate technique to reduce the variance in the estimate. For that, we need to calculate the value of European option using monte-carlo method."
   ]
  },
  {
   "cell_type": "code",
   "execution_count": 30,
   "metadata": {},
   "outputs": [
    {
     "name": "stdout",
     "output_type": "stream",
     "text": [
      "The price of the European put option using Monte-Carlo is 6.83\n"
     ]
    }
   ],
   "source": [
    "european_montecarlo = np.mean(np.maximum(K-s.iloc[:,-1],0))*np.exp(-r*T)\n",
    "print(f'The price of the European put option using Monte-Carlo is {round(european_montecarlo,2)}')"
   ]
  },
  {
   "cell_type": "code",
   "execution_count": 31,
   "metadata": {},
   "outputs": [],
   "source": [
    "def blackscholes(S0,T,K,r,vol,call=1):\n",
    "    d1 = (np.log(S0/K)+(r+0.5*vol**2)*(T))/(vol*T**0.5)\n",
    "    d2 = d1-(vol*T**0.5)\n",
    "    if call==1:\n",
    "        price = S0*st.norm.cdf(d1)-K*np.exp(-r*T)*st.norm.cdf(d2)\n",
    "    else:\n",
    "        price = -S0*st.norm.cdf(-d1)+K*np.exp(-r*T)*st.norm.cdf(-d2)\n",
    "    return price"
   ]
  },
  {
   "cell_type": "code",
   "execution_count": 32,
   "metadata": {},
   "outputs": [
    {
     "name": "stdout",
     "output_type": "stream",
     "text": [
      "The price of the European put option using black-scholes model is 6.85\n"
     ]
    }
   ],
   "source": [
    "black_scholes_put = blackscholes(S0,T,K,r,vol,call=-1)\n",
    "print(f'The price of the European put option using black-scholes model is {round(black_scholes_put,2)}')"
   ]
  },
  {
   "cell_type": "code",
   "execution_count": 33,
   "metadata": {},
   "outputs": [
    {
     "name": "stdout",
     "output_type": "stream",
     "text": [
      "Using Control Variate technique, the price can be estimated as 7.16\n"
     ]
    }
   ],
   "source": [
    "print(f'Using Control Variate technique, the price can be estimated as '\\\n",
    "      f'{round(black_scholes_put-european_montecarlo+american_montecarlo,2)}')"
   ]
  },
  {
   "cell_type": "markdown",
   "metadata": {},
   "source": [
    "**Comparing the method with a finite difference method (Crank-Nicholson Method) for different stock prices:**"
   ]
  },
  {
   "cell_type": "code",
   "execution_count": 34,
   "metadata": {},
   "outputs": [],
   "source": [
    "class CrankNicholson():\n",
    "    def __init__(self):\n",
    "        pass\n",
    "    \n",
    "    def grid(self,NTS,T,Smax,NAS):\n",
    "        s_values = [j*Smax/NAS for j in range(0,NAS+1)]\n",
    "        t_values = [i*T/NTS for i in range(0,NTS+1)]\n",
    "        grid = [np.zeros(NAS+1) for i in range(NTS+1)]\n",
    "        return {'Time':t_values,'Stock':s_values,'Grid':grid}\n",
    "    \n",
    "    def CN_pms(self,s,ds,dt,r,vol):\n",
    "        A = -r*s/(4*ds)+vol**2*s**2/(4*ds**2)\n",
    "        B = -1/dt-vol**2*s**2/(2*ds**2)-r/2\n",
    "        C = r*s/(4*ds)+vol**2*s**2/(4*ds**2)\n",
    "        D = 1/dt-vol**2*s**2/(2*ds**2)-r/2\n",
    "        return A,B,C,D\n",
    "    \n",
    "    def CN_matrix(self,s_values,ds,dt,r,vol):\n",
    "        M=len(s_values)\n",
    "        matrix_1 = np.zeros(shape=(M-2,M))\n",
    "        matrix_2 = np.zeros(shape=(M-2,M))\n",
    "        for j in range(1,M-1):\n",
    "            A,B,C,D = self.CN_pms(s_values[j],ds,dt,r,vol)\n",
    "            matrix_1[j-1,j-1] = A\n",
    "            matrix_1[j-1,j] = B\n",
    "            matrix_1[j-1,j+1] = C\n",
    "\n",
    "            matrix_2[j-1,j-1] = A\n",
    "            matrix_2[j-1,j] = D\n",
    "            matrix_2[j-1,j+1] = C\n",
    "        return matrix_1,matrix_2\n",
    "    \n",
    "    def CN_method(self,grid_dict,K,r,vol,call=1):\n",
    "        v = grid_dict['Grid']\n",
    "        s = grid_dict['Stock']\n",
    "        t = grid_dict['Time']\n",
    "        dt = t[1]-t[0]\n",
    "        ds = s[1]-s[0]\n",
    "        if call ==1:\n",
    "            c =1\n",
    "        else:\n",
    "            c=-1\n",
    "        payoff  = [np.maximum(c*(s[j]-K),0) for j in range(len(s))]\n",
    "        v[-1] =payoff\n",
    "        matrices =self.CN_matrix(s,ds,dt,r,vol)\n",
    "\n",
    "        matrix_1 = matrices[0]\n",
    "        matrix_2 = matrices[1]\n",
    "\n",
    "        for i in range(len(t)-2,-1,-1):\n",
    "            v[i][0] = np.maximum(c*(s[0]-K*np.exp(-r*(t[-1]-t[i]))),0)\n",
    "            v[i][-1] = np.maximum(c*(s[-1]-K*np.exp(-r*(t[-1]-t[i]))),0)\n",
    "            v2 = v[i+1]\n",
    "            M_2 = np.matmul(matrix_2,v2)\n",
    "            r_1 = matrix_1[:,0]*v[i][0]+matrix_1[:,-1]*v[i][-1]\n",
    "            M_1 = matrix_1[:,1:len(s)-1]\n",
    "            v[i][1:len(s)-1] = np.matmul(np.linalg.inv(M_1),-M_2-r_1)\n",
    "            \n",
    "            #early exercise\n",
    "            v[i] =np.maximum(payoff,v[i])\n",
    "\n",
    "        grid_dict['Grid'] = v\n",
    "\n",
    "        g = pd.DataFrame(data = grid_dict['Grid'],index=grid_dict['Time'],columns=grid_dict['Stock'])\n",
    "        g.index.name = 'Time'\n",
    "        g.columns.name ='Stock Price'    \n",
    "\n",
    "        return g"
   ]
  },
  {
   "cell_type": "code",
   "execution_count": 35,
   "metadata": {},
   "outputs": [],
   "source": [
    "CN= CrankNicholson()\n",
    "g = CN.grid(200,T,240,120)\n",
    "CN_grid = CN.CN_method(g,K,r,vol,call=-1)"
   ]
  },
  {
   "cell_type": "code",
   "execution_count": 36,
   "metadata": {},
   "outputs": [
    {
     "name": "stdout",
     "output_type": "stream",
     "text": [
      "The price of the option using Finite Difference Method is 6.97\n"
     ]
    }
   ],
   "source": [
    "print(f'The price of the option using Finite Difference Method is {round(CN_grid.loc[0,S0],2)}')"
   ]
  },
  {
   "cell_type": "markdown",
   "metadata": {},
   "source": [
    "We know that the finite difference method is more efficient as well as more accurate method in lower dimensions. But for higher dimensions, Least squares Monte Carlo method may be preferred."
   ]
  },
  {
   "cell_type": "markdown",
   "metadata": {},
   "source": [
    "Plotting the option price for different initial stock price values"
   ]
  },
  {
   "cell_type": "code",
   "execution_count": 37,
   "metadata": {},
   "outputs": [],
   "source": [
    "Si = list(range(120,171,10))"
   ]
  },
  {
   "cell_type": "code",
   "execution_count": 38,
   "metadata": {},
   "outputs": [],
   "source": [
    "LSMC_list= []\n",
    "\n",
    "for i in Si:\n",
    "    s_df = stock_df(10000,i,T,r,vol,n=100)\n",
    "    c_i = cash_flow_df(s_df,K,r,option_type=-1)[0]\n",
    "    LSMC_list.append(np.mean(c_i))"
   ]
  },
  {
   "cell_type": "code",
   "execution_count": 39,
   "metadata": {},
   "outputs": [],
   "source": [
    "CN_list = [CN_grid.loc[0,i] for i in Si]"
   ]
  },
  {
   "cell_type": "code",
   "execution_count": 40,
   "metadata": {},
   "outputs": [
    {
     "data": {
      "text/plain": [
       "<matplotlib.legend.Legend at 0xb22c310>"
      ]
     },
     "execution_count": 40,
     "metadata": {},
     "output_type": "execute_result"
    },
    {
     "data": {
      "image/png": "[encoded data removed]",
      "text/plain": [
       "<Figure size 1000x300 with 1 Axes>"
      ]
     },
     "metadata": {
      "needs_background": "light"
     },
     "output_type": "display_data"
    }
   ],
   "source": [
    "plt.figure(figsize=(10,3),dpi=100)\n",
    "plt.plot(Si,LSMC_list,label='Least Square Monte Carlo')\n",
    "plt.plot(Si,CN_list,label='Finite Difference (CN)')\n",
    "plt.xlabel('Stock Price')\n",
    "plt.ylabel('Option Price')\n",
    "plt.title('Comparison between two methods for different stock prices')\n",
    "plt.legend()"
   ]
  },
  {
   "cell_type": "markdown",
   "metadata": {},
   "source": [
    "We could see that the two methods give almost similar results."
   ]
  }
 ],
 "metadata": {
  "kernelspec": {
   "display_name": "Python 3",
   "language": "python",
   "name": "python3"
  },
  "language_info": {
   "codemirror_mode": {
    "name": "ipython",
    "version": 3
   },
   "file_extension": ".py",
   "mimetype": "text/x-python",
   "name": "python",
   "nbconvert_exporter": "python",
   "pygments_lexer": "ipython3",
   "version": "3.8.5"
  }
 },
 "nbformat": 4,
 "nbformat_minor": 4
}
