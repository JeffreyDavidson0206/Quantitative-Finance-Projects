{
 "cells": [
  {
   "cell_type": "markdown",
   "metadata": {},
   "source": [
    "# VaR and Expected Shortfall"
   ]
  },
  {
   "cell_type": "code",
   "execution_count": 2,
   "metadata": {},
   "outputs": [],
   "source": [
    "import numpy as np\n",
    "import matplotlib.pyplot as plt\n",
    "import scipy.stats as st\n",
    "import scipy.optimize as opt\n",
    "from yahoo_fin import stock_info\n",
    "import pandas as pd\n",
    "import sys"
   ]
  },
  {
   "cell_type": "markdown",
   "metadata": {},
   "source": [
    "**Objective:**"
   ]
  },
  {
   "cell_type": "markdown",
   "metadata": {},
   "source": [
    "To calculate the Value at Risk and Expected Shortfall for a portfolio using the following methods:\n",
    "1. Historical Simulation\n",
    "2. Model Building Approach"
   ]
  },
  {
   "cell_type": "markdown",
   "metadata": {},
   "source": [
    "**1. Historical Simulation:**"
   ]
  },
  {
   "cell_type": "code",
   "execution_count": 3,
   "metadata": {},
   "outputs": [],
   "source": [
    "class Historical_Simulation():\n",
    "    def __init__(self,stock_tickers,weights,start_date,end_date):\n",
    "        self.tickers = stock_tickers\n",
    "        self.weights = weights\n",
    "        self.prices = self.get_prices(start_date,end_date)\n",
    "        self.returns = self.get_returns(1)\n",
    "    \n",
    "    def get_prices(self,start_date,end_date):\n",
    "        s = pd.DataFrame()\n",
    "        for i in self.tickers:\n",
    "            b = stock_info.get_data(i,start_date,end_date)['adjclose']\n",
    "            s[i] =b\n",
    "        return s.dropna()\n",
    "    \n",
    "    def get_returns(self,n):\n",
    "        returns = pd.DataFrame(data = self.prices.values[n:,]/self.prices.values[:-n,]-1,\n",
    "                               index = self.prices[n:].index,\n",
    "                               columns = self.prices.columns)\n",
    "        \n",
    "        returns['Portfolio'] = returns.apply(lambda x: np.dot(x,self.weights),axis = 1)\n",
    "        return returns\n",
    "    \n",
    "    \n",
    "    def calculate_VaR(self,n,confidence):\n",
    "        r = self.get_returns(n)['Portfolio']\n",
    "        return np.percentile(r,q = (1-confidence)*100)\n",
    "    \n",
    "    def calculate_CVar(self,n,confidence):\n",
    "        r = self.get_returns(n)['Portfolio']\n",
    "        VaR = self.calculate_VaR(n,confidence)\n",
    "        return np.mean(r[r<=VaR])\n",
    "    \n",
    "    def change_weights(self,weights):\n",
    "        self.weights = weights\n",
    "        self.returns['Portfolio'] = self.returns.drop('Portfolio',axis=1).apply(lambda x: np.dot(x,self.weights),axis = 1)\n",
    "        "
   ]
  },
  {
   "cell_type": "code",
   "execution_count": 179,
   "metadata": {},
   "outputs": [],
   "source": [
    "h = Historical_Simulation(['DLF.NS','NTPC.NS','HDFC.NS'],[1,1,1],'2017-10-01','2019-10-01')"
   ]
  },
  {
   "cell_type": "code",
   "execution_count": 5,
   "metadata": {},
   "outputs": [
    {
     "name": "stdout",
     "output_type": "stream",
     "text": [
      "1-Day, 99% VaR and CVaR for each Stock\n",
      "          VaR  CVaR\n",
      "DLF.NS  -0.07 -0.11\n",
      "NTPC.NS -0.04 -0.04\n",
      "HDFC.NS -0.04 -0.05\n"
     ]
    }
   ],
   "source": [
    "w = np.eye(3)\n",
    "table = pd.DataFrame(np.zeros((3,2)),columns = ['VaR','CVaR'])\n",
    "for i in range(w.shape[0]):\n",
    "    h.change_weights(w[i,:])\n",
    "    table.iloc[i,0] = h.calculate_VaR(1,0.99)\n",
    "    table.iloc[i,1] = h.calculate_CVar(1,0.99)\n",
    "table.index = ['DLF.NS','NTPC.NS','HDFC.NS']\n",
    "print('1-Day, 99% VaR and CVaR for each Stock')\n",
    "print(np.round(table,2))"
   ]
  },
  {
   "cell_type": "markdown",
   "metadata": {},
   "source": [
    "Above table shows the 1-day, 99% VaR and Expected Shortfall for each stock in proportion to the amount invested.\n",
    "\n",
    "For example, 1-Day,99% VaR of DLF is 7%. This means that we can be 99% sure that the loss over one day will not exceed 7%.\n",
    "\n",
    "Similarly, the 1-Day 99% CVaR or Expected Shortfall for DLF is 11%. This means that if the loss on the stock exceeds the 99% VaR, we expect the loss to be an average of 11%."
   ]
  },
  {
   "cell_type": "markdown",
   "metadata": {},
   "source": [
    "The reults for an equally weighted portfolio of the three stocks is shown below:"
   ]
  },
  {
   "cell_type": "code",
   "execution_count": 185,
   "metadata": {},
   "outputs": [
    {
     "name": "stdout",
     "output_type": "stream",
     "text": [
      "Equally weighted Portfolio:\n",
      "1-Day 99% VaR  : -0.106\n",
      "1-Day 99% CVaR : -0.147\n"
     ]
    }
   ],
   "source": [
    "h.change_weights([1,1,1])\n",
    "print('Equally weighted Portfolio:')\n",
    "print('1-Day 99% VaR  :',np.round(h.calculate_VaR(1,0.99),3))\n",
    "print('1-Day 99% CVaR :',np.round(h.calculate_CVar(1,0.99),3))"
   ]
  },
  {
   "cell_type": "markdown",
   "metadata": {},
   "source": [
    "It can be seen the VaR of the portfolio is less than the sum of the VaRs of the individual stocks. This is because of the less than perfect correlation between the stocks. Checking the correlation matrix:"
   ]
  },
  {
   "cell_type": "code",
   "execution_count": 182,
   "metadata": {},
   "outputs": [
    {
     "data": {
      "text/plain": [
       "array([[1.        , 0.2143877 , 0.29848575],\n",
       "       [0.2143877 , 1.        , 0.16803448],\n",
       "       [0.29848575, 0.16803448, 1.        ]])"
      ]
     },
     "execution_count": 182,
     "metadata": {},
     "output_type": "execute_result"
    }
   ],
   "source": [
    "np.corrcoef(h.returns.drop('Portfolio',axis=1),rowvar=False)"
   ]
  },
  {
   "cell_type": "markdown",
   "metadata": {},
   "source": [
    " "
   ]
  },
  {
   "cell_type": "markdown",
   "metadata": {},
   "source": [
    "**2. Model Building Approach**"
   ]
  },
  {
   "cell_type": "markdown",
   "metadata": {},
   "source": [
    "Model Building Approach assumes a parametric distribution for the returns. The covariance matrix for the returns can be found using different methods. Here we will use the following approaches to calculate volatility and correlation.\n",
    "1. Based on historical data\n",
    "2. EWMA Method"
   ]
  },
  {
   "cell_type": "code",
   "execution_count": 155,
   "metadata": {},
   "outputs": [],
   "source": [
    "class covariance_matrix_EWMA():\n",
    "    def __init__(self,returns):\n",
    "        self.returns = returns\n",
    "        self.l_opt = self.l_optimum()\n",
    "    \n",
    "    def cv_update(self,x,y,l=0.94):\n",
    "        cv = []\n",
    "        cv.append(x[0]*y[0])\n",
    "        for i in range(1,len(x)):\n",
    "            cv.append(l*cv[i-1]+(1-l)*x[i-1]*y[i-1])\n",
    "        return cv\n",
    "    \n",
    "    def cov_matrix(self,l=0.94):\n",
    "        n = len(self.returns.columns)\n",
    "        cv_matrix = np.empty(shape=(n,n))\n",
    "        for i in range(n):\n",
    "            for j in range(n):\n",
    "                cv_matrix[i,j] = (self.cv_update(x=self.returns.iloc[:,i].values,\n",
    "                                     y =self.returns.iloc[:,j].values,\n",
    "                                     l =l)[-1])\n",
    "        return cv_matrix\n",
    "    \n",
    "    def likelihood_fn(self,cv_matrix):\n",
    "        if np.ndim(cv_matrix) >1:\n",
    "            cv_det = np.linalg.det(cv_matrix)\n",
    "            cv_inv = np.linalg.inv(cv_matrix)\n",
    "        else:\n",
    "            cv_det =cv_matrix\n",
    "            cv_inv = cv_matrix\n",
    "        f = lambda x: -np.matmul(np.matmul(np.transpose(x),cv_inv),x)-np.log(cv_det)\n",
    "        logL = self.returns.apply(f,axis=1,raw=True)\n",
    "        return np.sum(logL)*-1\n",
    "    \n",
    "    def obj_fn(self,l_var):\n",
    "        c = self.cov_matrix(l_var)\n",
    "        return self.likelihood_fn(c)\n",
    "        \n",
    "    def l_optimum(self):\n",
    "        return opt.minimize_scalar(self.obj_fn,bounds=(0.0001,1),method ='Bounded').x\n",
    "    \n",
    "    def get_EWMA_covmatrix(self):\n",
    "        return self.cov_matrix(self.l_opt)\n",
    "                "
   ]
  },
  {
   "cell_type": "code",
   "execution_count": 156,
   "metadata": {},
   "outputs": [
    {
     "data": {
      "text/plain": [
       "array([[7.09156302e-04, 8.57877747e-05, 1.39230412e-04],\n",
       "       [8.57877747e-05, 2.04510607e-04, 2.87050337e-05],\n",
       "       [1.39230412e-04, 2.87050337e-05, 2.20007969e-04]])"
      ]
     },
     "execution_count": 156,
     "metadata": {},
     "output_type": "execute_result"
    }
   ],
   "source": [
    "g.get_covmatrix()"
   ]
  },
  {
   "cell_type": "code",
   "execution_count": 205,
   "metadata": {},
   "outputs": [],
   "source": [
    "class model_approach():\n",
    "    def __init__(self,stock_tickers,amt,start_date,end_date,EWMA=False):\n",
    "        self.tickers = stock_tickers\n",
    "        self.EWMA_method = EWMA\n",
    "        self.amt = amt\n",
    "        self.weights = amt/np.sum(amt)\n",
    "        self.prices = self.get_prices(start_date,end_date)\n",
    "        self.returns = self.get_returns(1)\n",
    "        self.cv_matrix = self.cv_matrix()\n",
    "        \n",
    "    def get_prices(self,start_date,end_date):\n",
    "        s = pd.DataFrame()\n",
    "        for i in self.tickers:\n",
    "            b = stock_info.get_data(i,start_date,end_date)['adjclose']\n",
    "            s[i] =b\n",
    "        return s.dropna()\n",
    "    \n",
    "    def get_returns(self,n):\n",
    "        returns = pd.DataFrame(data = self.prices.values[n:,]/self.prices.values[:-n,]-1,\n",
    "                               index = self.prices[n:].index,\n",
    "                               columns = self.prices.columns)\n",
    "        \n",
    "        return returns\n",
    "    \n",
    "    def cv_matrix(self):\n",
    "        if self.EWMA_method == True:\n",
    "            c = covariance_matrix_EWMA(self.returns).get_EWMA_covmatrix()\n",
    "        else:\n",
    "            c = np.cov(self.returns,rowvar=False)\n",
    "        return c\n",
    "    \n",
    "    def portfolio_variance(self):\n",
    "        return np.matmul(np.matmul(np.transpose(self.weights),\n",
    "                         self.cv_matrix),self.weights)\n",
    "    \n",
    "    def calculate_VaR(self,n,confidence):\n",
    "        z = st.norm.ppf(1-confidence)        \n",
    "        v = self.portfolio_variance()\n",
    "        return z*(v*n)**0.5*np.sum(self.amt)\n",
    "    \n",
    "    def calculate_CVaR(self,n,confidence):\n",
    "        z = st.norm.ppf(1-confidence)\n",
    "        Y = self.calculate_VaR(n,confidence)\n",
    "        v = self.portfolio_variance()\n",
    "        return -((v*n/(2*np.pi))**0.5)*np.exp(-z**2/2)/(1-confidence)*np.sum(self.amt)\n",
    "    \n",
    "    def change_weights(self,amt):\n",
    "        self.amt = amt\n",
    "        self.weights = amt/np.sum(amt)\n",
    " "
   ]
  },
  {
   "cell_type": "code",
   "execution_count": 210,
   "metadata": {},
   "outputs": [],
   "source": [
    "m =model_approach(['DLF.NS','NTPC.NS','HDFC.NS'],[1,1,1],'2017-10-01','2019-10-01',EWMA=False)"
   ]
  },
  {
   "cell_type": "code",
   "execution_count": 216,
   "metadata": {},
   "outputs": [
    {
     "name": "stdout",
     "output_type": "stream",
     "text": [
      "1-Day, 99% VaR and CVaR for each Stock\n",
      "          VaR  CVaR\n",
      "DLF.NS  -0.06 -0.07\n",
      "NTPC.NS -0.03 -0.04\n",
      "HDFC.NS -0.03 -0.04\n"
     ]
    }
   ],
   "source": [
    "w = np.eye(3)\n",
    "table = pd.DataFrame(np.zeros((3,2)),columns = ['VaR','CVaR'])\n",
    "for i in range(w.shape[0]):\n",
    "    m.change_weights(w[i,:])\n",
    "    table.iloc[i,0] = m.calculate_VaR(1,0.99)\n",
    "    table.iloc[i,1] = m.calculate_CVaR(1,0.99)\n",
    "table.index = ['DLF.NS','NTPC.NS','HDFC.NS']\n",
    "print('1-Day, 99% VaR and CVaR for each Stock')\n",
    "print(np.round(table,2))"
   ]
  },
  {
   "cell_type": "code",
   "execution_count": 217,
   "metadata": {},
   "outputs": [
    {
     "name": "stdout",
     "output_type": "stream",
     "text": [
      "Equally weighted Portfolio:\n",
      "1-Day 99% VaR  : -0.094\n",
      "1-Day 99% CVaR : -0.107\n"
     ]
    }
   ],
   "source": [
    "m.change_weights([1,1,1])\n",
    "print('Equally weighted Portfolio:')\n",
    "print('1-Day 99% VaR  :',np.round(m.calculate_VaR(1,0.99),3))\n",
    "print('1-Day 99% CVaR :',np.round(m.calculate_CVaR(1,0.99),3))"
   ]
  }
 ],
 "metadata": {
  "kernelspec": {
   "display_name": "Python 3",
   "language": "python",
   "name": "python3"
  },
  "language_info": {
   "codemirror_mode": {
    "name": "ipython",
    "version": 3
   },
   "file_extension": ".py",
   "mimetype": "text/x-python",
   "name": "python",
   "nbconvert_exporter": "python",
   "pygments_lexer": "ipython3",
   "version": "3.8.5"
  }
 },
 "nbformat": 4,
 "nbformat_minor": 4
}
