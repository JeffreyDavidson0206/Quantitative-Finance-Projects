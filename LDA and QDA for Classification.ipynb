{
 "cells": [
  {
   "cell_type": "markdown",
   "metadata": {},
   "source": [
    "# Linear Discriminant Analysis"
   ]
  },
  {
   "cell_type": "code",
   "execution_count": 249,
   "metadata": {},
   "outputs": [],
   "source": [
    "import numpy as np\n",
    "import matplotlib.pyplot as plt\n",
    "from sklearn.datasets import load_iris\n",
    "import pandas as pd\n",
    "from sklearn import model_selection\n",
    "import scipy.stats as st\n",
    "import seaborn as sns"
   ]
  },
  {
   "cell_type": "markdown",
   "metadata": {},
   "source": [
    "LDA can be used to classify observations into more than 2 classes. The objective here is to apply LDA to the iris dataset."
   ]
  },
  {
   "cell_type": "code",
   "execution_count": 250,
   "metadata": {},
   "outputs": [],
   "source": [
    "data = load_iris(as_frame= True)['data']\n",
    "clas = load_iris(as_frame= True)['target']"
   ]
  },
  {
   "cell_type": "markdown",
   "metadata": {},
   "source": [
    "Test-Train Split:"
   ]
  },
  {
   "cell_type": "code",
   "execution_count": 251,
   "metadata": {},
   "outputs": [],
   "source": [
    "X_train, X_test, y_train, y_test = model_selection.train_test_split(data.iloc[:,:2],clas,test_size=0.2,random_state=100)"
   ]
  },
  {
   "cell_type": "markdown",
   "metadata": {},
   "source": [
    "In LDA, we are trying to classify each of the observation to the most likely class by figuring out the conditional probability that an observation belongs to a class. Mathematically it can be represented as: $Pr(Y=k|X=x)$. From bayes theorem, it is known that $Pr(Y=k|X=x) =  \\frac {\\pi_kf(X=x|Y=k)}{\\sum^k_{j=1}\\pi_jf(X=x|Y=j)}$, <br>\n",
    "where $\\pi_k$ is the prior probability that an observation belongs to the k-class, $f(X=x|Y=k)$ is the conditional probability density of an observation given it belongs to the k-class."
   ]
  },
  {
   "cell_type": "markdown",
   "metadata": {},
   "source": [
    "In LDA we assume that the conditional density is a multivariate normal distribution with a common covariance matrix for all classes. All the parameters required to compute the posterior probability is calculated from the training data set. For simplicity, only two features are considered here. So the conditional pdf becomes a bivariate normal pdf $\\frac {1}{2\\pi\\sigma_x\\sigma_y(1-\\rho^2)}e^{-\\frac{1}{2(1-\\rho^2)}((\\frac{x-\\mu_{x}}{\\sigma_x^2})^2+(\\frac{y-\\mu_{y}}{\\sigma_y^2})^2-\\rho(2(\\frac{x-\\mu_x}{\\sigma_x})(\\frac{y-\\mu_y}{\\sigma_y}))}.$"
   ]
  },
  {
   "cell_type": "code",
   "execution_count": 252,
   "metadata": {},
   "outputs": [],
   "source": [
    "def parameters(x,y):\n",
    "    k=3 #three classes in data\n",
    "    mu_x1 = []\n",
    "    mu_x2 = []\n",
    "    pi =[]\n",
    "    for i in range(k):\n",
    "        mu_x1.append(np.mean(x.iloc[:,0][y==i]))\n",
    "        mu_x2.append(np.mean(x.iloc[:,1][y==i]))\n",
    "        pi.append(np.mean(y==i))\n",
    "    #s1 = np.std(x.iloc[:,0])\n",
    "    #s2 = np.std(x.iloc[:,1])\n",
    "    cov= np.cov(x,rowvar=False)\n",
    "    return mu_x1,mu_x2,pi,cov\n",
    "    "
   ]
  },
  {
   "cell_type": "code",
   "execution_count": 253,
   "metadata": {},
   "outputs": [],
   "source": [
    "mu_x1,mu_x2,pi,cov = parameters(X_train,y_train)"
   ]
  },
  {
   "cell_type": "code",
   "execution_count": 254,
   "metadata": {},
   "outputs": [],
   "source": [
    "mu_k = list(zip(mu_x1,mu_x2))"
   ]
  },
  {
   "cell_type": "code",
   "execution_count": 255,
   "metadata": {},
   "outputs": [
    {
     "data": {
      "text/plain": [
       "[(4.97948717948718, 3.4153846153846157),\n",
       " (5.8999999999999995, 2.7750000000000004),\n",
       " (6.510810810810812, 2.9918918918918918)]"
      ]
     },
     "execution_count": 255,
     "metadata": {},
     "output_type": "execute_result"
    }
   ],
   "source": [
    "mu_k"
   ]
  },
  {
   "cell_type": "code",
   "execution_count": 297,
   "metadata": {},
   "outputs": [],
   "source": [
    "def posterior_prob(x,pi,mu_k,cov):\n",
    "    posterior_prob = pd.DataFrame()\n",
    "    for i in range(len(pi)):\n",
    "        posterior_prob['Prob_class'+str(i+1)] = x.apply(lambda r:st.multivariate_normal.pdf(r,mean=mu_k[i],cov=cov),axis=1)*pi[i]\n",
    "    sum_val = np.sum(posterior_prob,axis=1)\n",
    "    for i in range(len(pi)):\n",
    "        posterior_prob['Prob_class'+str(i+1)] = posterior_prob['Prob_class'+str(i+1)]/sum_val\n",
    "    return posterior_prob   "
   ]
  },
  {
   "cell_type": "code",
   "execution_count": 257,
   "metadata": {},
   "outputs": [],
   "source": [
    "prob =posterior_prob(X_train,pi,mu_k,cov)"
   ]
  },
  {
   "cell_type": "code",
   "execution_count": 258,
   "metadata": {},
   "outputs": [
    {
     "data": {
      "text/html": [
       "<div>\n",
       "<style scoped>\n",
       "    .dataframe tbody tr th:only-of-type {\n",
       "        vertical-align: middle;\n",
       "    }\n",
       "\n",
       "    .dataframe tbody tr th {\n",
       "        vertical-align: top;\n",
       "    }\n",
       "\n",
       "    .dataframe thead th {\n",
       "        text-align: right;\n",
       "    }\n",
       "</style>\n",
       "<table border=\"1\" class=\"dataframe\">\n",
       "  <thead>\n",
       "    <tr style=\"text-align: right;\">\n",
       "      <th></th>\n",
       "      <th>Prob_class1</th>\n",
       "      <th>Prob_class2</th>\n",
       "      <th>Prob_class3</th>\n",
       "    </tr>\n",
       "  </thead>\n",
       "  <tbody>\n",
       "    <tr>\n",
       "      <th>81</th>\n",
       "      <td>0.064582</td>\n",
       "      <td>0.758716</td>\n",
       "      <td>0.176702</td>\n",
       "    </tr>\n",
       "    <tr>\n",
       "      <th>99</th>\n",
       "      <td>0.140514</td>\n",
       "      <td>0.587527</td>\n",
       "      <td>0.271959</td>\n",
       "    </tr>\n",
       "    <tr>\n",
       "      <th>119</th>\n",
       "      <td>0.017192</td>\n",
       "      <td>0.757667</td>\n",
       "      <td>0.225141</td>\n",
       "    </tr>\n",
       "    <tr>\n",
       "      <th>12</th>\n",
       "      <td>0.552107</td>\n",
       "      <td>0.359670</td>\n",
       "      <td>0.088224</td>\n",
       "    </tr>\n",
       "    <tr>\n",
       "      <th>16</th>\n",
       "      <td>0.846147</td>\n",
       "      <td>0.065964</td>\n",
       "      <td>0.087889</td>\n",
       "    </tr>\n",
       "    <tr>\n",
       "      <th>...</th>\n",
       "      <td>...</td>\n",
       "      <td>...</td>\n",
       "      <td>...</td>\n",
       "    </tr>\n",
       "    <tr>\n",
       "      <th>87</th>\n",
       "      <td>0.014271</td>\n",
       "      <td>0.679532</td>\n",
       "      <td>0.306197</td>\n",
       "    </tr>\n",
       "    <tr>\n",
       "      <th>103</th>\n",
       "      <td>0.070817</td>\n",
       "      <td>0.478614</td>\n",
       "      <td>0.450569</td>\n",
       "    </tr>\n",
       "    <tr>\n",
       "      <th>67</th>\n",
       "      <td>0.094246</td>\n",
       "      <td>0.624021</td>\n",
       "      <td>0.281733</td>\n",
       "    </tr>\n",
       "    <tr>\n",
       "      <th>24</th>\n",
       "      <td>0.801081</td>\n",
       "      <td>0.141997</td>\n",
       "      <td>0.056922</td>\n",
       "    </tr>\n",
       "    <tr>\n",
       "      <th>8</th>\n",
       "      <td>0.623243</td>\n",
       "      <td>0.328563</td>\n",
       "      <td>0.048194</td>\n",
       "    </tr>\n",
       "  </tbody>\n",
       "</table>\n",
       "<p>120 rows × 3 columns</p>\n",
       "</div>"
      ],
      "text/plain": [
       "     Prob_class1  Prob_class2  Prob_class3\n",
       "81      0.064582     0.758716     0.176702\n",
       "99      0.140514     0.587527     0.271959\n",
       "119     0.017192     0.757667     0.225141\n",
       "12      0.552107     0.359670     0.088224\n",
       "16      0.846147     0.065964     0.087889\n",
       "..           ...          ...          ...\n",
       "87      0.014271     0.679532     0.306197\n",
       "103     0.070817     0.478614     0.450569\n",
       "67      0.094246     0.624021     0.281733\n",
       "24      0.801081     0.141997     0.056922\n",
       "8       0.623243     0.328563     0.048194\n",
       "\n",
       "[120 rows x 3 columns]"
      ]
     },
     "execution_count": 258,
     "metadata": {},
     "output_type": "execute_result"
    }
   ],
   "source": [
    "prob"
   ]
  },
  {
   "cell_type": "markdown",
   "metadata": {},
   "source": [
    "The observations can be classified based on their posterior probabilities. A simple way is to choose the class with the highest posterior probability."
   ]
  },
  {
   "cell_type": "code",
   "execution_count": 259,
   "metadata": {},
   "outputs": [],
   "source": [
    "predict_clas_train = prob.apply(lambda x: np.argmax(x),axis=1)"
   ]
  },
  {
   "cell_type": "code",
   "execution_count": 260,
   "metadata": {},
   "outputs": [],
   "source": [
    "m =pd.DataFrame({'Predicted_Class':predict_clas_train,'Actual Class':y_train})"
   ]
  },
  {
   "cell_type": "code",
   "execution_count": 261,
   "metadata": {},
   "outputs": [
    {
     "data": {
      "text/html": [
       "<div>\n",
       "<style scoped>\n",
       "    .dataframe tbody tr th:only-of-type {\n",
       "        vertical-align: middle;\n",
       "    }\n",
       "\n",
       "    .dataframe tbody tr th {\n",
       "        vertical-align: top;\n",
       "    }\n",
       "\n",
       "    .dataframe thead th {\n",
       "        text-align: right;\n",
       "    }\n",
       "</style>\n",
       "<table border=\"1\" class=\"dataframe\">\n",
       "  <thead>\n",
       "    <tr style=\"text-align: right;\">\n",
       "      <th>Actual Class</th>\n",
       "      <th>0</th>\n",
       "      <th>1</th>\n",
       "      <th>2</th>\n",
       "    </tr>\n",
       "    <tr>\n",
       "      <th>Predicted_Class</th>\n",
       "      <th></th>\n",
       "      <th></th>\n",
       "      <th></th>\n",
       "    </tr>\n",
       "  </thead>\n",
       "  <tbody>\n",
       "    <tr>\n",
       "      <th>0</th>\n",
       "      <td>38</td>\n",
       "      <td>0</td>\n",
       "      <td>0</td>\n",
       "    </tr>\n",
       "    <tr>\n",
       "      <th>1</th>\n",
       "      <td>1</td>\n",
       "      <td>33</td>\n",
       "      <td>16</td>\n",
       "    </tr>\n",
       "    <tr>\n",
       "      <th>2</th>\n",
       "      <td>0</td>\n",
       "      <td>11</td>\n",
       "      <td>21</td>\n",
       "    </tr>\n",
       "  </tbody>\n",
       "</table>\n",
       "</div>"
      ],
      "text/plain": [
       "Actual Class      0   1   2\n",
       "Predicted_Class            \n",
       "0                38   0   0\n",
       "1                 1  33  16\n",
       "2                 0  11  21"
      ]
     },
     "execution_count": 261,
     "metadata": {},
     "output_type": "execute_result"
    }
   ],
   "source": [
    "pd.crosstab(index=m['Predicted_Class'],columns=m['Actual Class'])"
   ]
  },
  {
   "cell_type": "code",
   "execution_count": 262,
   "metadata": {},
   "outputs": [
    {
     "data": {
      "text/plain": [
       "<matplotlib.legend.Legend at 0xb71bc40>"
      ]
     },
     "execution_count": 262,
     "metadata": {},
     "output_type": "execute_result"
    },
    {
     "data": {
      "image/png": "[encoded data removed]",
      "text/plain": [
       "<Figure size 1500x600 with 1 Axes>"
      ]
     },
     "metadata": {
      "needs_background": "light"
     },
     "output_type": "display_data"
    }
   ],
   "source": [
    "plt.figure(figsize=(10,4),dpi=150)\n",
    "sns.scatterplot(x = X_train.iloc[:,0],y =X_train.iloc[:,1],\n",
    "                hue =m['Actual Class'],style=m['Predicted_Class'],\n",
    "                palette='Set1')\n",
    "\n",
    "plt.title('LDA Classification based on two features')\n",
    "plt.legend(loc=(1.02,0))"
   ]
  },
  {
   "cell_type": "markdown",
   "metadata": {},
   "source": [
    "From the above graph and table, we can see that the using the two features, class 0 can be predicted. For the other two classes, the accuracy may improve when we use more features."
   ]
  },
  {
   "cell_type": "markdown",
   "metadata": {},
   "source": [
    "Using all the features:"
   ]
  },
  {
   "cell_type": "code",
   "execution_count": 263,
   "metadata": {},
   "outputs": [],
   "source": [
    "def parameters(x,y):\n",
    "    k=3 #three classes in data\n",
    "    mu_x1 = []\n",
    "    mu_x2 = []\n",
    "    mu_x3 = []\n",
    "    mu_x4 = []\n",
    "    pi =[]\n",
    "    for i in range(k):\n",
    "        mu_x1.append(np.mean(x.iloc[:,0][y==i]))\n",
    "        mu_x2.append(np.mean(x.iloc[:,1][y==i]))\n",
    "        mu_x3.append(np.mean(x.iloc[:,2][y==i]))\n",
    "        mu_x4.append(np.mean(x.iloc[:,3][y==i]))\n",
    "        pi.append(np.mean(y==i))\n",
    "    #s1 = np.std(x.iloc[:,0])\n",
    "    #s2 = np.std(x.iloc[:,1])\n",
    "    cov= np.cov(x,rowvar=False)\n",
    "    return mu_x1,mu_x2,mu_x3,mu_x4,pi,cov"
   ]
  },
  {
   "cell_type": "code",
   "execution_count": 264,
   "metadata": {},
   "outputs": [],
   "source": [
    "X_train, X_test, y_train, y_test = model_selection.train_test_split(data,clas,test_size=0.2,random_state=100)\n",
    "mu_x1,mu_x2,mu_x3,mu_x4,pi,cov = parameters(X_train,y_train)\n",
    "mu_k = list(zip(mu_x1,mu_x2,mu_x3,mu_x4))"
   ]
  },
  {
   "cell_type": "code",
   "execution_count": 265,
   "metadata": {},
   "outputs": [],
   "source": [
    "prob =posterior_prob(X_train,pi,mu_k,cov)"
   ]
  },
  {
   "cell_type": "code",
   "execution_count": 266,
   "metadata": {},
   "outputs": [
    {
     "data": {
      "text/html": [
       "<div>\n",
       "<style scoped>\n",
       "    .dataframe tbody tr th:only-of-type {\n",
       "        vertical-align: middle;\n",
       "    }\n",
       "\n",
       "    .dataframe tbody tr th {\n",
       "        vertical-align: top;\n",
       "    }\n",
       "\n",
       "    .dataframe thead th {\n",
       "        text-align: right;\n",
       "    }\n",
       "</style>\n",
       "<table border=\"1\" class=\"dataframe\">\n",
       "  <thead>\n",
       "    <tr style=\"text-align: right;\">\n",
       "      <th></th>\n",
       "      <th>Prob_class1</th>\n",
       "      <th>Prob_class2</th>\n",
       "      <th>Prob_class3</th>\n",
       "    </tr>\n",
       "  </thead>\n",
       "  <tbody>\n",
       "    <tr>\n",
       "      <th>81</th>\n",
       "      <td>0.076718</td>\n",
       "      <td>0.843005</td>\n",
       "      <td>0.080277</td>\n",
       "    </tr>\n",
       "    <tr>\n",
       "      <th>99</th>\n",
       "      <td>0.117819</td>\n",
       "      <td>0.627964</td>\n",
       "      <td>0.254217</td>\n",
       "    </tr>\n",
       "    <tr>\n",
       "      <th>119</th>\n",
       "      <td>0.019113</td>\n",
       "      <td>0.869434</td>\n",
       "      <td>0.111453</td>\n",
       "    </tr>\n",
       "    <tr>\n",
       "      <th>12</th>\n",
       "      <td>0.635764</td>\n",
       "      <td>0.335929</td>\n",
       "      <td>0.028308</td>\n",
       "    </tr>\n",
       "    <tr>\n",
       "      <th>16</th>\n",
       "      <td>0.905874</td>\n",
       "      <td>0.045593</td>\n",
       "      <td>0.048533</td>\n",
       "    </tr>\n",
       "    <tr>\n",
       "      <th>...</th>\n",
       "      <td>...</td>\n",
       "      <td>...</td>\n",
       "      <td>...</td>\n",
       "    </tr>\n",
       "    <tr>\n",
       "      <th>87</th>\n",
       "      <td>0.037378</td>\n",
       "      <td>0.873672</td>\n",
       "      <td>0.088950</td>\n",
       "    </tr>\n",
       "    <tr>\n",
       "      <th>103</th>\n",
       "      <td>0.035680</td>\n",
       "      <td>0.504638</td>\n",
       "      <td>0.459682</td>\n",
       "    </tr>\n",
       "    <tr>\n",
       "      <th>67</th>\n",
       "      <td>0.090260</td>\n",
       "      <td>0.800121</td>\n",
       "      <td>0.109619</td>\n",
       "    </tr>\n",
       "    <tr>\n",
       "      <th>24</th>\n",
       "      <td>0.708437</td>\n",
       "      <td>0.240502</td>\n",
       "      <td>0.051060</td>\n",
       "    </tr>\n",
       "    <tr>\n",
       "      <th>8</th>\n",
       "      <td>0.607222</td>\n",
       "      <td>0.355544</td>\n",
       "      <td>0.037234</td>\n",
       "    </tr>\n",
       "  </tbody>\n",
       "</table>\n",
       "<p>120 rows × 3 columns</p>\n",
       "</div>"
      ],
      "text/plain": [
       "     Prob_class1  Prob_class2  Prob_class3\n",
       "81      0.076718     0.843005     0.080277\n",
       "99      0.117819     0.627964     0.254217\n",
       "119     0.019113     0.869434     0.111453\n",
       "12      0.635764     0.335929     0.028308\n",
       "16      0.905874     0.045593     0.048533\n",
       "..           ...          ...          ...\n",
       "87      0.037378     0.873672     0.088950\n",
       "103     0.035680     0.504638     0.459682\n",
       "67      0.090260     0.800121     0.109619\n",
       "24      0.708437     0.240502     0.051060\n",
       "8       0.607222     0.355544     0.037234\n",
       "\n",
       "[120 rows x 3 columns]"
      ]
     },
     "execution_count": 266,
     "metadata": {},
     "output_type": "execute_result"
    }
   ],
   "source": [
    "prob"
   ]
  },
  {
   "cell_type": "code",
   "execution_count": 267,
   "metadata": {},
   "outputs": [
    {
     "data": {
      "text/html": [
       "<div>\n",
       "<style scoped>\n",
       "    .dataframe tbody tr th:only-of-type {\n",
       "        vertical-align: middle;\n",
       "    }\n",
       "\n",
       "    .dataframe tbody tr th {\n",
       "        vertical-align: top;\n",
       "    }\n",
       "\n",
       "    .dataframe thead th {\n",
       "        text-align: right;\n",
       "    }\n",
       "</style>\n",
       "<table border=\"1\" class=\"dataframe\">\n",
       "  <thead>\n",
       "    <tr style=\"text-align: right;\">\n",
       "      <th>Actual Class</th>\n",
       "      <th>0</th>\n",
       "      <th>1</th>\n",
       "      <th>2</th>\n",
       "    </tr>\n",
       "    <tr>\n",
       "      <th>Predicted_Class</th>\n",
       "      <th></th>\n",
       "      <th></th>\n",
       "      <th></th>\n",
       "    </tr>\n",
       "  </thead>\n",
       "  <tbody>\n",
       "    <tr>\n",
       "      <th>0</th>\n",
       "      <td>38</td>\n",
       "      <td>0</td>\n",
       "      <td>0</td>\n",
       "    </tr>\n",
       "    <tr>\n",
       "      <th>1</th>\n",
       "      <td>1</td>\n",
       "      <td>39</td>\n",
       "      <td>10</td>\n",
       "    </tr>\n",
       "    <tr>\n",
       "      <th>2</th>\n",
       "      <td>0</td>\n",
       "      <td>5</td>\n",
       "      <td>27</td>\n",
       "    </tr>\n",
       "  </tbody>\n",
       "</table>\n",
       "</div>"
      ],
      "text/plain": [
       "Actual Class      0   1   2\n",
       "Predicted_Class            \n",
       "0                38   0   0\n",
       "1                 1  39  10\n",
       "2                 0   5  27"
      ]
     },
     "execution_count": 267,
     "metadata": {},
     "output_type": "execute_result"
    }
   ],
   "source": [
    "predict_clas_train = prob.apply(lambda x: np.argmax(x),axis=1)\n",
    "m =pd.DataFrame({'Predicted_Class':predict_clas_train,'Actual Class':y_train})\n",
    "pd.crosstab(index=m['Predicted_Class'],columns=m['Actual Class'])"
   ]
  },
  {
   "cell_type": "markdown",
   "metadata": {},
   "source": [
    "As we can see, the use of all four features has increased the accuracy in predicting the observations in classes 1 and 2. Using the test data we measure the accuracy of the LDA model."
   ]
  },
  {
   "cell_type": "code",
   "execution_count": 268,
   "metadata": {},
   "outputs": [
    {
     "data": {
      "text/html": [
       "<div>\n",
       "<style scoped>\n",
       "    .dataframe tbody tr th:only-of-type {\n",
       "        vertical-align: middle;\n",
       "    }\n",
       "\n",
       "    .dataframe tbody tr th {\n",
       "        vertical-align: top;\n",
       "    }\n",
       "\n",
       "    .dataframe thead th {\n",
       "        text-align: right;\n",
       "    }\n",
       "</style>\n",
       "<table border=\"1\" class=\"dataframe\">\n",
       "  <thead>\n",
       "    <tr style=\"text-align: right;\">\n",
       "      <th>Actual Class</th>\n",
       "      <th>0</th>\n",
       "      <th>1</th>\n",
       "      <th>2</th>\n",
       "    </tr>\n",
       "    <tr>\n",
       "      <th>Predicted_Class</th>\n",
       "      <th></th>\n",
       "      <th></th>\n",
       "      <th></th>\n",
       "    </tr>\n",
       "  </thead>\n",
       "  <tbody>\n",
       "    <tr>\n",
       "      <th>0</th>\n",
       "      <td>11</td>\n",
       "      <td>0</td>\n",
       "      <td>0</td>\n",
       "    </tr>\n",
       "    <tr>\n",
       "      <th>1</th>\n",
       "      <td>0</td>\n",
       "      <td>6</td>\n",
       "      <td>4</td>\n",
       "    </tr>\n",
       "    <tr>\n",
       "      <th>2</th>\n",
       "      <td>0</td>\n",
       "      <td>0</td>\n",
       "      <td>9</td>\n",
       "    </tr>\n",
       "  </tbody>\n",
       "</table>\n",
       "</div>"
      ],
      "text/plain": [
       "Actual Class      0  1  2\n",
       "Predicted_Class          \n",
       "0                11  0  0\n",
       "1                 0  6  4\n",
       "2                 0  0  9"
      ]
     },
     "execution_count": 268,
     "metadata": {},
     "output_type": "execute_result"
    }
   ],
   "source": [
    "prob_test =posterior_prob(X_test,pi,mu_k,cov)\n",
    "predict_clas_test = prob_test.apply(lambda x: np.argmax(x),axis=1)\n",
    "m =pd.DataFrame({'Predicted_Class':predict_clas_test,'Actual Class':y_test})\n",
    "pd.crosstab(index=m['Predicted_Class'],columns=m['Actual Class'])"
   ]
  },
  {
   "cell_type": "code",
   "execution_count": 269,
   "metadata": {},
   "outputs": [
    {
     "name": "stdout",
     "output_type": "stream",
     "text": [
      "The error rate of LDA for the iris dataset is estimated to be 0.13333333333333333\n"
     ]
    }
   ],
   "source": [
    "error_rate = sum(m['Predicted_Class']-m['Actual Class']!=0)/len(m)\n",
    "print(f'The error rate of LDA for the iris dataset is estimated to be {error_rate}')"
   ]
  },
  {
   "cell_type": "markdown",
   "metadata": {},
   "source": [
    "# Quadratic Discriminant Analysis"
   ]
  },
  {
   "cell_type": "markdown",
   "metadata": {},
   "source": [
    "The QDA is similar to LDA in that it assumes a multivariate normal pdf as the conditional pdf but it doesnot assume a constant covariance matrix for all classes. All other ideas are the same as LDA."
   ]
  },
  {
   "cell_type": "code",
   "execution_count": 272,
   "metadata": {},
   "outputs": [],
   "source": [
    "def parameters_QDA(x,y):\n",
    "    k=len(np.unique(y)) #three classes in data\n",
    "    mu_x1 = []\n",
    "    mu_x2 = []\n",
    "    mu_x3 = []\n",
    "    mu_x4 = []\n",
    "    cov =[]\n",
    "    pi =[]\n",
    "    for i in range(k):\n",
    "        mu_x1.append(np.mean(x.iloc[:,0][y==i]))\n",
    "        mu_x2.append(np.mean(x.iloc[:,1][y==i]))\n",
    "        mu_x3.append(np.mean(x.iloc[:,2][y==i]))\n",
    "        mu_x4.append(np.mean(x.iloc[:,3][y==i]))\n",
    "        pi.append(np.mean(y==i))\n",
    "        cov.append(np.cov(x[y==i],rowvar=False))\n",
    "    return mu_x1,mu_x2,mu_x3,mu_x4,pi,cov"
   ]
  },
  {
   "cell_type": "code",
   "execution_count": 276,
   "metadata": {},
   "outputs": [],
   "source": [
    "X_train, X_test, y_train, y_test = model_selection.train_test_split(data,clas,test_size=0.2,random_state=100)\n",
    "mu_x1,mu_x2,mu_x3,mu_x4,pi,cov = parameters_QDA(X_train,y_train)\n",
    "mu_k = list(zip(mu_x1,mu_x2,mu_x3,mu_x4))"
   ]
  },
  {
   "cell_type": "code",
   "execution_count": 304,
   "metadata": {},
   "outputs": [],
   "source": [
    "def posterior_prob_QDA(x,pi,mu_k,cov):\n",
    "    posterior_prob = pd.DataFrame()\n",
    "    for i in range(len(pi)):\n",
    "        posterior_prob['Prob_class'+str(i+1)] = x.apply(lambda r:st.multivariate_normal.pdf(r,mean=mu_k[i],cov=cov[i]),axis=1)*pi[i]\n",
    "    sum_val = np.sum(posterior_prob,axis=1)\n",
    "    for i in range(len(pi)):\n",
    "        posterior_prob['Prob_class'+str(i+1)] = posterior_prob['Prob_class'+str(i+1)]/sum_val\n",
    "    return posterior_prob"
   ]
  },
  {
   "cell_type": "code",
   "execution_count": 305,
   "metadata": {},
   "outputs": [],
   "source": [
    "prob_QDA =posterior_prob_QDA(X_train,pi,mu_k,cov)"
   ]
  },
  {
   "cell_type": "code",
   "execution_count": 308,
   "metadata": {},
   "outputs": [
    {
     "data": {
      "text/html": [
       "<div>\n",
       "<style scoped>\n",
       "    .dataframe tbody tr th:only-of-type {\n",
       "        vertical-align: middle;\n",
       "    }\n",
       "\n",
       "    .dataframe tbody tr th {\n",
       "        vertical-align: top;\n",
       "    }\n",
       "\n",
       "    .dataframe thead th {\n",
       "        text-align: right;\n",
       "    }\n",
       "</style>\n",
       "<table border=\"1\" class=\"dataframe\">\n",
       "  <thead>\n",
       "    <tr style=\"text-align: right;\">\n",
       "      <th></th>\n",
       "      <th>Prob_class1</th>\n",
       "      <th>Prob_class2</th>\n",
       "      <th>Prob_class3</th>\n",
       "    </tr>\n",
       "  </thead>\n",
       "  <tbody>\n",
       "    <tr>\n",
       "      <th>81</th>\n",
       "      <td>8.672338e-42</td>\n",
       "      <td>9.999942e-01</td>\n",
       "      <td>5.756495e-06</td>\n",
       "    </tr>\n",
       "    <tr>\n",
       "      <th>99</th>\n",
       "      <td>1.433535e-56</td>\n",
       "      <td>9.999177e-01</td>\n",
       "      <td>8.225814e-05</td>\n",
       "    </tr>\n",
       "    <tr>\n",
       "      <th>119</th>\n",
       "      <td>1.595652e-100</td>\n",
       "      <td>4.949748e-02</td>\n",
       "      <td>9.505025e-01</td>\n",
       "    </tr>\n",
       "    <tr>\n",
       "      <th>12</th>\n",
       "      <td>1.000000e+00</td>\n",
       "      <td>4.752028e-19</td>\n",
       "      <td>9.174629e-40</td>\n",
       "    </tr>\n",
       "    <tr>\n",
       "      <th>16</th>\n",
       "      <td>1.000000e+00</td>\n",
       "      <td>9.191543e-28</td>\n",
       "      <td>1.920502e-54</td>\n",
       "    </tr>\n",
       "    <tr>\n",
       "      <th>...</th>\n",
       "      <td>...</td>\n",
       "      <td>...</td>\n",
       "      <td>...</td>\n",
       "    </tr>\n",
       "    <tr>\n",
       "      <th>87</th>\n",
       "      <td>2.986919e-75</td>\n",
       "      <td>9.983274e-01</td>\n",
       "      <td>1.672638e-03</td>\n",
       "    </tr>\n",
       "    <tr>\n",
       "      <th>103</th>\n",
       "      <td>8.439961e-129</td>\n",
       "      <td>8.633247e-03</td>\n",
       "      <td>9.913668e-01</td>\n",
       "    </tr>\n",
       "    <tr>\n",
       "      <th>67</th>\n",
       "      <td>1.035010e-50</td>\n",
       "      <td>9.998769e-01</td>\n",
       "      <td>1.231398e-04</td>\n",
       "    </tr>\n",
       "    <tr>\n",
       "      <th>24</th>\n",
       "      <td>1.000000e+00</td>\n",
       "      <td>7.882395e-19</td>\n",
       "      <td>5.265299e-36</td>\n",
       "    </tr>\n",
       "    <tr>\n",
       "      <th>8</th>\n",
       "      <td>1.000000e+00</td>\n",
       "      <td>8.467821e-16</td>\n",
       "      <td>4.348768e-35</td>\n",
       "    </tr>\n",
       "  </tbody>\n",
       "</table>\n",
       "<p>120 rows × 3 columns</p>\n",
       "</div>"
      ],
      "text/plain": [
       "       Prob_class1   Prob_class2   Prob_class3\n",
       "81    8.672338e-42  9.999942e-01  5.756495e-06\n",
       "99    1.433535e-56  9.999177e-01  8.225814e-05\n",
       "119  1.595652e-100  4.949748e-02  9.505025e-01\n",
       "12    1.000000e+00  4.752028e-19  9.174629e-40\n",
       "16    1.000000e+00  9.191543e-28  1.920502e-54\n",
       "..             ...           ...           ...\n",
       "87    2.986919e-75  9.983274e-01  1.672638e-03\n",
       "103  8.439961e-129  8.633247e-03  9.913668e-01\n",
       "67    1.035010e-50  9.998769e-01  1.231398e-04\n",
       "24    1.000000e+00  7.882395e-19  5.265299e-36\n",
       "8     1.000000e+00  8.467821e-16  4.348768e-35\n",
       "\n",
       "[120 rows x 3 columns]"
      ]
     },
     "execution_count": 308,
     "metadata": {},
     "output_type": "execute_result"
    }
   ],
   "source": [
    "prob_QDA"
   ]
  },
  {
   "cell_type": "code",
   "execution_count": 310,
   "metadata": {},
   "outputs": [
    {
     "data": {
      "text/html": [
       "<div>\n",
       "<style scoped>\n",
       "    .dataframe tbody tr th:only-of-type {\n",
       "        vertical-align: middle;\n",
       "    }\n",
       "\n",
       "    .dataframe tbody tr th {\n",
       "        vertical-align: top;\n",
       "    }\n",
       "\n",
       "    .dataframe thead th {\n",
       "        text-align: right;\n",
       "    }\n",
       "</style>\n",
       "<table border=\"1\" class=\"dataframe\">\n",
       "  <thead>\n",
       "    <tr style=\"text-align: right;\">\n",
       "      <th>Actual Class</th>\n",
       "      <th>0</th>\n",
       "      <th>1</th>\n",
       "      <th>2</th>\n",
       "    </tr>\n",
       "    <tr>\n",
       "      <th>Predicted_Class</th>\n",
       "      <th></th>\n",
       "      <th></th>\n",
       "      <th></th>\n",
       "    </tr>\n",
       "  </thead>\n",
       "  <tbody>\n",
       "    <tr>\n",
       "      <th>0</th>\n",
       "      <td>39</td>\n",
       "      <td>0</td>\n",
       "      <td>0</td>\n",
       "    </tr>\n",
       "    <tr>\n",
       "      <th>1</th>\n",
       "      <td>0</td>\n",
       "      <td>43</td>\n",
       "      <td>1</td>\n",
       "    </tr>\n",
       "    <tr>\n",
       "      <th>2</th>\n",
       "      <td>0</td>\n",
       "      <td>1</td>\n",
       "      <td>36</td>\n",
       "    </tr>\n",
       "  </tbody>\n",
       "</table>\n",
       "</div>"
      ],
      "text/plain": [
       "Actual Class      0   1   2\n",
       "Predicted_Class            \n",
       "0                39   0   0\n",
       "1                 0  43   1\n",
       "2                 0   1  36"
      ]
     },
     "execution_count": 310,
     "metadata": {},
     "output_type": "execute_result"
    }
   ],
   "source": [
    "predict_clas_train = prob_QDA.apply(lambda x: np.argmax(x),axis=1)\n",
    "m =pd.DataFrame({'Predicted_Class':predict_clas_train,'Actual Class':y_train})\n",
    "pd.crosstab(index=m['Predicted_Class'],columns=m['Actual Class'])"
   ]
  },
  {
   "cell_type": "markdown",
   "metadata": {},
   "source": [
    "The accuracy of the QDA seems to be higher than the LDA for the dataset. Calculating the test error rate:"
   ]
  },
  {
   "cell_type": "code",
   "execution_count": 311,
   "metadata": {},
   "outputs": [
    {
     "data": {
      "text/html": [
       "<div>\n",
       "<style scoped>\n",
       "    .dataframe tbody tr th:only-of-type {\n",
       "        vertical-align: middle;\n",
       "    }\n",
       "\n",
       "    .dataframe tbody tr th {\n",
       "        vertical-align: top;\n",
       "    }\n",
       "\n",
       "    .dataframe thead th {\n",
       "        text-align: right;\n",
       "    }\n",
       "</style>\n",
       "<table border=\"1\" class=\"dataframe\">\n",
       "  <thead>\n",
       "    <tr style=\"text-align: right;\">\n",
       "      <th>Actual Class</th>\n",
       "      <th>0</th>\n",
       "      <th>1</th>\n",
       "      <th>2</th>\n",
       "    </tr>\n",
       "    <tr>\n",
       "      <th>Predicted_Class</th>\n",
       "      <th></th>\n",
       "      <th></th>\n",
       "      <th></th>\n",
       "    </tr>\n",
       "  </thead>\n",
       "  <tbody>\n",
       "    <tr>\n",
       "      <th>0</th>\n",
       "      <td>11</td>\n",
       "      <td>0</td>\n",
       "      <td>0</td>\n",
       "    </tr>\n",
       "    <tr>\n",
       "      <th>1</th>\n",
       "      <td>0</td>\n",
       "      <td>6</td>\n",
       "      <td>0</td>\n",
       "    </tr>\n",
       "    <tr>\n",
       "      <th>2</th>\n",
       "      <td>0</td>\n",
       "      <td>0</td>\n",
       "      <td>13</td>\n",
       "    </tr>\n",
       "  </tbody>\n",
       "</table>\n",
       "</div>"
      ],
      "text/plain": [
       "Actual Class      0  1   2\n",
       "Predicted_Class           \n",
       "0                11  0   0\n",
       "1                 0  6   0\n",
       "2                 0  0  13"
      ]
     },
     "execution_count": 311,
     "metadata": {},
     "output_type": "execute_result"
    }
   ],
   "source": [
    "prob_test_QDA =posterior_prob_QDA(X_test,pi,mu_k,cov)\n",
    "predict_clas_test = prob_test_QDA.apply(lambda x: np.argmax(x),axis=1)\n",
    "m =pd.DataFrame({'Predicted_Class':predict_clas_test,'Actual Class':y_test})\n",
    "pd.crosstab(index=m['Predicted_Class'],columns=m['Actual Class'])"
   ]
  },
  {
   "cell_type": "code",
   "execution_count": 312,
   "metadata": {},
   "outputs": [
    {
     "name": "stdout",
     "output_type": "stream",
     "text": [
      "The error rate of LDA for the iris dataset is estimated to be 0.0\n"
     ]
    }
   ],
   "source": [
    "error_rate = sum(m['Predicted_Class']-m['Actual Class']!=0)/len(m)\n",
    "print(f'The error rate of LDA for the iris dataset is estimated to be {error_rate}')"
   ]
  },
  {
   "cell_type": "markdown",
   "metadata": {},
   "source": [
    "The QDA seems to perfectly classify all observations in the test set. A more accuarte measure of the error rate should be derived from cross-validation."
   ]
  }
 ],
 "metadata": {
  "kernelspec": {
   "display_name": "Python 3",
   "language": "python",
   "name": "python3"
  },
  "language_info": {
   "codemirror_mode": {
    "name": "ipython",
    "version": 3
   },
   "file_extension": ".py",
   "mimetype": "text/x-python",
   "name": "python",
   "nbconvert_exporter": "python",
   "pygments_lexer": "ipython3",
   "version": "3.8.5"
  }
 },
 "nbformat": 4,
 "nbformat_minor": 4
}
