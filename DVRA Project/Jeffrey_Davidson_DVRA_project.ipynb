{
 "cells": [
  {
   "cell_type": "markdown",
   "metadata": {},
   "source": [
    "# DVRA Project"
   ]
  },
  {
   "cell_type": "markdown",
   "metadata": {},
   "source": [
    "Name: Jeffrey Davidson"
   ]
  },
  {
   "cell_type": "code",
   "execution_count": 197,
   "metadata": {},
   "outputs": [],
   "source": [
    "import numpy as np\n",
    "import matplotlib.pyplot as plt\n",
    "import scipy.stats as st\n",
    "import scipy.optimize as opt\n",
    "from yahoo_fin import stock_info\n",
    "from sklearn.linear_model import LinearRegression\n",
    "import pandas as pd"
   ]
  },
  {
   "cell_type": "markdown",
   "metadata": {},
   "source": [
    "**1. Write a Function for calculating the Parametric VaR of DLF (40%), NTPC (20%) And HDFC Bank (40%). Take historical data for last 500 days before 1st Oct, 2019 and a 99% VaR confidence level.**"
   ]
  },
  {
   "cell_type": "markdown",
   "metadata": {},
   "source": [
    "Parametric Approach assumes a parametric distribution for the returns. The assumed distribution is the normal distribution. The covariance matrix for the returns can be found using different methods. Here we will use the following approaches to calculate volatility and correlation.\n",
    "1. Based on equal weights of historical data\n",
    "2. Exponentially weighted Moving Average (EWMA) Method"
   ]
  },
  {
   "cell_type": "markdown",
   "metadata": {},
   "source": [
    "Below function is for obtaining the covariance matrix for the return series using EWMA method. The optimal value of $\\lambda$ is estimated using maximum likelihood estimation automatically. This function is used in the main code to calculate VaR."
   ]
  },
  {
   "cell_type": "code",
   "execution_count": 155,
   "metadata": {},
   "outputs": [],
   "source": [
    "class covariance_matrix_EWMA():\n",
    "    def __init__(self,returns):\n",
    "        self.returns = returns\n",
    "        self.l_opt = self.l_optimum()\n",
    "    \n",
    "    def cv_update(self,x,y,l=0.94):\n",
    "        cv = []\n",
    "        cv.append(x[0]*y[0])\n",
    "        for i in range(1,len(x)):\n",
    "            cv.append(l*cv[i-1]+(1-l)*x[i-1]*y[i-1])\n",
    "        return cv\n",
    "    \n",
    "    def cov_matrix(self,l=0.94):\n",
    "        n = len(self.returns.columns)\n",
    "        cv_matrix = np.empty(shape=(n,n))\n",
    "        for i in range(n):\n",
    "            for j in range(n):\n",
    "                cv_matrix[i,j] = (self.cv_update(x=self.returns.iloc[:,i].values,\n",
    "                                     y =self.returns.iloc[:,j].values,\n",
    "                                     l =l)[-1])\n",
    "        return cv_matrix\n",
    "    \n",
    "    def likelihood_fn(self,cv_matrix):\n",
    "        if np.ndim(cv_matrix) >1:\n",
    "            cv_det = np.linalg.det(cv_matrix)\n",
    "            cv_inv = np.linalg.inv(cv_matrix)\n",
    "        else:\n",
    "            cv_det =cv_matrix\n",
    "            cv_inv = cv_matrix\n",
    "        f = lambda x: -np.matmul(np.matmul(np.transpose(x),cv_inv),x)-np.log(cv_det)\n",
    "        logL = self.returns.apply(f,axis=1,raw=True)\n",
    "        return np.sum(logL)*-1\n",
    "    \n",
    "    def obj_fn(self,l_var):\n",
    "        c = self.cov_matrix(l_var)\n",
    "        return self.likelihood_fn(c)\n",
    "        \n",
    "    def l_optimum(self):\n",
    "        return opt.minimize_scalar(self.obj_fn,bounds=(0.0001,1),method ='Bounded').x\n",
    "    \n",
    "    def get_EWMA_covmatrix(self):\n",
    "        return self.cov_matrix(self.l_opt)\n",
    "                "
   ]
  },
  {
   "cell_type": "markdown",
   "metadata": {},
   "source": [
    "The function for estimating the parametric VaR and Expected Shortfall using both methods is given below:"
   ]
  },
  {
   "cell_type": "code",
   "execution_count": 153,
   "metadata": {},
   "outputs": [],
   "source": [
    "class model_approach():\n",
    "    def __init__(self,stock_tickers,amt,start_date,end_date,EWMA=False):\n",
    "        self.tickers = stock_tickers\n",
    "        self.EWMA_method = EWMA\n",
    "        self.amt = amt\n",
    "        self.weights = amt/np.sum(amt)\n",
    "        self.prices = self.get_prices(start_date,end_date)\n",
    "        self.returns = self.get_returns(1)\n",
    "        self.cv_matrix = self.cv_matrix()\n",
    "        \n",
    "    def get_prices(self,start_date,end_date):\n",
    "        s = pd.DataFrame()\n",
    "        for i in self.tickers:\n",
    "            b = stock_info.get_data(i,start_date,end_date)['adjclose']\n",
    "            s[i] =b\n",
    "        return s.dropna()\n",
    "    \n",
    "    def get_returns(self,n):\n",
    "        returns = pd.DataFrame(data = self.prices.values[n:,]/self.prices.values[:-n,]-1,\n",
    "                               index = self.prices[n:].index,\n",
    "                               columns = self.prices.columns)\n",
    "        \n",
    "        return returns\n",
    "    \n",
    "    def cv_matrix(self):\n",
    "        if self.EWMA_method == True:\n",
    "            c = covariance_matrix_EWMA(self.returns).get_EWMA_covmatrix()\n",
    "        else:\n",
    "            c = np.cov(self.returns,rowvar=False)\n",
    "        return c\n",
    "    \n",
    "    def portfolio_variance(self):\n",
    "        return np.matmul(np.matmul(np.transpose(self.weights),\n",
    "                         self.cv_matrix),self.weights)\n",
    "    \n",
    "    def calculate_VaR(self,n,confidence):\n",
    "        z = st.norm.ppf(1-confidence)        \n",
    "        v = self.portfolio_variance()\n",
    "        return z*(v*n)**0.5*np.sum(self.amt)\n",
    "    \n",
    "    def calculate_CVaR(self,n,confidence):\n",
    "        z = st.norm.ppf(1-confidence)\n",
    "        Y = self.calculate_VaR(n,confidence)\n",
    "        v = self.portfolio_variance()\n",
    "        return -((v*n/(2*np.pi))**0.5)*np.exp(-z**2/2)/(1-confidence)*np.sum(self.amt)\n",
    "    \n",
    "    def change_weights(self,amt):\n",
    "        self.amt = amt\n",
    "        self.weights = amt/np.sum(amt)\n"
   ]
  },
  {
   "cell_type": "markdown",
   "metadata": {},
   "source": [
    "The following inputs need to be provided:\n",
    "1. **stock_tickers** is the list of stock symbols.\n",
    "2. **amt** is the amount invested in each stock\n",
    "3. **start_date** and **end_date** is the range of dates for which the historical data needs to be extracted\n",
    "4. **EWMA** is to specify whether the covariance matrix should be calculated from equal weights (False) or using EWMA Method (True).\n",
    "\n",
    "The function for calculating the EWMA is given separately above.\n",
    "\n",
    "The function automatically extracts the historical data from yahoo finance and calculates the portfolio variance for the weights given when initialized. The VaR and ES can be extracted using the methods **calculate_VaR()** and **calculate_CVaR()**."
   ]
  },
  {
   "cell_type": "markdown",
   "metadata": {},
   "source": [
    "The below code uses the functions to calculate VaR and Expected Shortfall."
   ]
  },
  {
   "cell_type": "code",
   "execution_count": 156,
   "metadata": {},
   "outputs": [],
   "source": [
    "m1 =model_approach(['DLF.NS','NTPC.NS','HDFC.NS'],[1,1,1],'2017-10-01','2019-10-01',EWMA=False)\n",
    "m2 =model_approach(['DLF.NS','NTPC.NS','HDFC.NS'],[1,1,1],'2017-10-01','2019-10-01',EWMA=True)"
   ]
  },
  {
   "cell_type": "markdown",
   "metadata": {},
   "source": [
    "m1 is the model used for calculating VaR using equal weightted covariance matrix. m2 is the model used for calculating VaR using EWMA method. The **amt** vector can be changed after initialization using **change_weights()**."
   ]
  },
  {
   "cell_type": "code",
   "execution_count": 16,
   "metadata": {},
   "outputs": [
    {
     "data": {
      "text/html": [
       "<div>\n",
       "<style scoped>\n",
       "    .dataframe tbody tr th:only-of-type {\n",
       "        vertical-align: middle;\n",
       "    }\n",
       "\n",
       "    .dataframe tbody tr th {\n",
       "        vertical-align: top;\n",
       "    }\n",
       "\n",
       "    .dataframe thead th {\n",
       "        text-align: right;\n",
       "    }\n",
       "</style>\n",
       "<table border=\"1\" class=\"dataframe\">\n",
       "  <thead>\n",
       "    <tr style=\"text-align: right;\">\n",
       "      <th></th>\n",
       "      <th>DLF.NS</th>\n",
       "      <th>NTPC.NS</th>\n",
       "      <th>HDFC.NS</th>\n",
       "    </tr>\n",
       "  </thead>\n",
       "  <tbody>\n",
       "    <tr>\n",
       "      <th>2019-09-24</th>\n",
       "      <td>165.536819</td>\n",
       "      <td>104.541580</td>\n",
       "      <td>2083.505371</td>\n",
       "    </tr>\n",
       "    <tr>\n",
       "      <th>2019-09-25</th>\n",
       "      <td>154.154617</td>\n",
       "      <td>106.130363</td>\n",
       "      <td>2024.766235</td>\n",
       "    </tr>\n",
       "    <tr>\n",
       "      <th>2019-09-26</th>\n",
       "      <td>160.093155</td>\n",
       "      <td>105.812607</td>\n",
       "      <td>2018.163696</td>\n",
       "    </tr>\n",
       "    <tr>\n",
       "      <th>2019-09-27</th>\n",
       "      <td>156.727997</td>\n",
       "      <td>106.266541</td>\n",
       "      <td>1991.459595</td>\n",
       "    </tr>\n",
       "    <tr>\n",
       "      <th>2019-09-30</th>\n",
       "      <td>154.006165</td>\n",
       "      <td>106.675079</td>\n",
       "      <td>1933.894287</td>\n",
       "    </tr>\n",
       "  </tbody>\n",
       "</table>\n",
       "</div>"
      ],
      "text/plain": [
       "                DLF.NS     NTPC.NS      HDFC.NS\n",
       "2019-09-24  165.536819  104.541580  2083.505371\n",
       "2019-09-25  154.154617  106.130363  2024.766235\n",
       "2019-09-26  160.093155  105.812607  2018.163696\n",
       "2019-09-27  156.727997  106.266541  1991.459595\n",
       "2019-09-30  154.006165  106.675079  1933.894287"
      ]
     },
     "execution_count": 16,
     "metadata": {},
     "output_type": "execute_result"
    }
   ],
   "source": [
    "m1.prices.tail()"
   ]
  },
  {
   "cell_type": "code",
   "execution_count": 23,
   "metadata": {},
   "outputs": [
    {
     "data": {
      "text/html": [
       "<div>\n",
       "<style scoped>\n",
       "    .dataframe tbody tr th:only-of-type {\n",
       "        vertical-align: middle;\n",
       "    }\n",
       "\n",
       "    .dataframe tbody tr th {\n",
       "        vertical-align: top;\n",
       "    }\n",
       "\n",
       "    .dataframe thead th {\n",
       "        text-align: right;\n",
       "    }\n",
       "</style>\n",
       "<table border=\"1\" class=\"dataframe\">\n",
       "  <thead>\n",
       "    <tr style=\"text-align: right;\">\n",
       "      <th></th>\n",
       "      <th>DLF.NS</th>\n",
       "      <th>NTPC.NS</th>\n",
       "      <th>HDFC.NS</th>\n",
       "    </tr>\n",
       "  </thead>\n",
       "  <tbody>\n",
       "    <tr>\n",
       "      <th>2019-09-24</th>\n",
       "      <td>-0.002683</td>\n",
       "      <td>-0.007755</td>\n",
       "      <td>-0.014801</td>\n",
       "    </tr>\n",
       "    <tr>\n",
       "      <th>2019-09-25</th>\n",
       "      <td>-0.068759</td>\n",
       "      <td>0.015198</td>\n",
       "      <td>-0.028192</td>\n",
       "    </tr>\n",
       "    <tr>\n",
       "      <th>2019-09-26</th>\n",
       "      <td>0.038523</td>\n",
       "      <td>-0.002994</td>\n",
       "      <td>-0.003261</td>\n",
       "    </tr>\n",
       "    <tr>\n",
       "      <th>2019-09-27</th>\n",
       "      <td>-0.021020</td>\n",
       "      <td>0.004290</td>\n",
       "      <td>-0.013232</td>\n",
       "    </tr>\n",
       "    <tr>\n",
       "      <th>2019-09-30</th>\n",
       "      <td>-0.017367</td>\n",
       "      <td>0.003844</td>\n",
       "      <td>-0.028906</td>\n",
       "    </tr>\n",
       "  </tbody>\n",
       "</table>\n",
       "</div>"
      ],
      "text/plain": [
       "              DLF.NS   NTPC.NS   HDFC.NS\n",
       "2019-09-24 -0.002683 -0.007755 -0.014801\n",
       "2019-09-25 -0.068759  0.015198 -0.028192\n",
       "2019-09-26  0.038523 -0.002994 -0.003261\n",
       "2019-09-27 -0.021020  0.004290 -0.013232\n",
       "2019-09-30 -0.017367  0.003844 -0.028906"
      ]
     },
     "execution_count": 23,
     "metadata": {},
     "output_type": "execute_result"
    }
   ],
   "source": [
    "m1.returns.tail()"
   ]
  },
  {
   "cell_type": "code",
   "execution_count": 26,
   "metadata": {},
   "outputs": [
    {
     "name": "stdout",
     "output_type": "stream",
     "text": [
      " Covariance matrix calculated using equal weights\n"
     ]
    },
    {
     "data": {
      "text/plain": [
       "array([[7.28323480e-04, 8.13836788e-05, 1.20380620e-04],\n",
       "       [8.13836788e-05, 1.97856618e-04, 3.53219371e-05],\n",
       "       [1.20380620e-04, 3.53219371e-05, 2.23327210e-04]])"
      ]
     },
     "execution_count": 26,
     "metadata": {},
     "output_type": "execute_result"
    }
   ],
   "source": [
    "print(' Covariance matrix calculated using equal weights')\n",
    "m1.cv_matrix "
   ]
  },
  {
   "cell_type": "code",
   "execution_count": 27,
   "metadata": {},
   "outputs": [
    {
     "name": "stdout",
     "output_type": "stream",
     "text": [
      " Covariance matrix calculated using EWMA\n"
     ]
    },
    {
     "data": {
      "text/plain": [
       "array([[7.09156302e-04, 8.57877747e-05, 1.39230412e-04],\n",
       "       [8.57877747e-05, 2.04510607e-04, 2.87050337e-05],\n",
       "       [1.39230412e-04, 2.87050337e-05, 2.20007969e-04]])"
      ]
     },
     "execution_count": 27,
     "metadata": {},
     "output_type": "execute_result"
    }
   ],
   "source": [
    "print(' Covariance matrix calculated using EWMA')\n",
    "m2.cv_matrix "
   ]
  },
  {
   "cell_type": "code",
   "execution_count": 185,
   "metadata": {},
   "outputs": [
    {
     "name": "stdout",
     "output_type": "stream",
     "text": [
      "1-Day 99% VaR calculated using Parametric Approach (Assuming portfolio value of $1000):\n",
      "-----------------------------------------------------------------------------------\n",
      "\t\tVaR\t   ES\n",
      "Equal Weights\t34.299\t  39.295\n",
      "EWMA\t\t34.483\t  39.506\n"
     ]
    }
   ],
   "source": [
    "print('1-Day 99% VaR calculated using Parametric Approach (Assuming portfolio value of $1000):')\n",
    "print('-----------------------------------------------------------------------------------')\n",
    "print('\\t\\tVaR\\t  ','ES')\n",
    "\n",
    "n=1\n",
    "confidence =0.99\n",
    "amt_inv = 1000\n",
    "weights = np.array([0.4,0.2,0.4])\n",
    "\n",
    "m1.change_weights(weights*amt_inv)\n",
    "m2.change_weights(weights*amt_inv)\n",
    "\n",
    "print('Equal Weights',end='\\t')\n",
    "print(-np.round(m1.calculate_VaR(n,confidence),3),end='\\t  ')\n",
    "print(-np.round(m1.calculate_CVaR(n,confidence),3),end='\\n')\n",
    "\n",
    "print('EWMA',end='\\t\\t')\n",
    "print(-np.round(m2.calculate_VaR(n,confidence),3),end='\\t  ')\n",
    "print(-np.round(m2.calculate_CVaR(n,confidence),3),end='\\n')"
   ]
  },
  {
   "cell_type": "markdown",
   "metadata": {},
   "source": [
    " "
   ]
  },
  {
   "cell_type": "markdown",
   "metadata": {},
   "source": [
    "**2. Use data from problem 1.) and write a function for calculating VaR using Historical Simulation.**"
   ]
  },
  {
   "cell_type": "markdown",
   "metadata": {},
   "source": [
    "The function for Historical Simulation approach is given below:"
   ]
  },
  {
   "cell_type": "markdown",
   "metadata": {},
   "source": [
    "The following inputs need to be provided:\n",
    "1. **stock_tickers** is the list of stock symbols.\n",
    "2. **amt** is the amount invested in each stock\n",
    "3. **start_date** and **end_date** is the range of dates for which the historical data needs to be extracted"
   ]
  },
  {
   "cell_type": "code",
   "execution_count": 64,
   "metadata": {},
   "outputs": [],
   "source": [
    "class Historical_Simulation():\n",
    "    def __init__(self,stock_tickers,amt,start_date,end_date):\n",
    "        self.tickers = stock_tickers\n",
    "        self.amt = amt\n",
    "        self.weights = amt/np.sum(amt)\n",
    "        self.prices = self.get_prices(start_date,end_date)\n",
    "        self.returns = self.get_returns(1)\n",
    "    \n",
    "    def get_prices(self,start_date,end_date):\n",
    "        s = pd.DataFrame()\n",
    "        for i in self.tickers:\n",
    "            b = stock_info.get_data(i,start_date,end_date)['adjclose']\n",
    "            s[i] =b\n",
    "        return s.dropna()\n",
    "    \n",
    "    def get_returns(self,n):\n",
    "        returns = pd.DataFrame(data = self.prices.values[n:,]/self.prices.values[:-n,]-1,\n",
    "                               index = self.prices[n:].index,\n",
    "                               columns = self.prices.columns)\n",
    "        \n",
    "        return returns\n",
    "    \n",
    "    def get_portfolio_returns(self,n):\n",
    "        returns  = self.get_returns(n)\n",
    "        return returns.apply(lambda x: np.dot(x,self.weights),axis = 1).copy()\n",
    "        \n",
    "    \n",
    "    def calculate_VaR(self,n,confidence):\n",
    "        r = self.get_portfolio_returns(n)*np.sum(self.amt)\n",
    "        return np.percentile(r,q = (1-confidence)*100)\n",
    "    \n",
    "    def calculate_CVaR(self,n,confidence):\n",
    "        r = self.get_portfolio_returns(n)*np.sum(self.amt)\n",
    "        VaR = self.calculate_VaR(n,confidence)\n",
    "        return np.mean(r[r<=VaR])\n",
    "    \n",
    "    def change_weights(self,amt):\n",
    "        self.amt = amt\n",
    "        self.weights = amt/np.sum(amt)\n",
    "        \n",
    "        "
   ]
  },
  {
   "cell_type": "code",
   "execution_count": 76,
   "metadata": {},
   "outputs": [],
   "source": [
    "m3 = Historical_Simulation(['DLF.NS','NTPC.NS','HDFC.NS'],[1,1,1],'2017-10-01','2019-10-01')"
   ]
  },
  {
   "cell_type": "code",
   "execution_count": 188,
   "metadata": {},
   "outputs": [
    {
     "data": {
      "text/html": [
       "<div>\n",
       "<style scoped>\n",
       "    .dataframe tbody tr th:only-of-type {\n",
       "        vertical-align: middle;\n",
       "    }\n",
       "\n",
       "    .dataframe tbody tr th {\n",
       "        vertical-align: top;\n",
       "    }\n",
       "\n",
       "    .dataframe thead th {\n",
       "        text-align: right;\n",
       "    }\n",
       "</style>\n",
       "<table border=\"1\" class=\"dataframe\">\n",
       "  <thead>\n",
       "    <tr style=\"text-align: right;\">\n",
       "      <th></th>\n",
       "      <th>DLF.NS</th>\n",
       "      <th>NTPC.NS</th>\n",
       "      <th>HDFC.NS</th>\n",
       "    </tr>\n",
       "  </thead>\n",
       "  <tbody>\n",
       "    <tr>\n",
       "      <th>2019-09-24</th>\n",
       "      <td>-0.002683</td>\n",
       "      <td>-0.007755</td>\n",
       "      <td>-0.014801</td>\n",
       "    </tr>\n",
       "    <tr>\n",
       "      <th>2019-09-25</th>\n",
       "      <td>-0.068759</td>\n",
       "      <td>0.015198</td>\n",
       "      <td>-0.028192</td>\n",
       "    </tr>\n",
       "    <tr>\n",
       "      <th>2019-09-26</th>\n",
       "      <td>0.038523</td>\n",
       "      <td>-0.002994</td>\n",
       "      <td>-0.003261</td>\n",
       "    </tr>\n",
       "    <tr>\n",
       "      <th>2019-09-27</th>\n",
       "      <td>-0.021020</td>\n",
       "      <td>0.004290</td>\n",
       "      <td>-0.013232</td>\n",
       "    </tr>\n",
       "    <tr>\n",
       "      <th>2019-09-30</th>\n",
       "      <td>-0.017367</td>\n",
       "      <td>0.003844</td>\n",
       "      <td>-0.028906</td>\n",
       "    </tr>\n",
       "  </tbody>\n",
       "</table>\n",
       "</div>"
      ],
      "text/plain": [
       "              DLF.NS   NTPC.NS   HDFC.NS\n",
       "2019-09-24 -0.002683 -0.007755 -0.014801\n",
       "2019-09-25 -0.068759  0.015198 -0.028192\n",
       "2019-09-26  0.038523 -0.002994 -0.003261\n",
       "2019-09-27 -0.021020  0.004290 -0.013232\n",
       "2019-09-30 -0.017367  0.003844 -0.028906"
      ]
     },
     "execution_count": 188,
     "metadata": {},
     "output_type": "execute_result"
    }
   ],
   "source": [
    "m3.returns.tail()"
   ]
  },
  {
   "cell_type": "code",
   "execution_count": 190,
   "metadata": {},
   "outputs": [
    {
     "name": "stdout",
     "output_type": "stream",
     "text": [
      "1-Day 99% VaR and ES calculated using Historical Simulation (Assuming $1000 invested in the portfolio):\n",
      "------------------------------------------------------------------------------------------------------\n",
      "VaR\t\t ES\n",
      "40.758\t\t55.263\n"
     ]
    }
   ],
   "source": [
    "print('1-Day 99% VaR and ES calculated using Historical Simulation (Assuming $1000 invested in the portfolio):')\n",
    "print('------------------------------------------------------------------------------------------------------')\n",
    "print('VaR\\t\\t','ES')\n",
    "\n",
    "n=1\n",
    "confidence =0.99\n",
    "amt_inv = 1000\n",
    "weights =np.array([0.4,0.2,0.4])\n",
    "\n",
    "m3.change_weights(weights*amt_inv)\n",
    "print(-np.round(m3.calculate_VaR(1,confidence),3),end='\\t\\t')\n",
    "print(-np.round(m3.calculate_CVaR(n,confidence),3),end='\\n')"
   ]
  },
  {
   "cell_type": "markdown",
   "metadata": {},
   "source": [
    " "
   ]
  },
  {
   "cell_type": "markdown",
   "metadata": {},
   "source": [
    "**3. Write a Function for calculating the value of a European Option on Nifty using Monte Carlo Simulation for an expiry after a month. Compare it with the current\n",
    "market price and tell your decision, if it shall be bought or sold.**"
   ]
  },
  {
   "cell_type": "code",
   "execution_count": 106,
   "metadata": {},
   "outputs": [],
   "source": [
    "nifty_prices = stock_info.get_data('^NSEI',start_date = '2021-02-01')['adjclose']\n",
    "nifty_returns = nifty_prices[1:].values/nifty_prices[:-1].values-1\n",
    "vol = np.std(nifty_returns)*(250**0.5)"
   ]
  },
  {
   "cell_type": "code",
   "execution_count": 124,
   "metadata": {},
   "outputs": [],
   "source": [
    "S0 = nifty_prices[-1]\n",
    "K = 14500\n",
    "T = 13/250 #3rd June 2021. Other Expiry dates have no actively trading contracts.\n",
    "r = 0.04"
   ]
  },
  {
   "cell_type": "code",
   "execution_count": 148,
   "metadata": {},
   "outputs": [],
   "source": [
    "def European_option_montecarlo(S0,K,T,r,vol,nsimulations =10000,call=True):\n",
    "    phi_1 = np.random.randn(nsimulations)\n",
    "    phi_2 = -phi_1\n",
    "    \n",
    "    stock_paths_1 = S0*np.exp((r-0.5*vol**2)*T+vol*phi_1*(T**0.5))\n",
    "    stock_paths_2 = S0*np.exp((r-0.5*vol**2)*T+vol*phi_2*(T**0.5))\n",
    "    \n",
    "    if call == True:\n",
    "        payoffs_1 = np.maximum(stock_paths_1-K,0)\n",
    "        payoffs_2 = np.maximum(stock_paths_2-K,0)\n",
    "    else:\n",
    "        payoffs_1 = np.maximum(K-stock_paths_1,0)\n",
    "        payoffs_2 = np.maximum(K-stock_paths_2,0)\n",
    "        \n",
    "    payoffs = (payoffs_1+payoffs_2)/2\n",
    "    \n",
    "    option_value = np.mean(payoffs)*np.exp(-r*T)\n",
    "    std_error = np.std(payoffs)/(nsimulations**0.5)\n",
    "    \n",
    "    return option_value,std_error"
   ]
  },
  {
   "cell_type": "code",
   "execution_count": 149,
   "metadata": {},
   "outputs": [
    {
     "name": "stdout",
     "output_type": "stream",
     "text": [
      "Option Type\t Option Price\t Std. Error\n",
      "--------------------------------------------\n",
      "Call\t\t 376.314 \t  1.961\n",
      "Put\t\t 167.288 \t  1.755\n"
     ]
    }
   ],
   "source": [
    "call_value = European_option_montecarlo(S0,K,T,r,vol,nsimulations =10000,call=True)\n",
    "put_value = European_option_montecarlo(S0,K,T,r,vol,nsimulations =10000,call=False)\n",
    "\n",
    "print('Option Type\\t','Option Price\\t','Std. Error')\n",
    "print('--------------------------------------------')\n",
    "print('Call\\t\\t',np.round(call_value[0],3),'\\t ',np.round(call_value[1],3))\n",
    "print('Put\\t\\t',np.round(put_value[0],3),'\\t ',np.round(put_value[1],3))\n"
   ]
  },
  {
   "cell_type": "markdown",
   "metadata": {},
   "source": [
    "Comparing the option values to the black scholes prices:"
   ]
  },
  {
   "cell_type": "code",
   "execution_count": 143,
   "metadata": {},
   "outputs": [],
   "source": [
    "def black_scholes(S0,K,r,T,vol,call=True):\n",
    "    d1 = (np.log(S0/K)+(r+0.5*vol**2)*(T))/(vol*(T**0.5))\n",
    "    d2 = d1-(vol*(T**0.5))\n",
    "    if call == True:\n",
    "        price = S0*st.norm.cdf(d1)-K*np.exp(-r*T)*st.norm.cdf(d2)\n",
    "    else:\n",
    "        price =-S0*st.norm.cdf(-d1)+K*np.exp(-r*T)*st.norm.cdf(-d2)\n",
    "    return price"
   ]
  },
  {
   "cell_type": "code",
   "execution_count": 147,
   "metadata": {},
   "outputs": [
    {
     "name": "stdout",
     "output_type": "stream",
     "text": [
      "Black Scholes Prices for the nifty option:\n",
      "-------------------------------------------\n",
      "Call : 374.548\n",
      "Put  : 166.619\n"
     ]
    }
   ],
   "source": [
    "print('Black Scholes Prices for the nifty option:')\n",
    "print('-------------------------------------------')\n",
    "print('Call :', np.round(black_scholes(S0,K,r,T,vol,call=True),3))\n",
    "print('Put  :', np.round(black_scholes(S0,K,r,T,vol,call=False),3))"
   ]
  },
  {
   "cell_type": "markdown",
   "metadata": {},
   "source": [
    "The prices seem to be close. By increasing the number of simulations, the option value will converge to the black scholes values."
   ]
  },
  {
   "cell_type": "markdown",
   "metadata": {},
   "source": [
    "**Comparing with the market prices:**"
   ]
  },
  {
   "cell_type": "code",
   "execution_count": 151,
   "metadata": {},
   "outputs": [],
   "source": [
    "call_mkt = 390.15 #avg of bid and ask price\n",
    "put_mkt = 167.85"
   ]
  },
  {
   "cell_type": "markdown",
   "metadata": {},
   "source": [
    "The prices estimated by montecarlo simulation is very close to the market price. The call option is slightly undervalued. But decision for buying has to be made after considering transaction costs and bid-ask spread. The put is correctly priced so decision cannot be made based on prices."
   ]
  },
  {
   "cell_type": "markdown",
   "metadata": {},
   "source": [
    "The volatility used to calculate prices is based on last 3 month historical data. But pricing should be done based on forecasted volatility. Here the implied volatility seems to be very close to the histoical volatility used."
   ]
  },
  {
   "cell_type": "markdown",
   "metadata": {},
   "source": [
    " "
   ]
  },
  {
   "cell_type": "markdown",
   "metadata": {},
   "source": [
    "**4. Draw a curve for DV01 risk of a puttable bond, which is due to mature at 30 years\n",
    "and have a feature of put at 15 years. Where will the maximum exposure be?\n",
    "Shall this bond be sold at premium or discount compared to a bond without\n",
    "optionability.**"
   ]
  },
  {
   "cell_type": "markdown",
   "metadata": {},
   "source": [
    "To find the value of a puttable bond, we use vasicek's model to simulate interest rate paths. The below is used to generate short rate paths. Vasicek's short rate model is given by the stochastic differential equation: $dr = a(b-r)dt +\\sigma dz$. To price derivatives the risk neutral process $dr = a(b-r-\\frac{\\lambda \\sigma}{a})dt+\\sigma dz$ has to be used. where $a$ is the speed of the reversion, $b$ is the long term mean of the short rate, $\\sigma$ is the standard deviation of the short rate and $\\lambda$ is the market price of risk."
   ]
  },
  {
   "cell_type": "markdown",
   "metadata": {},
   "source": [
    "The parameters $a,b,\\sigma$ are calibrated using the historical monthly 3-M Treasury spot rates. The parameter $\\lambda$ is calibrated using the current Treasury zero yield curve."
   ]
  },
  {
   "cell_type": "code",
   "execution_count": 195,
   "metadata": {},
   "outputs": [],
   "source": [
    "class Vasicek():\n",
    "    def __init__(self):\n",
    "        self.calibrate_vasicek()\n",
    "        self.yield_curve = np.array([[0.25,0.5,1,2,3,5,7,10,20,30],\n",
    "                                     [0.0002,0.0004,0.0005,0.0016,0.0032,0.0080,0.0127,0.0163,0.0220,0.0232]])\n",
    "        \n",
    "        self.zero_actual = [np.exp(-(self.yield_curve[1][i]*self.yield_curve[0][i])) for i in range(10)]\n",
    "        self.calibrate_market_price_of_risk()\n",
    "        \n",
    "    def generate_short_rate(self,T,n = 100):\n",
    "        rates = [self.r0]\n",
    "        dt =T/n\n",
    "        dates =[0]\n",
    "        b_mod = self.b -(self.l*self.s)/self.a\n",
    "        for i in range(n):\n",
    "            dr = self.a*(b_mod - rates[-1])*dt+self.s*(dt**0.5)*np.random.normal()\n",
    "            dates.append((i+1)*dt)\n",
    "            rates.append(rates[-1]+dr)\n",
    "        return dates,rates\n",
    "                            \n",
    "    def compute_zero_analytic(self,T,l=0):\n",
    "        B = (1-np.exp(-self.a*(T)))/self.a\n",
    "        b_mod = self.b -(l*self.s)/self.a\n",
    "        A = np.exp((B-T)*(self.a**2*b_mod-self.s**2/2)/self.a**2 - self.s**2*B**2/(4*self.a))\n",
    "        P = A*np.exp(-B*self.r0)\n",
    "        return P\n",
    "        \n",
    "    def calibrate_vasicek(self):\n",
    "        data = pd.read_csv(\"E:\\\\TB3MS.csv\")\n",
    "        r = np.array(data.iloc[:,1],dtype='float')/100\n",
    "        self.r0 = r[-1]\n",
    "        dr = r[1:]-r[:-1]\n",
    "        dt = 1/12\n",
    "        lm = LinearRegression()\n",
    "        lm.fit(X=r[:-1].reshape(-1,1),y=dr)\n",
    "        self.a = -lm.coef_[0]/dt\n",
    "        self.b = lm.intercept_/(self.a*dt)\n",
    "        y_pred = lm.predict(r[:-1].reshape(-1,1))\n",
    "        self.s = ((sum((dr-y_pred)**2)/(len(dr)-2))**0.5)/(dt**0.5)\n",
    "        \n",
    "    def obj_fn(self,l):\n",
    "        zero_model = np.array([self.compute_zero_analytic(i,l) for i in self.yield_curve[0]])\n",
    "        return sum((self.zero_actual-zero_model)**2)\n",
    "        \n",
    "    def calibrate_market_price_of_risk(self):\n",
    "        self.l = opt.minimize_scalar(self.obj_fn).x"
   ]
  },
  {
   "cell_type": "code",
   "execution_count": 198,
   "metadata": {},
   "outputs": [],
   "source": [
    "m4 = Vasicek()"
   ]
  },
  {
   "cell_type": "code",
   "execution_count": 200,
   "metadata": {},
   "outputs": [
    {
     "name": "stdout",
     "output_type": "stream",
     "text": [
      "The model parameters are:\n",
      "a      : 0.2054\n",
      "b      : 0.0085\n",
      "sigma  : 0.0061\n",
      "lambda : -0.6645\n"
     ]
    }
   ],
   "source": [
    "print('The model parameters are:')\n",
    "print(f'a      : {np.round(m4.a,4)}')\n",
    "print(f'b      : {np.round(m4.b,4)}')\n",
    "print(f'sigma  : {np.round(m4.s,4)}')\n",
    "print(f'lambda : {np.round(m4.l,4)}')"
   ]
  },
  {
   "cell_type": "code",
   "execution_count": 301,
   "metadata": {},
   "outputs": [],
   "source": [
    "T = 30 # time to maturity of the bond\n",
    "t_exp = 15 #time to expiry of the option\n",
    "K = 700 #Strike price assumed\n",
    "par = 1000"
   ]
  },
  {
   "cell_type": "code",
   "execution_count": 367,
   "metadata": {},
   "outputs": [],
   "source": [
    "def puttable_bond_price(r,K,t,T,t_exp):\n",
    "    dt = r[0][1]-r[0][0]\n",
    "    bond_value = np.exp(-sum(np.array(r[1][r[0].index(t):r[0].index(T)])*dt))*par\n",
    "    if t_exp<=t:\n",
    "        disc_payoff =0\n",
    "    else:\n",
    "        bond_value_exp = np.exp(-sum(np.array(r[1][r[0].index(t_exp):r[0].index(T)])*dt))*par\n",
    "        disc_payoff = np.maximum(K-bond_value_exp,0)*np.exp(-sum(np.array([1][r[0].index(t):r[0].index(t_exp)])*dt))\n",
    "    return disc_payoff,bond_value"
   ]
  },
  {
   "cell_type": "code",
   "execution_count": 381,
   "metadata": {},
   "outputs": [],
   "source": [
    "def dv01(K,t,T,t_exp,n=100):\n",
    "    \n",
    "    bond_price_1 = []\n",
    "    option_price_1 = []\n",
    "    bond_price_2 = []\n",
    "    option_price_2 = []\n",
    "    \n",
    "    for x in range(100):\n",
    "        r1 = m4.generate_short_rate(T,n)\n",
    "        r2 = [r1[0],np.array(r1[1])+0.0001]\n",
    "        \n",
    "        p1 = puttable_bond_price(r1,K,t,T,t_exp)\n",
    "        bond_price_1.append(p1[1])\n",
    "        option_price_1.append(p1[0])\n",
    "        \n",
    "        p2 = puttable_bond_price(r2,K,t,T,t_exp)\n",
    "        bond_price_2.append(p2[1])\n",
    "        option_price_2.append(p2[0])\n",
    "    \n",
    "    bond_value_1 = np.mean(bond_price_1)\n",
    "    option_value_1 = np.mean(option_price_1)\n",
    "    \n",
    "    bond_value_2 = np.mean(bond_price_2)\n",
    "    option_value_2 = np.mean(option_price_2)\n",
    "    \n",
    "    dv_01_bond = bond_value_2-bond_value_1\n",
    "    dv_01_put_bond = bond_value_2+option_value_2-bond_value_1-option_value_1\n",
    "    \n",
    "    return -dv_01_bond,-dv_01_put_bond"
   ]
  },
  {
   "cell_type": "code",
   "execution_count": 382,
   "metadata": {},
   "outputs": [],
   "source": [
    "t = np.arange(0,31,3)\n",
    "dv01_bond =[]\n",
    "dv01_put_bond =[]\n",
    "for i in t:\n",
    "    d = dv01(K,i,T,t_exp,n=1500)\n",
    "    dv01_bond.append(d[0])\n",
    "    dv01_put_bond.append(d[1])"
   ]
  },
  {
   "cell_type": "code",
   "execution_count": 388,
   "metadata": {},
   "outputs": [
    {
     "data": {
      "text/plain": [
       "<matplotlib.legend.Legend at 0xe472e38>"
      ]
     },
     "execution_count": 388,
     "metadata": {},
     "output_type": "execute_result"
    },
    {
     "data": {
      "image/png": "[encoded data removed]",
      "text/plain": [
       "<Figure size 1000x300 with 1 Axes>"
      ]
     },
     "metadata": {
      "needs_background": "light"
     },
     "output_type": "display_data"
    }
   ],
   "source": [
    "plt.figure(figsize=(10,3),dpi=100)\n",
    "plt.plot(t,dv01_bond,ls='--',label = 'bond without option')\n",
    "plt.plot(t,dv01_put_bond,label ='puttable bond')\n",
    "plt.axvline(x=15,ymax=0.65,color='r',ls=':',alpha=0.5)\n",
    "plt.title('DV01 as a function of term to maturity')\n",
    "plt.legend()"
   ]
  },
  {
   "cell_type": "markdown",
   "metadata": {},
   "source": [
    "The put option enables the investor to sell the bond at the strike price. Hence the value of the puttable bond is always higher than the value of the bond without option till expiry date."
   ]
  },
  {
   "cell_type": "markdown",
   "metadata": {},
   "source": [
    "The DV01 of a puttable bond is always less than the bond without option till expiry of the bond. As we get closer to the expiry date, the dv01 of puttable bond increases and after expiry, it is same as the dv01 of the bond. The dv01 of the puttable bond is maximum at the expiry date and decreases after the expiry."
   ]
  }
 ],
 "metadata": {
  "kernelspec": {
   "display_name": "Python 3",
   "language": "python",
   "name": "python3"
  },
  "language_info": {
   "codemirror_mode": {
    "name": "ipython",
    "version": 3
   },
   "file_extension": ".py",
   "mimetype": "text/x-python",
   "name": "python",
   "nbconvert_exporter": "python",
   "pygments_lexer": "ipython3",
   "version": "3.8.5"
  }
 },
 "nbformat": 4,
 "nbformat_minor": 4
}
