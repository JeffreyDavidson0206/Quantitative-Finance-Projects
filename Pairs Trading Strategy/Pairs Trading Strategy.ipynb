{
 "cells": [
  {
   "cell_type": "markdown",
   "id": "6ac3f30c",
   "metadata": {},
   "source": [
    "# Pairs Trading Strategy"
   ]
  },
  {
   "cell_type": "markdown",
   "id": "2b990577",
   "metadata": {},
   "source": [
    "The objective of the project is to implement pairs trading strategy on a portfolio of US stocks. Engle Granger procedure is used to select the pairs and the trading strategy is developed based on the strength of cointegration."
   ]
  },
  {
   "cell_type": "code",
   "execution_count": 5,
   "id": "cf0bb91f",
   "metadata": {},
   "outputs": [],
   "source": [
    "import numpy as np\n",
    "import pandas as pd\n",
    "import yfinance as yf\n",
    "from statsmodels.tsa.api import adfuller\n",
    "from statsmodels.api import OLS\n",
    "import matplotlib.pyplot as plt\n",
    "from datetime import datetime\n",
    "plt.style.use('seaborn-v0_8-notebook')"
   ]
  },
  {
   "cell_type": "code",
   "execution_count": 6,
   "id": "408a45a9",
   "metadata": {},
   "outputs": [],
   "source": [
    "import warnings\n",
    "warnings.filterwarnings('ignore')\n",
    "pd.set_option('display.max_columns', 1000)"
   ]
  },
  {
   "cell_type": "markdown",
   "id": "e1ed5d44",
   "metadata": {},
   "source": [
    "## 1. Selecting the list of US Stocks"
   ]
  },
  {
   "cell_type": "markdown",
   "id": "b9c988db",
   "metadata": {},
   "source": [
    "Below file contains the list of stocks traded in NASDAQ."
   ]
  },
  {
   "cell_type": "code",
   "execution_count": 7,
   "id": "f66a4b56",
   "metadata": {},
   "outputs": [],
   "source": [
    "nasdaq_stocks = pd.read_csv('nasdaq stocks.csv')"
   ]
  },
  {
   "cell_type": "markdown",
   "id": "5dc910c5",
   "metadata": {},
   "source": [
    "We consider stocks with market cap between 10 Million to 1 Billion USD."
   ]
  },
  {
   "cell_type": "code",
   "execution_count": 8,
   "id": "519150b8",
   "metadata": {},
   "outputs": [
    {
     "data": {
      "text/plain": [
       "788"
      ]
     },
     "execution_count": 8,
     "metadata": {},
     "output_type": "execute_result"
    }
   ],
   "source": [
    "reference_stocks = nasdaq_stocks[(nasdaq_stocks['Market Cap']<1e12) & (nasdaq_stocks['Market Cap']>10e9)]\n",
    "len(reference_stocks)"
   ]
  },
  {
   "cell_type": "markdown",
   "id": "7b46de2d",
   "metadata": {},
   "source": [
    "## 2. Extracting the data from Yahoo Finance"
   ]
  },
  {
   "cell_type": "markdown",
   "id": "a2e7d820",
   "metadata": {},
   "source": [
    "The stock data is taken for the last 10 years from ```'2012-01-01'``` to ```'2022-01-01'```."
   ]
  },
  {
   "cell_type": "code",
   "execution_count": 79,
   "id": "ac94e362",
   "metadata": {},
   "outputs": [
    {
     "name": "stdout",
     "output_type": "stream",
     "text": [
      "[***************       32%%                      ]  252 of 788 completed"
     ]
    },
    {
     "name": "stderr",
     "output_type": "stream",
     "text": [
      "Failed to get ticker 'BRK/B' reason: Expecting value: line 1 column 1 (char 0)\n"
     ]
    },
    {
     "name": "stdout",
     "output_type": "stream",
     "text": [
      "[**********************89%%*****************     ]  702 of 788 completed"
     ]
    },
    {
     "name": "stderr",
     "output_type": "stream",
     "text": [
      "Failed to get ticker 'BRK/A' reason: Expecting value: line 1 column 1 (char 0)\n"
     ]
    },
    {
     "name": "stdout",
     "output_type": "stream",
     "text": [
      "[*********************100%%**********************]  788 of 788 completed"
     ]
    },
    {
     "name": "stderr",
     "output_type": "stream",
     "text": [
      "\n",
      "16 Failed downloads:\n",
      "['TPG', 'ARM', 'VLTO', 'SATX', 'ASBA', 'HLN', 'GEHC', 'BKDT', 'CEG', 'CRBG', 'KVUE', 'VFS', 'AGNCL', 'BAM']: Exception(\"%ticker%: Data doesn't exist for startDate = 1325394000, endDate = 1641013200\")\n",
      "['BRK/B', 'BRK/A']: Exception('%ticker%: No timezone found, symbol may be delisted')\n"
     ]
    },
    {
     "name": "stdout",
     "output_type": "stream",
     "text": [
      "\n"
     ]
    }
   ],
   "source": [
    "stock_data = yf.download(reference_stocks['Symbol'].to_list(),start = '2012-01-01',end ='2022-01-01')"
   ]
  },
  {
   "cell_type": "code",
   "execution_count": 26,
   "id": "3de3e4a4",
   "metadata": {},
   "outputs": [],
   "source": [
    "stock_data.index = pd.to_datetime(stock_data.index)"
   ]
  },
  {
   "cell_type": "markdown",
   "id": "b3ec0a39",
   "metadata": {},
   "source": [
    "Removing Stocks which were not available since last 10 years."
   ]
  },
  {
   "cell_type": "code",
   "execution_count": 27,
   "id": "de028650",
   "metadata": {},
   "outputs": [
    {
     "data": {
      "text/plain": [
       "614"
      ]
     },
     "execution_count": 27,
     "metadata": {},
     "output_type": "execute_result"
    }
   ],
   "source": [
    "stock_prices = stock_data['Adj Close'].dropna(axis=1)\n",
    "len(stock_prices.columns)"
   ]
  },
  {
   "cell_type": "code",
   "execution_count": 28,
   "id": "3cc27281",
   "metadata": {},
   "outputs": [],
   "source": [
    "normalized_prices = stock_prices/stock_prices.iloc[0,:]"
   ]
  },
  {
   "cell_type": "code",
   "execution_count": 29,
   "id": "f4878ac4",
   "metadata": {},
   "outputs": [],
   "source": [
    "normalization_ratio = stock_prices.iloc[0,:]"
   ]
  },
  {
   "cell_type": "markdown",
   "id": "a16eeb5e",
   "metadata": {},
   "source": [
    "## 3. Testing for Cointegration between the selected stocks"
   ]
  },
  {
   "cell_type": "markdown",
   "id": "5ae9127e",
   "metadata": {},
   "source": [
    "### 3.1 Implementing Regression between each pair"
   ]
  },
  {
   "cell_type": "code",
   "execution_count": 30,
   "id": "0b62aee6",
   "metadata": {},
   "outputs": [],
   "source": [
    "def pair_wise_reg(Y,X):\n",
    "    X = X.values\n",
    "    X = np.hstack([np.ones(X.shape[0]).reshape(-1,1),X.reshape(-1,1)])\n",
    "    Y = Y.values.reshape(-1,1)\n",
    "    model = OLS(Y,X).fit()\n",
    "    return {'alpha':model.params[0],'beta':model.params[1],'t-stat':model.tvalues[1],\n",
    "            'p-value':model.pvalues[1],'r-sq':model.rsquared}"
   ]
  },
  {
   "cell_type": "code",
   "execution_count": 139,
   "id": "d0c6f596",
   "metadata": {
    "deletable": false,
    "editable": false,
    "run_control": {
     "frozen": true
    }
   },
   "outputs": [
    {
     "name": "stdout",
     "output_type": "stream",
     "text": [
      "0.00% completed...\n",
      "16.37% completed...\n",
      "32.73% completed...\n",
      "49.10% completed...\n",
      "65.47% completed...\n",
      "81.83% completed...\n",
      "98.20% completed...\n"
     ]
    }
   ],
   "source": [
    "reg_df = pd.DataFrame()\n",
    "for i in range(normalized_prices.shape[1]-1):\n",
    "    for j in range(i+1,normalized_prices.shape[1]):\n",
    "        Y = normalized_prices.iloc[:,i]\n",
    "        X = normalized_prices.iloc[:,j]\n",
    "        reg_output = pair_wise_reg(Y,X)\n",
    "        if abs(reg_output['beta']) < 1:\n",
    "            Y,X = X.copy(),Y.copy()\n",
    "            reg_output = pair_wise_reg(Y,X)\n",
    "        reg_output = {'Y':normalized_prices.iloc[:,i].name,'X':normalized_prices.iloc[:,j].name,**reg_output}\n",
    "        if reg_df.empty:\n",
    "            reg_df = pd.DataFrame(reg_output,index=[0])\n",
    "        else:\n",
    "            reg_df = pd.concat([reg_df,pd.DataFrame(reg_output,index=[0])],ignore_index=True)\n",
    "    if i%100 == 0:\n",
    "        print(f'{i/normalized_prices.shape[1]*100:.2f}% completed...')"
   ]
  },
  {
   "cell_type": "code",
   "execution_count": 31,
   "id": "c3212cb5",
   "metadata": {},
   "outputs": [],
   "source": [
    "#reg_df.to_csv('Regression Output.csv')\n",
    "reg_df = pd.read_csv('Regression Output.csv',index_col=0)"
   ]
  },
  {
   "cell_type": "markdown",
   "id": "97af29b5",
   "metadata": {},
   "source": [
    "Removing pairs with p-value greater than 0.05 or beta < 1."
   ]
  },
  {
   "cell_type": "code",
   "execution_count": 32,
   "id": "728587fb",
   "metadata": {},
   "outputs": [],
   "source": [
    "reg_df = reg_df[(reg_df['p-value']<0.05)&(reg_df['beta']>1)]"
   ]
  },
  {
   "cell_type": "markdown",
   "id": "e0bc6de9",
   "metadata": {},
   "source": [
    "### 3.2 Implementing ADF test to test the stationarity"
   ]
  },
  {
   "cell_type": "code",
   "execution_count": 22,
   "id": "b4ebdbe7",
   "metadata": {
    "deletable": false,
    "editable": false,
    "run_control": {
     "frozen": true
    }
   },
   "outputs": [
    {
     "name": "stdout",
     "output_type": "stream",
     "text": [
      "0.00% completed...\n",
      "8.37% completed...\n",
      "16.74% completed...\n",
      "25.11% completed...\n",
      "33.47% completed...\n",
      "41.84% completed...\n",
      "50.21% completed...\n",
      "58.58% completed...\n",
      "66.95% completed...\n",
      "75.32% completed...\n",
      "83.69% completed...\n",
      "92.05% completed...\n"
     ]
    }
   ],
   "source": [
    "adf_p_val = []\n",
    "\n",
    "for i in range(len(reg_df)):\n",
    "    Y,X,alpha,beta = reg_df.iloc[i][['Y','X','alpha','beta']]\n",
    "    residuals = normalized_prices[Y] - alpha - beta *normalized_prices[X]\n",
    "    adf_p_val.append(adfuller(residuals,maxlag=1)[1])\n",
    "    if i%10000 == 0:\n",
    "        print(f'{i/reg_df.shape[0]*100:.2f}% completed...')\n",
    "\n",
    "reg_df['ADF p-value'] = adf_p_val"
   ]
  },
  {
   "cell_type": "code",
   "execution_count": 33,
   "id": "59c2c67c",
   "metadata": {},
   "outputs": [],
   "source": [
    "#reg_df.to_csv('ADF Results.csv')\n",
    "adf_result = pd.read_csv('ADF Results.csv',index_col=0)"
   ]
  },
  {
   "cell_type": "markdown",
   "id": "5bab8a74",
   "metadata": {},
   "source": [
    "Removing results which are not stationary"
   ]
  },
  {
   "cell_type": "code",
   "execution_count": 34,
   "id": "c2a8be27",
   "metadata": {},
   "outputs": [],
   "source": [
    "adf_result = adf_result[adf_result['ADF p-value']<0.05]"
   ]
  },
  {
   "cell_type": "markdown",
   "id": "5ec3352c",
   "metadata": {},
   "source": [
    "### 3.3 Testing the predictive power of the residual using ECM"
   ]
  },
  {
   "cell_type": "code",
   "execution_count": 35,
   "id": "2c0c1db3",
   "metadata": {},
   "outputs": [],
   "source": [
    "def ECM(Y,X,alpha,beta):\n",
    "    del_Y = Y.diff().dropna().values\n",
    "    del_X = X.diff().dropna().values\n",
    "    residuals = (Y - alpha - beta * X).shift(1).dropna().values\n",
    "    model = OLS(del_Y.reshape(-1,1),np.hstack([del_X.reshape(-1,1),residuals.reshape(-1,1)])).fit()\n",
    "    return model.params[1],model.pvalues[1],model.rsquared\n"
   ]
  },
  {
   "cell_type": "code",
   "execution_count": 26,
   "id": "d4f2622b",
   "metadata": {
    "deletable": false,
    "editable": false,
    "run_control": {
     "frozen": true
    },
    "scrolled": true
   },
   "outputs": [
    {
     "name": "stdout",
     "output_type": "stream",
     "text": [
      "0.00% completed...\n",
      "7.53% completed...\n",
      "15.07% completed...\n",
      "22.60% completed...\n",
      "30.14% completed...\n",
      "37.67% completed...\n",
      "45.20% completed...\n",
      "52.74% completed...\n",
      "60.27% completed...\n",
      "67.81% completed...\n",
      "75.34% completed...\n",
      "82.88% completed...\n",
      "90.41% completed...\n",
      "97.94% completed...\n"
     ]
    }
   ],
   "source": [
    "coint_strength_vals = []\n",
    "coint_strength_pvalue_vals = []\n",
    "coint_strength_rsq_vals = []\n",
    "for i in range(len(adf_result)):\n",
    "    Y_val,X_val,alpha,beta = adf_result.iloc[i][['Y','X','alpha','beta']]\n",
    "    Y = normalized_prices[Y_val]\n",
    "    X = normalized_prices[X_val]\n",
    "    strength,pvalue,rsq = ECM(Y,X,alpha,beta)\n",
    "    coint_strength_vals.append(strength)\n",
    "    coint_strength_pvalue_vals.append(pvalue)\n",
    "    coint_strength_rsq_vals.append(rsq)\n",
    "    if i%1000 ==0:\n",
    "        print(f'{i/len(adf_result)*100:.2f}% completed...')\n",
    "        \n",
    "adf_result['Coint Strength'] = coint_strength_vals\n",
    "adf_result['Coint Strength p-value'] = coint_strength_pvalue_vals\n",
    "adf_result['Coint Strength Rsq'] = coint_strength_rsq_vals"
   ]
  },
  {
   "cell_type": "code",
   "execution_count": 36,
   "id": "a7c892c8",
   "metadata": {},
   "outputs": [],
   "source": [
    "#adf_result.to_csv('ECM Results.csv')\n",
    "ECM_result = pd.read_csv('ECM Results.csv',index_col=0)"
   ]
  },
  {
   "cell_type": "markdown",
   "id": "c3a57fb5",
   "metadata": {},
   "source": [
    "Filtering out pairs that don't have significant predictive power."
   ]
  },
  {
   "cell_type": "code",
   "execution_count": 37,
   "id": "a19d9d3e",
   "metadata": {},
   "outputs": [
    {
     "data": {
      "text/plain": [
       "9887"
      ]
     },
     "execution_count": 37,
     "metadata": {},
     "output_type": "execute_result"
    }
   ],
   "source": [
    "ECM_result = ECM_result[(ECM_result['Coint Strength p-value']<0.05)&(ECM_result['ADF p-value']<0.05)]\n",
    "len(ECM_result)"
   ]
  },
  {
   "cell_type": "markdown",
   "id": "16cbc6c9",
   "metadata": {},
   "source": [
    "## 4. Fitting the spread to an OU process"
   ]
  },
  {
   "cell_type": "markdown",
   "id": "5155f4ab",
   "metadata": {},
   "source": [
    "### 4.1 Ornstein-Uhlenbeck Process:"
   ]
  },
  {
   "cell_type": "markdown",
   "id": "8f0d7b80",
   "metadata": {},
   "source": [
    "From the previous sections, the spread between the cointegrating pairs was found to be stationary. Since the spread is stationary, it is considered to follow a mean reverting process which is called Ornstein-Uhlenbeck (OU) Process. The OU process has the following dynamics:\n",
    "\n",
    "$$dr_t = \\theta(\\mu - r_t)dt +\\sigma dX_t$$ where $\\theta$ is the speed of reversion"
   ]
  },
  {
   "cell_type": "markdown",
   "id": "f0dbf942",
   "metadata": {},
   "source": [
    "The SDE is solved below:\n",
    "\n",
    "$$\\begin{align*}\n",
    "dr &= \\theta(\\mu - r)dt +\\sigma dX\\\\\n",
    "\\\\\n",
    "e^{\\theta t}dr & = e^{\\theta t}(\\theta (\\mu - r)dt + \\sigma dX) \\qquad \\qquad \\quad \\quad\\text{(Multiplying by $e^{\\theta t}$)}\\\\\n",
    "\\\\\n",
    "e^{\\theta t}dr &= \\mu  \\theta e^{\\theta t} dt -  r \\theta e^{\\theta t} dt + e^{\\theta t} \\sigma dX\\\\\n",
    "\\\\\n",
    "e^{\\theta t}dr +r \\theta e^{\\theta t} dt &= \\mu  \\theta e^{\\theta t} dt   + e^{\\theta t} \\sigma dX\\\\\n",
    "\\\\\n",
    "d(re^{\\theta t}) &= \\mu  \\theta e^{\\theta t}  dt   + e^{\\theta t} \\sigma dX  \\qquad \\qquad \\qquad \\quad \\text{(Applying Ito's Lemma)}\\\\\n",
    "\\\\\n",
    "\\int_t^T d(r_s e^{\\theta s}) &=  \\mu \\theta \\int_t^T e^{\\theta s} ds + \\sigma \\int_t^T e^{\\theta s} dX_s  \\qquad \\text{(Integrating from t to T)}\\\\\n",
    "r_{T} e^{\\theta T} - r_t e^{\\theta t} &= \\mu (e^{\\theta T} - e^{\\theta t}) + \\sigma \\int_t^T e^{\\theta s} dX_s\\\\\n",
    "\\end{align*}$$\n",
    "\n",
    "$$\\begin{equation*}\n",
    "\\boxed{r_{T} = r_t e^{-\\theta (T-t)} + \\mu (1- e^{-\\theta (T-t)}) + \\sigma e^{-\\theta T} \\int_t^T e^{\\theta s} dX_s} \\tag{1}\n",
    "\\end{equation*}$$"
   ]
  },
  {
   "cell_type": "markdown",
   "id": "80016919",
   "metadata": {},
   "source": [
    "The above equation is the solution for the mean reverting process $r_T$ given the information at time $t$. Below equations give the expectation and variance of $r_T.$"
   ]
  },
  {
   "cell_type": "markdown",
   "id": "91ff2016",
   "metadata": {},
   "source": [
    "$$\\begin{align*} \n",
    "\\mathbb{E}[r_{T}|\\mathcal{F}_t] &= \\mathbb{E}_t \\bigl [r_t e^{-\\theta (T-t)} + \\mu (1- e^{-\\theta (T-t)}) + \\sigma e^{-\\theta T} \\int_t^T e^{\\theta s} dX_s\\bigr]\\\\\n",
    "&= r_t e^{-\\theta (T-t)}+ \\mu (1- e^{-\\theta (T-t)}) + \\sigma e^{-\\theta T} \\mathbb{E}_s \\bigl[  \\int_t^T e^{\\theta s} dX_s\\bigr]\\\\\n",
    "\\\\\n",
    "&= r_t e^{-\\theta (T-t)}+ \\mu (1- e^{-\\theta (\n",
    "T-t)})\\qquad\\small\\text{(Expection of an Ito Integral is zero)}\\tag{2}\\\\\n",
    "\\\\\n",
    "\\\\\n",
    "Var[r_T|\\mathcal{F}_t] &= Var\\bigl(r_t e^{-\\theta (T-t)} + \\mu (1- e^{-\\theta (T-t)}) + \\sigma e^{-\\theta T} \\int_t^T e^{\\theta s} dX_s\\bigr)\\\\\n",
    "&=Var\\bigl(\\sigma e^{-\\theta T} \\int_t^T e^{\\theta s} dX_s\\bigr)\\\\ &= \\sigma^2 e^{-2 \\theta T} Var\\bigl(\\int_t^T e^{\\theta s} dX_s\\bigr)\\\\\n",
    "&=\\sigma^2 e^{-2 \\theta T} \\mathbb{E}\\bigl[\\int_t^T e^{2\\theta s}dt\\bigr] \\qquad \\qquad \\small \\text{(Ito Isometry)}\\\\\n",
    "&=\\sigma^2 e^{-2 \\theta T}\\biggl(\\frac{e^{2 \\theta T - 2 \\theta t}}{2\\theta}\\biggr)\\\\\n",
    "&=\\frac{\\sigma^2}{2\\theta}\\bigl(1-e^{-2\\theta(T-t)}\\bigr)\\tag{3}\n",
    "\\end{align*}$$"
   ]
  },
  {
   "cell_type": "markdown",
   "id": "0a80457a",
   "metadata": {},
   "source": [
    "From the above equations for mean and variance, the long term equilibrium mean $\\mu_{eq}$ and variance $\\sigma^2_{eq}$ can be found. \n",
    "\n",
    "As $T \\gt \\gt t, (T-t)\\to \\infty$. Applying this to equations (2) and (3) gives \n",
    "\n",
    "$$ \\begin{equation*}\n",
    "\\boxed{\\mu_{eq}= \\mu} \\tag{4}\\\\\n",
    "\\end{equation*}$$\n",
    "$$\\begin{equation*}\n",
    "\\boxed{\\sigma^2_{eq} = \\frac{\\sigma^2}{2\\theta}} \\tag{5}\n",
    "\\end{equation*}$$"
   ]
  },
  {
   "cell_type": "markdown",
   "id": "4a0204de",
   "metadata": {},
   "source": [
    "### 4.2 Fitting the signal to the OU process"
   ]
  },
  {
   "cell_type": "markdown",
   "id": "5389a45f",
   "metadata": {},
   "source": [
    "To fit the cointegrating residuals to the OU process, the following AR(1) model is created.\n",
    "\n",
    "$$ r_t = a + br_{t-1} + \\epsilon_t \\tag{6}$$\n",
    "\n",
    "The long term mean can be derived from (6) as $$\\begin{equation*}\\boxed{\\mu_{eq} = \\frac{a}{1-b}}\\end{equation*}\\tag{7}$$\n",
    "\n",
    "The speed of reversion can be derived from (6) as $$\\begin{equation*}\\boxed{\\theta = -\\frac{ln(b)}{(T-t)}}\\end{equation*}\\tag{8}$$\n",
    "\n",
    "The long term variance can be derived from (6) as $$\\begin{equation*}\\boxed{\\sigma^2_{eq} = \\frac{Var(\\epsilon)}{1-e^{-2\\theta(T-t)}}}\\end{equation*}\\tag{9}$$"
   ]
  },
  {
   "cell_type": "markdown",
   "id": "3a402c87",
   "metadata": {},
   "source": [
    "Since the model is bulit on daily prices, $$(T-t) = \\frac{1}{252}$$"
   ]
  },
  {
   "cell_type": "code",
   "execution_count": 38,
   "id": "1edb7f6c",
   "metadata": {},
   "outputs": [],
   "source": [
    "def OU_fit(Z):\n",
    "    Z_1 = np.hstack([np.ones(Z.shape[0]-1).reshape(-1,1),Z.shift(1).dropna().values.reshape(-1,1)])\n",
    "    Z = Z.values[1:]\n",
    "    model = OLS(Z,Z_1).fit()\n",
    "    a,b = model.params\n",
    "    theta_sig,OU_rsq = model.pvalues[1],model.rsquared\n",
    "    mean_eq = a/(1-b)\n",
    "    theta = -np.log(b)*252\n",
    "    var_eq = np.var(model.resid)/(1-np.exp(-2*theta/252))\n",
    "    return {'Mean_Eq':mean_eq,'Theta':theta,'Theta p-value':theta_sig,'OU R-sq':OU_rsq,'Var_Eq':var_eq}"
   ]
  },
  {
   "cell_type": "code",
   "execution_count": 71,
   "id": "aaa98162",
   "metadata": {
    "deletable": false,
    "editable": false,
    "run_control": {
     "frozen": true
    }
   },
   "outputs": [],
   "source": [
    "OU_result_df = pd.DataFrame()\n",
    "for i in range(len(ECM_result)):\n",
    "    Y_val,X_val,alpha,beta = ECM_result.iloc[i][['Y','X','alpha','beta']]\n",
    "    Y = normalized_prices[Y_val]\n",
    "    X = normalized_prices[X_val]\n",
    "    Z = Y - beta * X\n",
    "    OU_fit_result = OU_fit(Z)\n",
    "    if OU_result_df.empty:\n",
    "        OU_result_df = pd.DataFrame(OU_fit_result,index=[0])\n",
    "    else:\n",
    "        OU_result_df = pd.concat([OU_result_df,pd.DataFrame(OU_fit_result,index=[0])],ignore_index=True)\n",
    "OU_fit_result = pd.concat([ECM_result.reset_index(),OU_result_df],axis=1,)"
   ]
  },
  {
   "cell_type": "code",
   "execution_count": 39,
   "id": "b5f4fd5f",
   "metadata": {},
   "outputs": [],
   "source": [
    "#OU_fit_result.to_csv('OU Results.csv')\n",
    "OU_fit_result = pd.read_csv('OU Results.csv',index_col=0).drop('index',axis=1)"
   ]
  },
  {
   "cell_type": "code",
   "execution_count": 40,
   "id": "6dd11fa7",
   "metadata": {},
   "outputs": [],
   "source": [
    "hedge_ratio = []\n",
    "for i in range(OU_fit_result.shape[0]):\n",
    "    hedge_ratio.append(stock_prices[OU_fit_result.iloc[i]['Y']].iloc[0]/stock_prices[OU_fit_result.iloc[i]['X']].iloc[0]*OU_fit_result.iloc[i]['beta'])"
   ]
  },
  {
   "cell_type": "code",
   "execution_count": 41,
   "id": "1aab6433",
   "metadata": {},
   "outputs": [],
   "source": [
    "OU_fit_result['hedge_ratio'] = hedge_ratio"
   ]
  },
  {
   "cell_type": "markdown",
   "id": "d456e291",
   "metadata": {},
   "source": [
    "Filtering out rows to focus on the most significant pairs"
   ]
  },
  {
   "cell_type": "code",
   "execution_count": 248,
   "id": "d0867442",
   "metadata": {},
   "outputs": [],
   "source": [
    "p_value_threshold = 0.01\n",
    "r_sq_threshold = 0.2"
   ]
  },
  {
   "cell_type": "code",
   "execution_count": 249,
   "id": "a8acbb09",
   "metadata": {},
   "outputs": [],
   "source": [
    "final_pairs_df =  OU_fit_result[(OU_fit_result['p-value']<p_value_threshold)&\n",
    "                  (OU_fit_result['Coint Strength p-value']<p_value_threshold)&\n",
    "                  (OU_fit_result['ADF p-value']<p_value_threshold)&\n",
    "                  (OU_fit_result['Theta p-value']<p_value_threshold)&\n",
    "                  (OU_fit_result['Coint Strength Rsq']>r_sq_threshold)&\n",
    "                    (OU_fit_result['hedge_ratio']>1)]"
   ]
  },
  {
   "cell_type": "code",
   "execution_count": 250,
   "id": "f68e4fb5",
   "metadata": {
    "scrolled": true
   },
   "outputs": [
    {
     "data": {
      "text/plain": [
       "669"
      ]
     },
     "execution_count": 250,
     "metadata": {},
     "output_type": "execute_result"
    }
   ],
   "source": [
    "len(final_pairs_df)"
   ]
  },
  {
   "cell_type": "markdown",
   "id": "b14b366f",
   "metadata": {},
   "source": [
    "## 5. Trading Strategy and Backtesting"
   ]
  },
  {
   "cell_type": "markdown",
   "id": "83a7faa6",
   "metadata": {},
   "source": [
    "### 5.1 Strategy"
   ]
  },
  {
   "cell_type": "code",
   "execution_count": 209,
   "id": "1881d355",
   "metadata": {},
   "outputs": [],
   "source": [
    "class pairs_trading_strategy():\n",
    "    def __init__(self,\n",
    "                 prices_df,\n",
    "                 n_positions = 10,\n",
    "                 init_cash_amt = 100000,\n",
    "                 margin = 0.2,\n",
    "                 long_entry_threshold=1.5,\n",
    "                 long_exit_threshold=2.5,\n",
    "                 short_entry_threshold=-1.5,\n",
    "                 short_exit_threshold=-2.5):\n",
    "\n",
    "        self.final_pairs = final_pairs_df.sort_values('Theta',ascending=False)\n",
    "        self.final_pairs['Pair ID'] = np.arange(self.final_pairs.shape[0])\n",
    "        self.prices_df = prices_df\n",
    "        self.prices_df.index = pd.to_datetime(self.prices_df.index)\n",
    "        self.adj_close = prices_df['Adj Close']\n",
    "        self.normalized_prices = self.adj_close/ normalization_ratio\n",
    "        self.price_adjustment = (np.round((prices_df['Adj Close']/prices_df['Close']).diff(),4).fillna(0)!=0)* \\\n",
    "                                (prices_df['Close']-prices_df['Adj Close'])\n",
    "        self.n_positions = n_positions\n",
    "        self.margin = margin\n",
    "        self.cash_amt = init_cash_amt\n",
    "        self.margin_amt = 0\n",
    "        self.amt_invested = 0\n",
    "        self.long_value = 0\n",
    "        self.short_value =0\n",
    "        self.position_pl = 0\n",
    "        self.long_entry_threshold = long_entry_threshold\n",
    "        self.long_exit_threshold = long_exit_threshold\n",
    "        self.short_entry_threshold = short_entry_threshold\n",
    "        self.short_exit_threshold = short_exit_threshold\n",
    "        \n",
    "        self.position_tracker = {'Pair ID':[],'Trade Type':[],'Long':[],'Long Price':[],'Long Position': [],\n",
    "                                                  'Short':[],'Short Price':[],'Short Position':[],\n",
    "                                 'Current Long Price':[],'Current Short Price':[],\n",
    "                                 'P&L_Long':[],'P&L_Short':[],'Total_P&L':[]}\n",
    "        \n",
    "        self.out_df = pd.DataFrame(columns=['Date','Begining_Total_Amt','Begining_Cash_Amt',\n",
    "                                            'Begining_Long_Value','Begining_Short_Value','Begining_Margin',\n",
    "                                            'Long_Value_at_Open','Short_Value_at_Open','Margin_at_Open','Cash_at_Open',\n",
    "                                            'Long_Value_after_Close_Out','Short_Value_after_Close_Out','Margin_after_Close_Out','Cash_after_Close_Out',\n",
    "                                            'Long_Value_after_fill','Short_Value_after_fill','Margin_after_fill','Cash_after_fill',\n",
    "                                            'Long_Value_at_Close','Short_Value_at_Close','Margin_at_Close',\n",
    "                                            'Price_Adjustment','Ending_Cash_Amt','Ending_Total_Amt','P&L','Return'])\n",
    "        self.main()\n",
    "\n",
    "    def get_trade_opportunity(self, date):\n",
    "        date = pd.to_datetime(date)\n",
    "        prev_date = self.prices_df.index[self.prices_df.index.to_list().index(date)-1]\n",
    "        trade_opportunity = ['']*self.final_pairs.shape[0]\n",
    "        for i in range(len(self.final_pairs)):\n",
    "            pair_info = self.final_pairs.iloc[i]\n",
    "            spread = self.normalized_prices.loc[prev_date, pair_info['Y']] - \\\n",
    "                pair_info['beta'] * \\\n",
    "                self.normalized_prices.loc[prev_date, pair_info['X']]\n",
    "\n",
    "            if spread >= pair_info['Mean_Eq'] + self.long_entry_threshold * pair_info['Var_Eq']**0.5 \\\n",
    "            and spread <= pair_info['Mean_Eq'] + self.long_exit_threshold * pair_info['Var_Eq']**0.5:\n",
    "                trade_opportunity[i] = 'long_enter'\n",
    "                \n",
    "            elif spread <= pair_info['Mean_Eq'] + self.short_entry_threshold * pair_info['Var_Eq']**0.5 \\\n",
    "            and spread >= pair_info['Mean_Eq'] + self.short_exit_threshold * pair_info['Var_Eq']**0.5:\n",
    "                trade_opportunity[i] = 'short_enter'  \n",
    "            else:\n",
    "                trade_opportunity[i] = 'no_trade'\n",
    "        \n",
    "        return np.array(trade_opportunity)\n",
    "    \n",
    "    def fill_new_positions(self,date):\n",
    "        if self.cash_amt > 0:\n",
    "            date = pd.to_datetime(date)\n",
    "            pos_to_fill = self.n_positions - len(self.position_tracker['Pair ID'])\n",
    "            trade_opportunity = self.get_trade_opportunity(date)\n",
    "            best_pairs_info = self.final_pairs[(np.isin(trade_opportunity,['long_enter','short_enter']))]\n",
    "            best_pairs_info = best_pairs_info[~best_pairs_info['Pair ID'].isin(self.position_tracker['Pair ID'])][:pos_to_fill]\n",
    "            for i in range(len(best_pairs_info)):\n",
    "                self.position_tracker['Pair ID'].append(best_pairs_info['Pair ID'].iloc[i])\n",
    "                if trade_opportunity[self.position_tracker['Pair ID'][-1]] == 'long_enter':\n",
    "                    self.position_tracker['Trade Type'].append('Long')\n",
    "                    self.position_tracker['Long'].append(best_pairs_info['Y'].iloc[i])\n",
    "                    self.position_tracker['Short'].append(best_pairs_info['X'].iloc[i])\n",
    "                    buy_price = self.prices_df['Open'][self.position_tracker['Long'][-1]].loc[date]\n",
    "                    sell_price = self.prices_df['Open'][self.position_tracker['Short'][-1]].loc[date]\n",
    "                    self.position_tracker['Long Price'].append(buy_price)\n",
    "                    self.position_tracker['Short Price'].append(sell_price)\n",
    "                    cost_of_hedge = (buy_price+self.margin*best_pairs_info['hedge_ratio'].iloc[i]*sell_price)*1.1\n",
    "                    self.position_tracker['Long Position'].append(int((self.cash_amt/pos_to_fill)/cost_of_hedge))\n",
    "                    self.position_tracker['Short Position'].append(int(best_pairs_info['hedge_ratio'].iloc[i]* \\\n",
    "                                                                      self.position_tracker['Long Position'][-1]))\n",
    "\n",
    "                elif trade_opportunity[self.position_tracker['Pair ID'][-1]] == 'short_enter':\n",
    "                    self.position_tracker['Long'].append(best_pairs_info['X'].iloc[i])\n",
    "                    self.position_tracker['Trade Type'].append('Short')\n",
    "                    self.position_tracker['Short'].append(best_pairs_info['Y'].iloc[i])\n",
    "                    buy_price = self.prices_df['Open'][self.position_tracker['Long'][-1]].loc[date]\n",
    "                    sell_price = self.prices_df['Open'][self.position_tracker['Short'][-1]].loc[date]\n",
    "                    self.position_tracker['Long Price'].append(buy_price)\n",
    "                    self.position_tracker['Short Price'].append(sell_price)\n",
    "                    cost_of_hedge = (buy_price*best_pairs_info['hedge_ratio'].iloc[i]+self.margin*sell_price)*1.1\n",
    "                    self.position_tracker['Short Position'].append(int((self.cash_amt/pos_to_fill)/cost_of_hedge))\n",
    "                    self.position_tracker['Long Position'].append(int(best_pairs_info['hedge_ratio'].iloc[i]* \\\n",
    "                                                                     self.position_tracker['Short Position'][-1]))\n",
    "\n",
    "            \n",
    "                \n",
    "    def get_close_out_opportunity(self,date):\n",
    "        date = pd.to_datetime(date)\n",
    "        prev_date = self.prices_df.index[self.prices_df.index.to_list().index(date)-1]\n",
    "        close_out_opportunity = ['']*len(self.position_tracker['Pair ID'])\n",
    "        for i in range(len(self.position_tracker['Pair ID'])):\n",
    "            pair_info = self.final_pairs.iloc[self.position_tracker['Pair ID'][i]]\n",
    "            spread = self.normalized_prices.loc[prev_date, pair_info['Y']] - \\\n",
    "                pair_info['beta'] * \\\n",
    "                self.normalized_prices.loc[prev_date, pair_info['X']]\n",
    "            \n",
    "            if self.position_tracker['Trade Type'][i] == 'Long':\n",
    "                if spread <= pair_info['Mean_Eq']:\n",
    "                    close_out_opportunity[i] = 'long_close_out'\n",
    "            \n",
    "                elif spread > (pair_info['Mean_Eq'] + self.long_exit_threshold * pair_info['Var_Eq']**0.5):\n",
    "                    close_out_opportunity[i] = 'long_exit'\n",
    "                \n",
    "                else:\n",
    "                    close_out_opportunity[i] = 'Hold'\n",
    "                    \n",
    "            elif self.position_tracker['Trade Type'][i] == 'Short':\n",
    "                if spread >= pair_info['Mean_Eq']:\n",
    "                    close_out_opportunity[i] = 'short_close_out'\n",
    "            \n",
    "                elif spread < pair_info['Mean_Eq'] + self.short_exit_threshold * pair_info['Var_Eq']**0.5:\n",
    "                    close_out_opportunity[i] = 'short_exit'\n",
    "                else:\n",
    "                    close_out_opportunity[i] = 'Hold'\n",
    "                    \n",
    "        return close_out_opportunity\n",
    "    \n",
    "    def close_out_positions(self,date):\n",
    "        date = pd.to_datetime(date)\n",
    "        close_out_opportunity = self.get_close_out_opportunity(date)\n",
    "        for key in self.position_tracker.keys():\n",
    "            new_list = [item for i,item in enumerate(self.position_tracker[key]) \n",
    "                        if close_out_opportunity[i] in ['Hold']]\n",
    "            self.position_tracker[key] = new_list\n",
    "            \n",
    "    def update_current_value(self,date,time):\n",
    "        date = pd.to_datetime(date)\n",
    "        self.position_tracker['Current Long Price'] = []\n",
    "        self.position_tracker['Current Short Price'] = []\n",
    "        self.position_tracker['P&L_Long'] = []\n",
    "        self.position_tracker['P&L_Short'] = []\n",
    "        self.position_tracker['Total_P&L'] = []\n",
    "        for i in range(len(self.position_tracker['Pair ID'])):\n",
    "            self.position_tracker['Current Long Price'].append(self.prices_df[time].loc[date,self.position_tracker['Long'][i]])\n",
    "            self.position_tracker['Current Short Price'].append(self.prices_df[time].loc[date,self.position_tracker['Short'][i]])\n",
    "            self.position_tracker['P&L_Long'].append((self.position_tracker['Current Long Price'][i]- \\\n",
    "                                                     self.position_tracker['Long Price'][i])*self.position_tracker['Long Position'][i])\n",
    "            self.position_tracker['P&L_Short'].append((self.position_tracker['Short Price'][i]- \\\n",
    "                                                      self.position_tracker['Current Short Price'][i])*self.position_tracker['Short Position'][i])\n",
    "            self.position_tracker['Total_P&L'].append(self.position_tracker['P&L_Long'][i]+self.position_tracker['P&L_Short'][i])\n",
    "    \n",
    "    def fill_scenario(self):\n",
    "        prev_long_value = self.long_value\n",
    "        prev_short_value = self.short_value\n",
    "        prev_amt_invested = self.amt_invested\n",
    "        self.long_value = np.dot(self.position_tracker['Long Position'],self.position_tracker['Current Long Price'])\n",
    "        self.short_value = np.dot(self.position_tracker['Short Position'],self.position_tracker['Current Short Price'])\n",
    "        long_transaction = self.long_value - prev_long_value\n",
    "        short_transaction = self.short_value - prev_short_value\n",
    "        self.amt_invested = np.dot(self.position_tracker['Long Position'],self.position_tracker['Long Price'])\n",
    "        filled_amt = self.amt_invested - prev_amt_invested\n",
    "        self.margin_amt += short_transaction*self.margin\n",
    "        transaction_cost = self.get_transaction_cost(long_transaction)+self.get_transaction_cost(short_transaction)\n",
    "        self.cash_amt = self.cash_amt - filled_amt - short_transaction*self.margin - transaction_cost\n",
    "          \n",
    "    def close_out_scenario(self):\n",
    "        prev_long_value = self.long_value\n",
    "        prev_short_value = self.short_value\n",
    "        prev_pl = self.position_pl\n",
    "        prev_amt = self.amt_invested\n",
    "        self.long_value = np.dot(self.position_tracker['Long Position'],self.position_tracker['Current Long Price'])\n",
    "        self.short_value = np.dot(self.position_tracker['Short Position'],self.position_tracker['Current Short Price'])\n",
    "        self.position_pl = np.sum(self.position_tracker['Total_P&L'])\n",
    "        self.amt = np.dot(self.position_tracker['Long Position'],self.position_tracker['Long Price'])\n",
    "        closed_amt = prev_amt -self.amt_invested\n",
    "        long_transaction = self.long_value - prev_long_value\n",
    "        short_transaction = self.short_value - prev_short_value\n",
    "        pl_transaction = self.position_pl - prev_pl\n",
    "        self.margin_amt += self.margin*short_transaction\n",
    "        transaction_cost = self.get_transaction_cost(long_transaction)+self.get_transaction_cost(short_transaction)\n",
    "        self.cash_amt = self.cash_amt + closed_amt - short_transaction*self.margin - transaction_cost + pl_transaction\n",
    "        \n",
    "    def value_change_scenario(self):\n",
    "        prev_margin = self.margin_amt\n",
    "        self.long_value = np.dot(self.position_tracker['Long Position'],self.position_tracker['Current Long Price'])\n",
    "        self.short_value = np.dot(self.position_tracker['Short Position'],self.position_tracker['Current Short Price'])\n",
    "        self.margin_amt = self.short_value * self.margin\n",
    "        self.cash_amt = self.cash_amt - self.margin_amt + prev_margin\n",
    "        self.position_pl = np.sum(self.position_tracker['Total_P&L'])\n",
    "          \n",
    "    def get_transaction_cost(self,transaction_amt):\n",
    "        slippage = 0.5/100\n",
    "        transaction_cost = 0.3/100\n",
    "        return (slippage+transaction_cost)*abs(transaction_amt)\n",
    "    \n",
    "    def get_price_adjustment(self,date):\n",
    "        long_adjustment = np.dot(self.price_adjustment.loc[date,self.position_tracker['Long']],\n",
    "                                 self.position_tracker['Current Long Price'])\n",
    "        \n",
    "        short_adjustment = np.dot(self.price_adjustment.loc[date,self.position_tracker['Short']],\n",
    "                                 self.position_tracker['Current Short Price'])\n",
    "        \n",
    "        total_adjustment = long_adjustment - short_adjustment\n",
    "        self.cash_amt += total_adjustment\n",
    "        return total_adjustment\n",
    "        \n",
    "    \n",
    "    def main(self):\n",
    "        for bar,date in enumerate(self.prices_df.index):\n",
    "            self.out_df.loc[bar,\"Date\"] = date\n",
    "            if bar == 0:\n",
    "                \n",
    "                for col in self.out_df.columns[1:]:\n",
    "                    if col in['Begining_Total_Amt','Begining_Cash_Amt','Ending_Cash_Amt',\n",
    "                            'Ending_Total_Amt']:\n",
    "                        self.out_df.loc[bar,col] = self.cash_amt\n",
    "                    else:    \n",
    "                        self.out_df.loc[bar,col] = 0\n",
    "                \n",
    "            else:\n",
    "                # Val before Open (Prev Day Close)\n",
    "                self.out_df.loc[bar,'Begining_Total_Amt'] = self.out_df.loc[bar-1,'Ending_Total_Amt']\n",
    "                self.out_df.loc[bar,'Begining_Cash_Amt'] = self.out_df.loc[bar-1,'Ending_Cash_Amt']\n",
    "                self.out_df.loc[bar,'Begining_Long_Value'] = self.out_df.loc[bar-1,'Long_Value_at_Close']\n",
    "                self.out_df.loc[bar,'Begining_Short_Value'] = self.out_df.loc[bar-1,'Short_Value_at_Close']\n",
    "                self.out_df.loc[bar,'Begining_Margin'] = self.out_df.loc[bar-1,'Margin_at_Close']\n",
    "                \n",
    "                # Reval at Open\n",
    "                self.update_current_value(date,'Open')\n",
    "                self.value_change_scenario()\n",
    "                self.out_df.loc[bar,'Long_Value_at_Open'] = self.long_value\n",
    "                self.out_df.loc[bar,'Short_Value_at_Open'] = self.short_value\n",
    "                self.out_df.loc[bar,'Margin_at_Open'] = self.margin_amt\n",
    "                self.out_df.loc[bar,'Cash_at_Open'] = self.cash_amt\n",
    "                \n",
    "                # Close Out Transaction at Open\n",
    "                self.close_out_positions(date)\n",
    "                self.close_out_scenario()\n",
    "                self.out_df.loc[bar,'Long_Value_after_Close_Out'] = self.long_value\n",
    "                self.out_df.loc[bar,'Short_Value_after_Close_Out'] = self.short_value\n",
    "                self.out_df.loc[bar,'Margin_after_Close_Out'] = self.margin_amt\n",
    "                self.out_df.loc[bar,'Cash_after_Close_Out'] = self.cash_amt\n",
    "                \n",
    "                # Fill Empty Positions\n",
    "                self.fill_new_positions(date)\n",
    "                self.update_current_value(date,'Open')\n",
    "                self.fill_scenario()\n",
    "                self.out_df.loc[bar,'Long_Value_after_fill'] = self.long_value\n",
    "                self.out_df.loc[bar,'Short_Value_after_fill'] = self.short_value\n",
    "                self.out_df.loc[bar,'Margin_after_fill'] = self.margin_amt\n",
    "                self.out_df.loc[bar,'Cash_after_fill'] = self.cash_amt\n",
    "                \n",
    "                # Reval at Close\n",
    "                self.update_current_value(date,'Close')\n",
    "                self.value_change_scenario()\n",
    "                total_adjustment = self.get_price_adjustment(date)\n",
    "                self.out_df.loc[bar,'Long_Value_at_Close'] = self.long_value\n",
    "                self.out_df.loc[bar,'Short_Value_at_Close'] = self.short_value\n",
    "                self.out_df.loc[bar,'Margin_at_Close'] = self.margin_amt\n",
    "                self.out_df.loc[bar,'Price_Adjustment'] = total_adjustment\n",
    "                self.out_df.loc[bar,'Ending_Cash_Amt'] = self.cash_amt\n",
    "                self.out_df.loc[bar,'Ending_Total_Amt'] = self.cash_amt + np.dot(self.position_tracker['Long Price'],\n",
    "                                                                             self.position_tracker['Long Position']) \\\n",
    "                                                                             +self.margin_amt + self.position_pl\n",
    "                \n",
    "                self.out_df.loc[bar,'P&L'] = self.out_df.loc[bar,'Ending_Total_Amt'] - self.out_df.loc[bar,'Begining_Total_Amt']\n",
    "                self.out_df.loc[bar,'Return'] = self.out_df.loc[bar,'P&L']/self.out_df.loc[bar,'Begining_Total_Amt']\n",
    "                \n",
    "            if bar%100 == 0:\n",
    "                print(f'{(bar/len(self.prices_df))*100:.1f} % Completed...')\n",
    "                \n",
    "                "
   ]
  },
  {
   "cell_type": "code",
   "execution_count": 210,
   "id": "bcf5bf50",
   "metadata": {
    "scrolled": true
   },
   "outputs": [
    {
     "name": "stdout",
     "output_type": "stream",
     "text": [
      "0.0 % Completed...\n",
      "4.0 % Completed...\n",
      "7.9 % Completed...\n",
      "11.9 % Completed...\n",
      "15.9 % Completed...\n",
      "19.9 % Completed...\n",
      "23.8 % Completed...\n",
      "27.8 % Completed...\n",
      "31.8 % Completed...\n",
      "35.8 % Completed...\n",
      "39.7 % Completed...\n",
      "43.7 % Completed...\n",
      "47.7 % Completed...\n",
      "51.6 % Completed...\n",
      "55.6 % Completed...\n",
      "59.6 % Completed...\n",
      "63.6 % Completed...\n",
      "67.5 % Completed...\n",
      "71.5 % Completed...\n",
      "75.5 % Completed...\n",
      "79.5 % Completed...\n",
      "83.4 % Completed...\n",
      "87.4 % Completed...\n",
      "91.4 % Completed...\n",
      "95.4 % Completed...\n",
      "99.3 % Completed...\n"
     ]
    }
   ],
   "source": [
    "x = pairs_trading_strategy(stock_data)"
   ]
  },
  {
   "cell_type": "code",
   "execution_count": 211,
   "id": "79dfa7bf",
   "metadata": {},
   "outputs": [],
   "source": [
    "x.out_df.to_csv('Output_full.csv')\n",
    "output_df = pd.read_csv('Output_full.csv',index_col=0)"
   ]
  },
  {
   "cell_type": "code",
   "execution_count": 212,
   "id": "53e2e87c",
   "metadata": {
    "scrolled": false
   },
   "outputs": [
    {
     "data": {
      "image/png": "[encoded data removed]",
      "text/plain": [
       "<Figure size 1500x600 with 1 Axes>"
      ]
     },
     "metadata": {},
     "output_type": "display_data"
    }
   ],
   "source": [
    "plt.figure(figsize=(15,6))\n",
    "plt.plot(pd.to_datetime(output_df['Date']),output_df['Ending_Total_Amt'])\n",
    "plt.xticks(rotation=45)\n",
    "plt.title('Value',fontsize = 20)\n",
    "plt.show()"
   ]
  },
  {
   "cell_type": "markdown",
   "id": "a2ab09ea",
   "metadata": {},
   "source": [
    "### 5.2 Backtesting"
   ]
  },
  {
   "cell_type": "code",
   "execution_count": 256,
   "id": "b1182b1e",
   "metadata": {},
   "outputs": [],
   "source": [
    "class strategy_Backtester():\n",
    "    def __init__(self,start_date,end_date,**kwargs):\n",
    "        self.stock_list = list(np.sort(np.unique(np.concatenate([final_pairs_df['Y'].values,\n",
    "                                                    final_pairs_df['X'].values]))))\n",
    "        \n",
    "        self.start_date = start_date\n",
    "        self.end_date = end_date\n",
    "        self.prices_df = self.prices_download(start_date,end_date)\n",
    "        self.benchmark_data = self.benchmark_data_download(start_date,end_date)\n",
    "        self.strategy_out_df = self.get_strategy_output(self.prices_df,**kwargs)\n",
    "        self.calc_metrics()\n",
    "        \n",
    "    def prices_download(self,start_date,end_date):\n",
    "        return yf.download(self.stock_list,start=start_date,end=end_date,progress=False)\n",
    "    \n",
    "    def benchmark_data_download(self,start_date,end_date):\n",
    "        return yf.download('^GSPC',start=start_date,end=end_date,progress=False)\n",
    "    \n",
    "    def get_strategy_output(self,prices_df,**kwargs):\n",
    "        strategy = pairs_trading_strategy(prices_df,**kwargs)\n",
    "        return strategy.out_df\n",
    "    \n",
    "    def calc_metrics(self):\n",
    "        self.benchmark_returns = self.benchmark_data['Adj Close'].pct_change().fillna(0)\n",
    "        self.benchmark_cum_returns = self.benchmark_data['Adj Close']/self.benchmark_data['Adj Close'].iloc[0]\n",
    "        self.strategy_returns = self.strategy_out_df['Return']\n",
    "        self.strategy_cum_returns = self.strategy_out_df['Ending_Total_Amt']/self.strategy_out_df['Ending_Total_Amt'].iloc[0]\n",
    "        \n",
    "        self.strategy_sharpe_ratio = self.calc_sharpe_ratio(self.strategy_returns)\n",
    "        self.benchmark_sharpe_ratio = self.calc_sharpe_ratio(self.benchmark_returns)\n",
    "        \n",
    "        self.information_ratio = self.calc_information_ratio(self.strategy_returns,\n",
    "                                                             self.benchmark_returns)\n",
    "        \n",
    "        self.strategy_max_drawdown = np.max(self.calc_drawdown(self.strategy_cum_returns))\n",
    "        self.benchmark_max_drawdown = np.max(self.calc_drawdown(self.benchmark_cum_returns))\n",
    "        \n",
    "    def print_metrics(self):\n",
    "        print('Backtest Results'.center(60))\n",
    "        print('='*60)\n",
    "        print('Start Date'.ljust(30,' '),':',self.start_date)\n",
    "        print('End Date'.ljust(30,' '),':',self.end_date)\n",
    "        print('='*60)\n",
    "        \n",
    "        print('Strategy Cum.returns (%)'.ljust(30,' '),':',f'{(self.strategy_cum_returns.iloc[-1]-1)*100:.2f}%'.rjust(6,' '))\n",
    "        print('Benchmark Cum.Returns (%)'.ljust(30,' '),':',f'{(self.benchmark_cum_returns.iloc[-1]-1)*100:.2f}%'.rjust(6,' '))\n",
    "        print('Sharpe Ratio - Strategy'.ljust(30,' '),':',f'{self.strategy_sharpe_ratio:.2f}'.rjust(6,' '))\n",
    "        print('Sharpe Ratio - Benchmark'.ljust(30,' '),':',f'{self.benchmark_sharpe_ratio:.2f}'.rjust(6,' '))\n",
    "        print('Information Ratio'.ljust(30,' '),':',f'{self.information_ratio:.2f}'.rjust(6,' '))\n",
    "        print('Max Draw Down - Strategy (%)'.ljust(30,' '),':',f'{self.strategy_max_drawdown*100:.2f}%'.rjust(6,' '))\n",
    "        print('Max Draw Down - Benchmark (%)'.ljust(30,' '),':',f'{self.benchmark_max_drawdown*100:.2f}%'.rjust(6,' '))\n",
    "        print('='*60)\n",
    "        \n",
    "    def calc_sharpe_ratio(self,returns):\n",
    "        mean_strategy_return = np.mean(returns)*252\n",
    "        std_strategy_return = np.std(returns)*(252**0.5)\n",
    "        sharpe_ratio = (mean_strategy_return-0.04)/std_strategy_return\n",
    "        return sharpe_ratio\n",
    "    \n",
    "    def calc_information_ratio(self,return_1,return_2):\n",
    "        diff = return_1.values - return_2.values\n",
    "        alpha = np.mean(diff)*252\n",
    "        tracking_error = np.std(diff)*(252**0.5)\n",
    "        information_ratio = alpha/tracking_error\n",
    "        return information_ratio\n",
    "    \n",
    "    def calc_drawdown(self,returns):\n",
    "        max_idx = 0\n",
    "        max_val = returns[0]\n",
    "        drawdown = returns.copy()\n",
    "        for bar,val in enumerate(returns):\n",
    "            if val >= max_val:\n",
    "                max_val = val\n",
    "                max_idx = bar\n",
    "            drawdown.iloc[bar] = max_val-val\n",
    "        return drawdown    "
   ]
  },
  {
   "cell_type": "code",
   "execution_count": 255,
   "id": "b40d81f1",
   "metadata": {
    "scrolled": true
   },
   "outputs": [
    {
     "name": "stdout",
     "output_type": "stream",
     "text": [
      "0.0 % Completed...\n",
      "4.0 % Completed...\n",
      "7.9 % Completed...\n",
      "11.9 % Completed...\n",
      "15.9 % Completed...\n",
      "19.9 % Completed...\n",
      "23.8 % Completed...\n",
      "27.8 % Completed...\n",
      "31.8 % Completed...\n",
      "35.8 % Completed...\n",
      "39.7 % Completed...\n",
      "43.7 % Completed...\n",
      "47.7 % Completed...\n",
      "51.6 % Completed...\n",
      "55.6 % Completed...\n",
      "59.6 % Completed...\n",
      "63.6 % Completed...\n",
      "67.5 % Completed...\n",
      "71.5 % Completed...\n",
      "75.5 % Completed...\n",
      "79.5 % Completed...\n",
      "83.4 % Completed...\n",
      "87.4 % Completed...\n",
      "91.4 % Completed...\n",
      "95.4 % Completed...\n",
      "99.3 % Completed...\n"
     ]
    }
   ],
   "source": [
    "bt = strategy_Backtester(start_date='2012-01-01',end_date='2022-01-01')"
   ]
  },
  {
   "cell_type": "code",
   "execution_count": 257,
   "id": "7ff62bfe",
   "metadata": {},
   "outputs": [
    {
     "name": "stdout",
     "output_type": "stream",
     "text": [
      "                      Backtest Results                      \n",
      "============================================================\n",
      "Start Date                     : 2012-01-01\n",
      "End Date                       : 2022-01-01\n",
      "============================================================\n",
      "Strategy Cum.returns (%)       : 571.60%\n",
      "Benchmark Cum.Returns (%)      : 273.22%\n",
      "Sharpe Ratio - Strategy        :   0.78\n",
      "Sharpe Ratio - Benchmark       :   0.64\n",
      "Information Ratio              :   0.26\n",
      "Max Draw Down - Strategy (%)   : 165.44%\n",
      "Max Draw Down - Benchmark (%)  : 89.95%\n",
      "============================================================\n"
     ]
    }
   ],
   "source": [
    "bt.print_metrics()"
   ]
  },
  {
   "cell_type": "code",
   "execution_count": 258,
   "id": "070a4169",
   "metadata": {},
   "outputs": [
    {
     "data": {
      "text/plain": [
       "<matplotlib.legend.Legend at 0x1a971d10e50>"
      ]
     },
     "execution_count": 258,
     "metadata": {},
     "output_type": "execute_result"
    },
    {
     "data": {
      "image/png": "[encoded data removed]",
      "text/plain": [
       "<Figure size 1200x500 with 1 Axes>"
      ]
     },
     "metadata": {},
     "output_type": "display_data"
    }
   ],
   "source": [
    "plt.figure(figsize=(12,5))\n",
    "plt.plot(bt.prices_df.index,bt.strategy_cum_returns.values,label='Strategy Returns')\n",
    "plt.plot(bt.benchmark_cum_returns,label='Benchmark Returns')\n",
    "plt.legend()"
   ]
  },
  {
   "cell_type": "markdown",
   "id": "29bfad52",
   "metadata": {},
   "source": [
    "### 5.3 Finding the optimal Thresholds"
   ]
  },
  {
   "cell_type": "code",
   "execution_count": 49,
   "id": "849101e5",
   "metadata": {},
   "outputs": [],
   "source": [
    "from itertools import product"
   ]
  },
  {
   "cell_type": "code",
   "execution_count": 51,
   "id": "08466118",
   "metadata": {},
   "outputs": [],
   "source": [
    "#entry_thresholds = [1,1.25,1.5,2]\n",
    "entry_thresholds = [0.5,0.75,1]\n",
    "#exit_thresholds = [1.5,2,2.5,3]\n",
    "exit_thresholds = [3,3.5,4]"
   ]
  },
  {
   "cell_type": "code",
   "execution_count": 53,
   "id": "f3a238b3",
   "metadata": {},
   "outputs": [],
   "source": [
    "date_ranges = pd.date_range('2012-01-01','2022-01-01',periods=11)"
   ]
  },
  {
   "cell_type": "code",
   "execution_count": 54,
   "id": "b8035e8e",
   "metadata": {
    "deletable": false,
    "editable": false,
    "run_control": {
     "frozen": true
    },
    "scrolled": true
   },
   "outputs": [
    {
     "name": "stdout",
     "output_type": "stream",
     "text": [
      "Combination 1:\n",
      "[1, 1.5]\n",
      "--------------------------------------------------\n",
      "Iteration 1:\n"
     ]
    },
    {
     "name": "stderr",
     "output_type": "stream",
     "text": [
      "\n",
      "1 Failed download:\n",
      "['VRSK']: Exception('%ticker%: No price data found, symbol may be delisted (1d 2012-01-01 00:00:00 -> 2012-12-31 07:12:00)')\n"
     ]
    },
    {
     "name": "stdout",
     "output_type": "stream",
     "text": [
      "0.0 % Completed...\n",
      "40.2 % Completed...\n",
      "80.3 % Completed...\n",
      "--------------------------------------------------\n",
      "Iteration 2:\n",
      "0.0 % Completed...\n",
      "39.5 % Completed...\n",
      "79.1 % Completed...\n",
      "--------------------------------------------------\n",
      "Iteration 3:\n",
      "0.0 % Completed...\n",
      "39.5 % Completed...\n",
      "79.1 % Completed...\n",
      "--------------------------------------------------\n",
      "Iteration 4:\n",
      "0.0 % Completed...\n",
      "39.7 % Completed...\n",
      "79.4 % Completed...\n",
      "--------------------------------------------------\n",
      "Iteration 5:\n",
      "0.0 % Completed...\n",
      "39.7 % Completed...\n",
      "79.4 % Completed...\n",
      "--------------------------------------------------\n",
      "Iteration 6:\n",
      "0.0 % Completed...\n",
      "39.8 % Completed...\n",
      "79.7 % Completed...\n",
      "--------------------------------------------------\n",
      "Iteration 7:\n"
     ]
    },
    {
     "name": "stderr",
     "output_type": "stream",
     "text": [
      "\n",
      "1 Failed download:\n",
      "['PG']: Exception('%ticker%: No price data found, symbol may be delisted (1d 2017-12-31 19:12:00 -> 2019-01-01 02:24:00)')\n"
     ]
    },
    {
     "name": "stdout",
     "output_type": "stream",
     "text": [
      "0.0 % Completed...\n",
      "39.8 % Completed...\n",
      "79.7 % Completed...\n",
      "--------------------------------------------------\n",
      "Iteration 8:\n",
      "0.0 % Completed...\n",
      "39.7 % Completed...\n",
      "79.4 % Completed...\n",
      "--------------------------------------------------\n",
      "Iteration 9:\n"
     ]
    },
    {
     "name": "stderr",
     "output_type": "stream",
     "text": [
      "\n",
      "14 Failed downloads:\n",
      "['PAYX', 'TTWO', 'PEG', 'ANSS', 'DG', 'CP', 'UNP', 'CTAS', 'TER', 'GIB', 'IP', 'UNH', 'RVTY', 'IHG']: Exception('%ticker%: No price data found, symbol may be delisted (1d 2020-01-01 09:36:00 -> 2020-12-31 16:48:00)')\n"
     ]
    },
    {
     "name": "stdout",
     "output_type": "stream",
     "text": [
      "0.0 % Completed...\n",
      "39.5 % Completed...\n",
      "79.1 % Completed...\n",
      "--------------------------------------------------\n",
      "Iteration 10:\n",
      "0.0 % Completed...\n",
      "39.5 % Completed...\n",
      "79.1 % Completed...\n",
      "--------------------------------------------------\n",
      "Combination 2:\n",
      "[1, 2]\n",
      "--------------------------------------------------\n",
      "Iteration 1:\n",
      "0.0 % Completed...\n",
      "40.2 % Completed...\n",
      "80.3 % Completed...\n",
      "--------------------------------------------------\n",
      "Iteration 2:\n",
      "0.0 % Completed...\n",
      "39.5 % Completed...\n",
      "79.1 % Completed...\n",
      "--------------------------------------------------\n",
      "Iteration 3:\n",
      "0.0 % Completed...\n",
      "39.5 % Completed...\n",
      "79.1 % Completed...\n",
      "--------------------------------------------------\n",
      "Iteration 4:\n",
      "0.0 % Completed...\n",
      "39.7 % Completed...\n",
      "79.4 % Completed...\n",
      "--------------------------------------------------\n",
      "Iteration 5:\n",
      "0.0 % Completed...\n",
      "39.7 % Completed...\n",
      "79.4 % Completed...\n",
      "--------------------------------------------------\n",
      "Iteration 6:\n",
      "0.0 % Completed...\n",
      "39.8 % Completed...\n",
      "79.7 % Completed...\n",
      "--------------------------------------------------\n",
      "Iteration 7:\n",
      "0.0 % Completed...\n",
      "39.8 % Completed...\n",
      "79.7 % Completed...\n",
      "--------------------------------------------------\n",
      "Iteration 8:\n",
      "0.0 % Completed...\n",
      "39.7 % Completed...\n",
      "79.4 % Completed...\n",
      "--------------------------------------------------\n",
      "Iteration 9:\n",
      "0.0 % Completed...\n",
      "39.5 % Completed...\n",
      "79.1 % Completed...\n",
      "--------------------------------------------------\n",
      "Iteration 10:\n",
      "0.0 % Completed...\n",
      "39.5 % Completed...\n",
      "79.1 % Completed...\n",
      "--------------------------------------------------\n",
      "Combination 3:\n",
      "[1, 2.5]\n",
      "--------------------------------------------------\n",
      "Iteration 1:\n",
      "0.0 % Completed...\n",
      "40.2 % Completed...\n",
      "80.3 % Completed...\n",
      "--------------------------------------------------\n",
      "Iteration 2:\n",
      "0.0 % Completed...\n",
      "39.5 % Completed...\n",
      "79.1 % Completed...\n",
      "--------------------------------------------------\n",
      "Iteration 3:\n",
      "0.0 % Completed...\n",
      "39.5 % Completed...\n",
      "79.1 % Completed...\n",
      "--------------------------------------------------\n",
      "Iteration 4:\n",
      "0.0 % Completed...\n",
      "39.7 % Completed...\n",
      "79.4 % Completed...\n",
      "--------------------------------------------------\n",
      "Iteration 5:\n",
      "0.0 % Completed...\n",
      "39.7 % Completed...\n",
      "79.4 % Completed...\n",
      "--------------------------------------------------\n",
      "Iteration 6:\n",
      "0.0 % Completed...\n",
      "39.8 % Completed...\n",
      "79.7 % Completed...\n",
      "--------------------------------------------------\n",
      "Iteration 7:\n",
      "0.0 % Completed...\n",
      "39.8 % Completed...\n",
      "79.7 % Completed...\n",
      "--------------------------------------------------\n",
      "Iteration 8:\n",
      "0.0 % Completed...\n",
      "39.7 % Completed...\n",
      "79.4 % Completed...\n",
      "--------------------------------------------------\n",
      "Iteration 9:\n",
      "0.0 % Completed...\n",
      "39.5 % Completed...\n",
      "79.1 % Completed...\n",
      "--------------------------------------------------\n",
      "Iteration 10:\n",
      "0.0 % Completed...\n",
      "39.5 % Completed...\n",
      "79.1 % Completed...\n",
      "--------------------------------------------------\n",
      "Combination 4:\n",
      "[1, 3]\n",
      "--------------------------------------------------\n",
      "Iteration 1:\n",
      "0.0 % Completed...\n",
      "40.2 % Completed...\n",
      "80.3 % Completed...\n",
      "--------------------------------------------------\n",
      "Iteration 2:\n",
      "0.0 % Completed...\n",
      "39.5 % Completed...\n",
      "79.1 % Completed...\n",
      "--------------------------------------------------\n",
      "Iteration 3:\n",
      "0.0 % Completed...\n",
      "39.5 % Completed...\n",
      "79.1 % Completed...\n",
      "--------------------------------------------------\n",
      "Iteration 4:\n",
      "0.0 % Completed...\n",
      "39.7 % Completed...\n",
      "79.4 % Completed...\n",
      "--------------------------------------------------\n",
      "Iteration 5:\n",
      "0.0 % Completed...\n",
      "39.7 % Completed...\n",
      "79.4 % Completed...\n",
      "--------------------------------------------------\n",
      "Iteration 6:\n",
      "0.0 % Completed...\n",
      "39.8 % Completed...\n",
      "79.7 % Completed...\n",
      "--------------------------------------------------\n",
      "Iteration 7:\n",
      "0.0 % Completed...\n",
      "39.8 % Completed...\n",
      "79.7 % Completed...\n",
      "--------------------------------------------------\n",
      "Iteration 8:\n",
      "0.0 % Completed...\n",
      "39.7 % Completed...\n",
      "79.4 % Completed...\n",
      "--------------------------------------------------\n",
      "Iteration 9:\n",
      "0.0 % Completed...\n",
      "39.5 % Completed...\n",
      "79.1 % Completed...\n",
      "--------------------------------------------------\n",
      "Iteration 10:\n",
      "0.0 % Completed...\n",
      "39.5 % Completed...\n",
      "79.1 % Completed...\n",
      "--------------------------------------------------\n",
      "Combination 5:\n",
      "[1.25, 1.5]\n",
      "--------------------------------------------------\n",
      "Iteration 1:\n",
      "0.0 % Completed...\n",
      "40.2 % Completed...\n",
      "80.3 % Completed...\n",
      "--------------------------------------------------\n",
      "Iteration 2:\n",
      "0.0 % Completed...\n",
      "39.5 % Completed...\n",
      "79.1 % Completed...\n",
      "--------------------------------------------------\n",
      "Iteration 3:\n",
      "0.0 % Completed...\n",
      "39.5 % Completed...\n",
      "79.1 % Completed...\n",
      "--------------------------------------------------\n",
      "Iteration 4:\n",
      "0.0 % Completed...\n",
      "39.7 % Completed...\n",
      "79.4 % Completed...\n",
      "--------------------------------------------------\n",
      "Iteration 5:\n",
      "0.0 % Completed...\n",
      "39.7 % Completed...\n",
      "79.4 % Completed...\n",
      "--------------------------------------------------\n",
      "Iteration 6:\n",
      "0.0 % Completed...\n",
      "39.8 % Completed...\n",
      "79.7 % Completed...\n",
      "--------------------------------------------------\n",
      "Iteration 7:\n",
      "0.0 % Completed...\n",
      "39.8 % Completed...\n",
      "79.7 % Completed...\n",
      "--------------------------------------------------\n",
      "Iteration 8:\n",
      "0.0 % Completed...\n",
      "39.7 % Completed...\n",
      "79.4 % Completed...\n",
      "--------------------------------------------------\n",
      "Iteration 9:\n",
      "0.0 % Completed...\n",
      "39.5 % Completed...\n",
      "79.1 % Completed...\n",
      "--------------------------------------------------\n",
      "Iteration 10:\n",
      "0.0 % Completed...\n",
      "39.5 % Completed...\n",
      "79.1 % Completed...\n",
      "--------------------------------------------------\n",
      "Combination 6:\n",
      "[1.25, 2]\n",
      "--------------------------------------------------\n",
      "Iteration 1:\n",
      "0.0 % Completed...\n",
      "40.2 % Completed...\n",
      "80.3 % Completed...\n",
      "--------------------------------------------------\n",
      "Iteration 2:\n",
      "0.0 % Completed...\n",
      "39.5 % Completed...\n",
      "79.1 % Completed...\n",
      "--------------------------------------------------\n",
      "Iteration 3:\n",
      "0.0 % Completed...\n",
      "39.5 % Completed...\n",
      "79.1 % Completed...\n",
      "--------------------------------------------------\n",
      "Iteration 4:\n",
      "0.0 % Completed...\n",
      "39.7 % Completed...\n",
      "79.4 % Completed...\n",
      "--------------------------------------------------\n",
      "Iteration 5:\n",
      "0.0 % Completed...\n",
      "39.7 % Completed...\n",
      "79.4 % Completed...\n",
      "--------------------------------------------------\n",
      "Iteration 6:\n",
      "0.0 % Completed...\n",
      "39.8 % Completed...\n",
      "79.7 % Completed...\n",
      "--------------------------------------------------\n",
      "Iteration 7:\n",
      "0.0 % Completed...\n",
      "39.8 % Completed...\n",
      "79.7 % Completed...\n",
      "--------------------------------------------------\n",
      "Iteration 8:\n",
      "0.0 % Completed...\n",
      "39.7 % Completed...\n",
      "79.4 % Completed...\n",
      "--------------------------------------------------\n",
      "Iteration 9:\n",
      "0.0 % Completed...\n",
      "39.5 % Completed...\n",
      "79.1 % Completed...\n",
      "--------------------------------------------------\n",
      "Iteration 10:\n"
     ]
    },
    {
     "name": "stderr",
     "output_type": "stream",
     "text": [
      "\n",
      "2 Failed downloads:\n",
      "['NTRS', 'EXPE']: Exception('%ticker%: No price data found, symbol may be delisted (1d 2020-12-31 16:48:00 -> 2022-01-01 00:00:00)')\n"
     ]
    },
    {
     "name": "stdout",
     "output_type": "stream",
     "text": [
      "0.0 % Completed...\n",
      "39.5 % Completed...\n",
      "79.1 % Completed...\n",
      "--------------------------------------------------\n",
      "Combination 7:\n",
      "[1.25, 2.5]\n",
      "--------------------------------------------------\n",
      "Iteration 1:\n",
      "0.0 % Completed...\n",
      "40.2 % Completed...\n",
      "80.3 % Completed...\n",
      "--------------------------------------------------\n",
      "Iteration 2:\n",
      "0.0 % Completed...\n",
      "39.5 % Completed...\n",
      "79.1 % Completed...\n",
      "--------------------------------------------------\n",
      "Iteration 3:\n",
      "0.0 % Completed...\n",
      "39.5 % Completed...\n",
      "79.1 % Completed...\n",
      "--------------------------------------------------\n",
      "Iteration 4:\n"
     ]
    },
    {
     "name": "stderr",
     "output_type": "stream",
     "text": [
      "\n",
      "2 Failed downloads:\n",
      "['OMC', 'C']: Exception('%ticker%: No price data found, symbol may be delisted (1d 2014-12-31 21:36:00 -> 2016-01-01 04:48:00)')\n"
     ]
    },
    {
     "name": "stdout",
     "output_type": "stream",
     "text": [
      "0.0 % Completed...\n",
      "39.7 % Completed...\n",
      "79.4 % Completed...\n",
      "--------------------------------------------------\n",
      "Iteration 5:\n",
      "0.0 % Completed...\n",
      "39.7 % Completed...\n",
      "79.4 % Completed...\n",
      "--------------------------------------------------\n",
      "Iteration 6:\n",
      "0.0 % Completed...\n",
      "39.8 % Completed...\n",
      "79.7 % Completed...\n",
      "--------------------------------------------------\n",
      "Iteration 7:\n",
      "0.0 % Completed...\n",
      "39.8 % Completed...\n",
      "79.7 % Completed...\n",
      "--------------------------------------------------\n",
      "Iteration 8:\n",
      "0.0 % Completed...\n",
      "39.7 % Completed...\n",
      "79.4 % Completed...\n",
      "--------------------------------------------------\n",
      "Iteration 9:\n",
      "0.0 % Completed...\n",
      "39.5 % Completed...\n",
      "79.1 % Completed...\n",
      "--------------------------------------------------\n",
      "Iteration 10:\n",
      "0.0 % Completed...\n",
      "39.5 % Completed...\n",
      "79.1 % Completed...\n",
      "--------------------------------------------------\n",
      "Combination 8:\n",
      "[1.25, 3]\n",
      "--------------------------------------------------\n",
      "Iteration 1:\n",
      "0.0 % Completed...\n",
      "40.2 % Completed...\n",
      "80.3 % Completed...\n",
      "--------------------------------------------------\n",
      "Iteration 2:\n",
      "0.0 % Completed...\n",
      "39.5 % Completed...\n",
      "79.1 % Completed...\n",
      "--------------------------------------------------\n",
      "Iteration 3:\n",
      "0.0 % Completed...\n",
      "39.5 % Completed...\n",
      "79.1 % Completed...\n",
      "--------------------------------------------------\n",
      "Iteration 4:\n",
      "0.0 % Completed...\n",
      "39.7 % Completed...\n",
      "79.4 % Completed...\n",
      "--------------------------------------------------\n",
      "Iteration 5:\n",
      "0.0 % Completed...\n",
      "39.7 % Completed...\n",
      "79.4 % Completed...\n",
      "--------------------------------------------------\n",
      "Iteration 6:\n",
      "0.0 % Completed...\n",
      "39.8 % Completed...\n",
      "79.7 % Completed...\n",
      "--------------------------------------------------\n",
      "Iteration 7:\n",
      "0.0 % Completed...\n",
      "39.8 % Completed...\n",
      "79.7 % Completed...\n",
      "--------------------------------------------------\n",
      "Iteration 8:\n",
      "0.0 % Completed...\n",
      "39.7 % Completed...\n",
      "79.4 % Completed...\n",
      "--------------------------------------------------\n",
      "Iteration 9:\n",
      "0.0 % Completed...\n",
      "39.5 % Completed...\n",
      "79.1 % Completed...\n",
      "--------------------------------------------------\n",
      "Iteration 10:\n",
      "0.0 % Completed...\n",
      "39.5 % Completed...\n",
      "79.1 % Completed...\n",
      "--------------------------------------------------\n",
      "Combination 9:\n",
      "[1.5, 2]\n",
      "--------------------------------------------------\n",
      "Iteration 1:\n",
      "0.0 % Completed...\n",
      "40.2 % Completed...\n",
      "80.3 % Completed...\n",
      "--------------------------------------------------\n",
      "Iteration 2:\n",
      "0.0 % Completed...\n",
      "39.5 % Completed...\n",
      "79.1 % Completed...\n",
      "--------------------------------------------------\n",
      "Iteration 3:\n",
      "0.0 % Completed...\n",
      "39.5 % Completed...\n",
      "79.1 % Completed...\n",
      "--------------------------------------------------\n",
      "Iteration 4:\n",
      "0.0 % Completed...\n",
      "39.7 % Completed...\n",
      "79.4 % Completed...\n",
      "--------------------------------------------------\n",
      "Iteration 5:\n",
      "0.0 % Completed...\n",
      "39.7 % Completed...\n",
      "79.4 % Completed...\n",
      "--------------------------------------------------\n",
      "Iteration 6:\n",
      "0.0 % Completed...\n",
      "39.8 % Completed...\n",
      "79.7 % Completed...\n",
      "--------------------------------------------------\n",
      "Iteration 7:\n",
      "0.0 % Completed...\n",
      "39.8 % Completed...\n",
      "79.7 % Completed...\n",
      "--------------------------------------------------\n",
      "Iteration 8:\n",
      "0.0 % Completed...\n",
      "39.7 % Completed...\n",
      "79.4 % Completed...\n",
      "--------------------------------------------------\n",
      "Iteration 9:\n",
      "0.0 % Completed...\n",
      "39.5 % Completed...\n",
      "79.1 % Completed...\n",
      "--------------------------------------------------\n",
      "Iteration 10:\n"
     ]
    },
    {
     "name": "stderr",
     "output_type": "stream",
     "text": [
      "\n",
      "1 Failed download:\n",
      "['DIS']: Exception('%ticker%: No price data found, symbol may be delisted (1d 2020-12-31 16:48:00 -> 2022-01-01 00:00:00)')\n"
     ]
    },
    {
     "name": "stdout",
     "output_type": "stream",
     "text": [
      "0.0 % Completed...\n",
      "39.5 % Completed...\n",
      "79.1 % Completed...\n",
      "--------------------------------------------------\n",
      "Combination 10:\n",
      "[1.5, 2.5]\n",
      "--------------------------------------------------\n",
      "Iteration 1:\n",
      "0.0 % Completed...\n",
      "40.2 % Completed...\n",
      "80.3 % Completed...\n",
      "--------------------------------------------------\n",
      "Iteration 2:\n",
      "0.0 % Completed...\n",
      "39.5 % Completed...\n",
      "79.1 % Completed...\n",
      "--------------------------------------------------\n",
      "Iteration 3:\n",
      "0.0 % Completed...\n",
      "39.5 % Completed...\n",
      "79.1 % Completed...\n",
      "--------------------------------------------------\n",
      "Iteration 4:\n",
      "0.0 % Completed...\n",
      "39.7 % Completed...\n",
      "79.4 % Completed...\n",
      "--------------------------------------------------\n",
      "Iteration 5:\n"
     ]
    },
    {
     "name": "stderr",
     "output_type": "stream",
     "text": [
      "\n",
      "1 Failed download:\n",
      "['HST']: Exception('%ticker%: No price data found, symbol may be delisted (1d 2016-01-01 04:48:00 -> 2016-12-31 12:00:00)')\n"
     ]
    },
    {
     "name": "stdout",
     "output_type": "stream",
     "text": [
      "0.0 % Completed...\n",
      "39.7 % Completed...\n",
      "79.4 % Completed...\n",
      "--------------------------------------------------\n",
      "Iteration 6:\n",
      "0.0 % Completed...\n",
      "39.8 % Completed...\n",
      "79.7 % Completed...\n",
      "--------------------------------------------------\n",
      "Iteration 7:\n",
      "0.0 % Completed...\n",
      "39.8 % Completed...\n",
      "79.7 % Completed...\n",
      "--------------------------------------------------\n",
      "Iteration 8:\n",
      "0.0 % Completed...\n",
      "39.7 % Completed...\n",
      "79.4 % Completed...\n",
      "--------------------------------------------------\n",
      "Iteration 9:\n",
      "0.0 % Completed...\n",
      "39.5 % Completed...\n",
      "79.1 % Completed...\n",
      "--------------------------------------------------\n",
      "Iteration 10:\n",
      "0.0 % Completed...\n",
      "39.5 % Completed...\n",
      "79.1 % Completed...\n",
      "--------------------------------------------------\n",
      "Combination 11:\n",
      "[1.5, 3]\n",
      "--------------------------------------------------\n",
      "Iteration 1:\n"
     ]
    },
    {
     "name": "stderr",
     "output_type": "stream",
     "text": [
      "\n",
      "1 Failed download:\n",
      "['ROK']: Exception('%ticker%: No price data found, symbol may be delisted (1d 2012-01-01 00:00:00 -> 2012-12-31 07:12:00)')\n"
     ]
    },
    {
     "name": "stdout",
     "output_type": "stream",
     "text": [
      "0.0 % Completed...\n",
      "40.2 % Completed...\n",
      "80.3 % Completed...\n",
      "--------------------------------------------------\n",
      "Iteration 2:\n",
      "0.0 % Completed...\n",
      "39.5 % Completed...\n",
      "79.1 % Completed...\n",
      "--------------------------------------------------\n",
      "Iteration 3:\n",
      "0.0 % Completed...\n",
      "39.5 % Completed...\n",
      "79.1 % Completed...\n",
      "--------------------------------------------------\n",
      "Iteration 4:\n",
      "0.0 % Completed...\n",
      "39.7 % Completed...\n",
      "79.4 % Completed...\n",
      "--------------------------------------------------\n",
      "Iteration 5:\n",
      "0.0 % Completed...\n",
      "39.7 % Completed...\n",
      "79.4 % Completed...\n",
      "--------------------------------------------------\n",
      "Iteration 6:\n",
      "0.0 % Completed...\n",
      "39.8 % Completed...\n",
      "79.7 % Completed...\n",
      "--------------------------------------------------\n",
      "Iteration 7:\n",
      "0.0 % Completed...\n",
      "39.8 % Completed...\n",
      "79.7 % Completed...\n",
      "--------------------------------------------------\n",
      "Iteration 8:\n",
      "0.0 % Completed...\n",
      "39.7 % Completed...\n",
      "79.4 % Completed...\n",
      "--------------------------------------------------\n",
      "Iteration 9:\n",
      "0.0 % Completed...\n",
      "39.5 % Completed...\n",
      "79.1 % Completed...\n",
      "--------------------------------------------------\n",
      "Iteration 10:\n",
      "0.0 % Completed...\n",
      "39.5 % Completed...\n",
      "79.1 % Completed...\n",
      "--------------------------------------------------\n",
      "Combination 12:\n",
      "[2, 2.5]\n",
      "--------------------------------------------------\n",
      "Iteration 1:\n",
      "0.0 % Completed...\n",
      "40.2 % Completed...\n",
      "80.3 % Completed...\n",
      "--------------------------------------------------\n",
      "Iteration 2:\n",
      "0.0 % Completed...\n",
      "39.5 % Completed...\n",
      "79.1 % Completed...\n",
      "--------------------------------------------------\n",
      "Iteration 3:\n",
      "0.0 % Completed...\n",
      "39.5 % Completed...\n",
      "79.1 % Completed...\n",
      "--------------------------------------------------\n",
      "Iteration 4:\n",
      "0.0 % Completed...\n",
      "39.7 % Completed...\n",
      "79.4 % Completed...\n",
      "--------------------------------------------------\n",
      "Iteration 5:\n",
      "0.0 % Completed...\n",
      "39.7 % Completed...\n",
      "79.4 % Completed...\n",
      "--------------------------------------------------\n",
      "Iteration 6:\n"
     ]
    },
    {
     "name": "stderr",
     "output_type": "stream",
     "text": [
      "\n",
      "1 Failed download:\n",
      "['EFX']: Exception('%ticker%: No price data found, symbol may be delisted (1d 2016-12-31 12:00:00 -> 2017-12-31 19:12:00)')\n"
     ]
    },
    {
     "name": "stdout",
     "output_type": "stream",
     "text": [
      "0.0 % Completed...\n",
      "39.8 % Completed...\n",
      "79.7 % Completed...\n",
      "--------------------------------------------------\n",
      "Iteration 7:\n",
      "0.0 % Completed...\n",
      "39.8 % Completed...\n",
      "79.7 % Completed...\n",
      "--------------------------------------------------\n",
      "Iteration 8:\n",
      "0.0 % Completed...\n",
      "39.7 % Completed...\n",
      "79.4 % Completed...\n",
      "--------------------------------------------------\n",
      "Iteration 9:\n",
      "0.0 % Completed...\n",
      "39.5 % Completed...\n",
      "79.1 % Completed...\n",
      "--------------------------------------------------\n",
      "Iteration 10:\n",
      "0.0 % Completed...\n",
      "39.5 % Completed...\n",
      "79.1 % Completed...\n",
      "--------------------------------------------------\n",
      "Combination 13:\n",
      "[2, 3]\n",
      "--------------------------------------------------\n",
      "Iteration 1:\n",
      "0.0 % Completed...\n",
      "40.2 % Completed...\n",
      "80.3 % Completed...\n",
      "--------------------------------------------------\n",
      "Iteration 2:\n",
      "0.0 % Completed...\n",
      "39.5 % Completed...\n",
      "79.1 % Completed...\n",
      "--------------------------------------------------\n",
      "Iteration 3:\n",
      "0.0 % Completed...\n",
      "39.5 % Completed...\n",
      "79.1 % Completed...\n",
      "--------------------------------------------------\n",
      "Iteration 4:\n",
      "0.0 % Completed...\n",
      "39.7 % Completed...\n",
      "79.4 % Completed...\n",
      "--------------------------------------------------\n",
      "Iteration 5:\n"
     ]
    },
    {
     "name": "stderr",
     "output_type": "stream",
     "text": [
      "\n",
      "1 Failed download:\n",
      "['D']: Exception('%ticker%: No price data found, symbol may be delisted (1d 2016-01-01 04:48:00 -> 2016-12-31 12:00:00)')\n"
     ]
    },
    {
     "name": "stdout",
     "output_type": "stream",
     "text": [
      "0.0 % Completed...\n",
      "39.7 % Completed...\n",
      "79.4 % Completed...\n",
      "--------------------------------------------------\n",
      "Iteration 6:\n",
      "0.0 % Completed...\n",
      "39.8 % Completed...\n",
      "79.7 % Completed...\n",
      "--------------------------------------------------\n",
      "Iteration 7:\n",
      "0.0 % Completed...\n",
      "39.8 % Completed...\n",
      "79.7 % Completed...\n",
      "--------------------------------------------------\n",
      "Iteration 8:\n",
      "0.0 % Completed...\n",
      "39.7 % Completed...\n",
      "79.4 % Completed...\n",
      "--------------------------------------------------\n",
      "Iteration 9:\n",
      "0.0 % Completed...\n",
      "39.5 % Completed...\n",
      "79.1 % Completed...\n",
      "--------------------------------------------------\n",
      "Iteration 10:\n",
      "0.0 % Completed...\n",
      "39.5 % Completed...\n",
      "79.1 % Completed...\n",
      "--------------------------------------------------\n"
     ]
    }
   ],
   "source": [
    "thresholds = product(entry_thresholds,exit_thresholds)\n",
    "\n",
    "#threshold_cv_results = {'long_entry_threshold':[],\n",
    "#                        'short_entry_threshold':[],\n",
    "#                        'long_exit_threshold':[],\n",
    "#                        'short_exit_threshold':[],\n",
    "#                        'Mean_Sharpe_ratio':[],\n",
    " #                       'Std_Sharpe_ratio':[],\n",
    " #                       'Mean_Max_Drawdown':[],\n",
    " #                       'Std_Max_Drawdown':[]\n",
    " #                      }\n",
    "\n",
    "count=0\n",
    "for entry_threshold,exit_threshold in thresholds:\n",
    "    if entry_threshold < exit_threshold:\n",
    "        count += 1\n",
    "        print(f'Combination {count}:',sep=' ')\n",
    "        print([entry_threshold,exit_threshold])\n",
    "        print('-'*50)\n",
    "        long_entry_threshold,long_exit_threshold = entry_threshold,exit_threshold\n",
    "        short_entry_threshold,short_exit_threshold = -entry_threshold,-exit_threshold\n",
    "        sharpe_ratio_list =[]\n",
    "        max_drawdown_list = []\n",
    "        iteration = 0\n",
    "        for i in range(len(date_ranges)-1):\n",
    "            iteration += 1\n",
    "            print(f'Iteration {iteration}:')\n",
    "            start_date = date_ranges[i]\n",
    "            end_date = date_ranges[i+1]\n",
    "            bt = strategy_Backtester(start_date=start_date,end_date=end_date,\n",
    "                                     long_entry_threshold=long_entry_threshold,\n",
    "                                     long_exit_threshold=long_exit_threshold,\n",
    "                                     short_entry_threshold=short_entry_threshold,\n",
    "                                     short_exit_threshold=short_exit_threshold)\n",
    "            bt.calc_metrics()\n",
    "            sharpe_ratio_list.append(bt.strategy_sharpe_ratio)\n",
    "            max_drawdown_list.append(bt.strategy_max_drawdown)\n",
    "            print('-'*50)\n",
    "        threshold_cv_results['long_entry_threshold'].append(long_entry_threshold)\n",
    "        threshold_cv_results['short_entry_threshold'].append(short_entry_threshold)\n",
    "        threshold_cv_results['long_exit_threshold'].append(long_exit_threshold)\n",
    "        threshold_cv_results['short_exit_threshold'].append(short_exit_threshold)\n",
    "        threshold_cv_results['Mean_Sharpe_ratio'].append(np.mean(sharpe_ratio_list))\n",
    "        threshold_cv_results['Std_Sharpe_ratio'].append(np.std(sharpe_ratio_list))\n",
    "        threshold_cv_results['Mean_Max_Drawdown'].append(np.mean(max_drawdown_list))\n",
    "        threshold_cv_results['Std_Max_Drawdown'].append(np.std(max_drawdown_list))\n",
    "        print(f'Mean_Sharpe:{np.mean(sharpe_ratio_list):.2f}')\n",
    "        print(f'Std_Sharpe:{np.std(sharpe_ratio_list):.2f}')\n",
    "        print(f'Mean_Drawdown:{np.mean(max_drawdown_list):.2f}')\n",
    "        print(f'Std_Drawdown:{np.std(max_drawdown_list):.2f}')\n",
    "       \n",
    "    if count % 3==0:\n",
    "        pd.DataFrame(threshold_cv_results).to_csv('Threshold_CV_results.csv')\n",
    "        "
   ]
  },
  {
   "cell_type": "code",
   "execution_count": 55,
   "id": "b7fa336c",
   "metadata": {
    "deletable": false,
    "editable": false,
    "run_control": {
     "frozen": true
    }
   },
   "outputs": [
    {
     "data": {
      "text/html": [
       "<div>\n",
       "<style scoped>\n",
       "    .dataframe tbody tr th:only-of-type {\n",
       "        vertical-align: middle;\n",
       "    }\n",
       "\n",
       "    .dataframe tbody tr th {\n",
       "        vertical-align: top;\n",
       "    }\n",
       "\n",
       "    .dataframe thead th {\n",
       "        text-align: right;\n",
       "    }\n",
       "</style>\n",
       "<table border=\"1\" class=\"dataframe\">\n",
       "  <thead>\n",
       "    <tr style=\"text-align: right;\">\n",
       "      <th></th>\n",
       "      <th>long_entry_threshold</th>\n",
       "      <th>short_entry_threshold</th>\n",
       "      <th>long_exit_threshold</th>\n",
       "      <th>short_exit_threshold</th>\n",
       "      <th>Mean_Sharpe_ratio</th>\n",
       "      <th>Std_Sharpe_ratio</th>\n",
       "      <th>Mean_Max_Drawdown</th>\n",
       "      <th>Std_Max_Drawdown</th>\n",
       "    </tr>\n",
       "  </thead>\n",
       "  <tbody>\n",
       "    <tr>\n",
       "      <th>0</th>\n",
       "      <td>1.00</td>\n",
       "      <td>-1.00</td>\n",
       "      <td>1.5</td>\n",
       "      <td>-1.5</td>\n",
       "      <td>-0.528091</td>\n",
       "      <td>0.989817</td>\n",
       "      <td>0.254343</td>\n",
       "      <td>0.205052</td>\n",
       "    </tr>\n",
       "    <tr>\n",
       "      <th>1</th>\n",
       "      <td>1.00</td>\n",
       "      <td>-1.00</td>\n",
       "      <td>2.0</td>\n",
       "      <td>-2.0</td>\n",
       "      <td>0.042467</td>\n",
       "      <td>1.068887</td>\n",
       "      <td>0.172990</td>\n",
       "      <td>0.129222</td>\n",
       "    </tr>\n",
       "    <tr>\n",
       "      <th>2</th>\n",
       "      <td>1.00</td>\n",
       "      <td>-1.00</td>\n",
       "      <td>2.5</td>\n",
       "      <td>-2.5</td>\n",
       "      <td>0.783309</td>\n",
       "      <td>0.887707</td>\n",
       "      <td>0.115146</td>\n",
       "      <td>0.066935</td>\n",
       "    </tr>\n",
       "    <tr>\n",
       "      <th>3</th>\n",
       "      <td>1.00</td>\n",
       "      <td>-1.00</td>\n",
       "      <td>3.0</td>\n",
       "      <td>-3.0</td>\n",
       "      <td>0.914511</td>\n",
       "      <td>0.766423</td>\n",
       "      <td>0.108660</td>\n",
       "      <td>0.055864</td>\n",
       "    </tr>\n",
       "    <tr>\n",
       "      <th>4</th>\n",
       "      <td>1.25</td>\n",
       "      <td>-1.25</td>\n",
       "      <td>1.5</td>\n",
       "      <td>-1.5</td>\n",
       "      <td>-0.705492</td>\n",
       "      <td>1.185006</td>\n",
       "      <td>0.339096</td>\n",
       "      <td>0.233945</td>\n",
       "    </tr>\n",
       "    <tr>\n",
       "      <th>5</th>\n",
       "      <td>1.25</td>\n",
       "      <td>-1.25</td>\n",
       "      <td>2.0</td>\n",
       "      <td>-2.0</td>\n",
       "      <td>-0.148748</td>\n",
       "      <td>1.020056</td>\n",
       "      <td>0.222912</td>\n",
       "      <td>0.152580</td>\n",
       "    </tr>\n",
       "    <tr>\n",
       "      <th>6</th>\n",
       "      <td>1.25</td>\n",
       "      <td>-1.25</td>\n",
       "      <td>2.5</td>\n",
       "      <td>-2.5</td>\n",
       "      <td>0.357156</td>\n",
       "      <td>0.999448</td>\n",
       "      <td>0.155338</td>\n",
       "      <td>0.073251</td>\n",
       "    </tr>\n",
       "    <tr>\n",
       "      <th>7</th>\n",
       "      <td>1.25</td>\n",
       "      <td>-1.25</td>\n",
       "      <td>3.0</td>\n",
       "      <td>-3.0</td>\n",
       "      <td>0.837022</td>\n",
       "      <td>0.761128</td>\n",
       "      <td>0.123815</td>\n",
       "      <td>0.051193</td>\n",
       "    </tr>\n",
       "    <tr>\n",
       "      <th>8</th>\n",
       "      <td>1.50</td>\n",
       "      <td>-1.50</td>\n",
       "      <td>2.0</td>\n",
       "      <td>-2.0</td>\n",
       "      <td>0.067171</td>\n",
       "      <td>0.839636</td>\n",
       "      <td>0.191527</td>\n",
       "      <td>0.099512</td>\n",
       "    </tr>\n",
       "    <tr>\n",
       "      <th>9</th>\n",
       "      <td>1.50</td>\n",
       "      <td>-1.50</td>\n",
       "      <td>2.5</td>\n",
       "      <td>-2.5</td>\n",
       "      <td>0.132174</td>\n",
       "      <td>0.899211</td>\n",
       "      <td>0.164068</td>\n",
       "      <td>0.082158</td>\n",
       "    </tr>\n",
       "    <tr>\n",
       "      <th>10</th>\n",
       "      <td>1.50</td>\n",
       "      <td>-1.50</td>\n",
       "      <td>3.0</td>\n",
       "      <td>-3.0</td>\n",
       "      <td>0.589780</td>\n",
       "      <td>0.753110</td>\n",
       "      <td>0.140944</td>\n",
       "      <td>0.060788</td>\n",
       "    </tr>\n",
       "    <tr>\n",
       "      <th>11</th>\n",
       "      <td>2.00</td>\n",
       "      <td>-2.00</td>\n",
       "      <td>2.5</td>\n",
       "      <td>-2.5</td>\n",
       "      <td>0.544450</td>\n",
       "      <td>0.598300</td>\n",
       "      <td>0.174687</td>\n",
       "      <td>0.051515</td>\n",
       "    </tr>\n",
       "    <tr>\n",
       "      <th>12</th>\n",
       "      <td>2.00</td>\n",
       "      <td>-2.00</td>\n",
       "      <td>3.0</td>\n",
       "      <td>-3.0</td>\n",
       "      <td>0.804870</td>\n",
       "      <td>0.629547</td>\n",
       "      <td>0.166163</td>\n",
       "      <td>0.071373</td>\n",
       "    </tr>\n",
       "  </tbody>\n",
       "</table>\n",
       "</div>"
      ],
      "text/plain": [
       "    long_entry_threshold  short_entry_threshold  long_exit_threshold  \\\n",
       "0                   1.00                  -1.00                  1.5   \n",
       "1                   1.00                  -1.00                  2.0   \n",
       "2                   1.00                  -1.00                  2.5   \n",
       "3                   1.00                  -1.00                  3.0   \n",
       "4                   1.25                  -1.25                  1.5   \n",
       "5                   1.25                  -1.25                  2.0   \n",
       "6                   1.25                  -1.25                  2.5   \n",
       "7                   1.25                  -1.25                  3.0   \n",
       "8                   1.50                  -1.50                  2.0   \n",
       "9                   1.50                  -1.50                  2.5   \n",
       "10                  1.50                  -1.50                  3.0   \n",
       "11                  2.00                  -2.00                  2.5   \n",
       "12                  2.00                  -2.00                  3.0   \n",
       "\n",
       "    short_exit_threshold  Mean_Sharpe_ratio  Std_Sharpe_ratio  \\\n",
       "0                   -1.5          -0.528091          0.989817   \n",
       "1                   -2.0           0.042467          1.068887   \n",
       "2                   -2.5           0.783309          0.887707   \n",
       "3                   -3.0           0.914511          0.766423   \n",
       "4                   -1.5          -0.705492          1.185006   \n",
       "5                   -2.0          -0.148748          1.020056   \n",
       "6                   -2.5           0.357156          0.999448   \n",
       "7                   -3.0           0.837022          0.761128   \n",
       "8                   -2.0           0.067171          0.839636   \n",
       "9                   -2.5           0.132174          0.899211   \n",
       "10                  -3.0           0.589780          0.753110   \n",
       "11                  -2.5           0.544450          0.598300   \n",
       "12                  -3.0           0.804870          0.629547   \n",
       "\n",
       "    Mean_Max_Drawdown  Std_Max_Drawdown  \n",
       "0            0.254343          0.205052  \n",
       "1            0.172990          0.129222  \n",
       "2            0.115146          0.066935  \n",
       "3            0.108660          0.055864  \n",
       "4            0.339096          0.233945  \n",
       "5            0.222912          0.152580  \n",
       "6            0.155338          0.073251  \n",
       "7            0.123815          0.051193  \n",
       "8            0.191527          0.099512  \n",
       "9            0.164068          0.082158  \n",
       "10           0.140944          0.060788  \n",
       "11           0.174687          0.051515  \n",
       "12           0.166163          0.071373  "
      ]
     },
     "execution_count": 55,
     "metadata": {},
     "output_type": "execute_result"
    }
   ],
   "source": [
    "pd.DataFrame(threshold_cv_results)"
   ]
  },
  {
   "cell_type": "markdown",
   "id": "edbde541",
   "metadata": {},
   "source": [
    "### 5.4 Evaluating the strategy on test data"
   ]
  },
  {
   "cell_type": "code",
   "execution_count": 251,
   "id": "c4e5f67d",
   "metadata": {},
   "outputs": [],
   "source": [
    "best_entry_threshold = 1\n",
    "best_exit_threshold = 3"
   ]
  },
  {
   "cell_type": "code",
   "execution_count": 252,
   "id": "c30ed1ca",
   "metadata": {},
   "outputs": [
    {
     "name": "stdout",
     "output_type": "stream",
     "text": [
      "0.0 % Completed...\n",
      "20.8 % Completed...\n",
      "41.7 % Completed...\n",
      "62.5 % Completed...\n",
      "83.3 % Completed...\n"
     ]
    }
   ],
   "source": [
    "bt_test = strategy_Backtester(start_date='2022-01-01',end_date='2023-11-30',\n",
    "                    long_entry_threshold = best_entry_threshold,\n",
    "                   short_entry_threshold = -best_entry_threshold,\n",
    "                   long_exit_threshold = best_exit_threshold,\n",
    "                   short_exit_threshold = -best_exit_threshold)"
   ]
  },
  {
   "cell_type": "code",
   "execution_count": 253,
   "id": "5fdd26d2",
   "metadata": {},
   "outputs": [
    {
     "name": "stdout",
     "output_type": "stream",
     "text": [
      "                      Backtest Results                      \n",
      "============================================================\n",
      "Start Date                     : 2022-01-01\n",
      "End Date                       : 2023-11-30\n",
      "============================================================\n",
      "Strategy Cum.returns (%)       : -28.02%\n",
      "Benchmark Cum.Returns (%)      : -5.13%\n",
      "Sharpe Ratio - Strategy        :  -1.10\n",
      "Sharpe Ratio - Benchmark       :  -0.24\n",
      "Information Ratio              :  -0.54\n",
      "Max Draw Down - Strategy (%)   : 31.54%\n",
      "Max Draw Down - Benchmark (%)  : 25.43%\n",
      "============================================================\n"
     ]
    }
   ],
   "source": [
    "bt_test.print_metrics()"
   ]
  },
  {
   "cell_type": "code",
   "execution_count": 254,
   "id": "dc2ef8a7",
   "metadata": {},
   "outputs": [
    {
     "data": {
      "text/plain": [
       "<Axes: >"
      ]
     },
     "execution_count": 254,
     "metadata": {},
     "output_type": "execute_result"
    },
    {
     "data": {
      "image/png": "[encoded data removed]",
      "text/plain": [
       "<Figure size 800x550 with 1 Axes>"
      ]
     },
     "metadata": {},
     "output_type": "display_data"
    }
   ],
   "source": [
    "bt_test.strategy_cum_returns.plot()"
   ]
  }
 ],
 "metadata": {
  "kernelspec": {
   "display_name": "Python 3 (ipykernel)",
   "language": "python",
   "name": "python3"
  },
  "language_info": {
   "codemirror_mode": {
    "name": "ipython",
    "version": 3
   },
   "file_extension": ".py",
   "mimetype": "text/x-python",
   "name": "python",
   "nbconvert_exporter": "python",
   "pygments_lexer": "ipython3",
   "version": "3.9.18"
  },
  "toc": {
   "base_numbering": 1,
   "nav_menu": {},
   "number_sections": false,
   "sideBar": true,
   "skip_h1_title": true,
   "title_cell": "Table of Contents",
   "title_sidebar": "Contents",
   "toc_cell": false,
   "toc_position": {},
   "toc_section_display": true,
   "toc_window_display": false
  },
  "varInspector": {
   "cols": {
    "lenName": 16,
    "lenType": 16,
    "lenVar": 40
   },
   "kernels_config": {
    "python": {
     "delete_cmd_postfix": "",
     "delete_cmd_prefix": "del ",
     "library": "var_list.py",
     "varRefreshCmd": "print(var_dic_list())"
    },
    "r": {
     "delete_cmd_postfix": ") ",
     "delete_cmd_prefix": "rm(",
     "library": "var_list.r",
     "varRefreshCmd": "cat(var_dic_list()) "
    }
   },
   "types_to_exclude": [
    "module",
    "function",
    "builtin_function_or_method",
    "instance",
    "_Feature"
   ],
   "window_display": false
  }
 },
 "nbformat": 4,
 "nbformat_minor": 5
}
