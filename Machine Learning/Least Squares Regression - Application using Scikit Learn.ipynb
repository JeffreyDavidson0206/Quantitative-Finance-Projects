{
 "cells": [
  {
   "cell_type": "markdown",
   "id": "3047ce12",
   "metadata": {},
   "source": [
    "### Importing Relevant Libraries"
   ]
  },
  {
   "cell_type": "code",
   "execution_count": 91,
   "id": "a76a165b",
   "metadata": {},
   "outputs": [],
   "source": [
    "import numpy as np\n",
    "import pandas as pd\n",
    "from sklearn.linear_model import LinearRegression\n",
    "from sklearn.linear_model import Ridge\n",
    "from sklearn.linear_model import Lasso\n",
    "from sklearn.preprocessing import PolynomialFeatures\n",
    "from sklearn.model_selection import cross_val_score\n",
    "from sklearn.model_selection import train_test_split\n",
    "from sklearn.base import BaseEstimator, TransformerMixin\n",
    "from sklearn.pipeline import Pipeline\n",
    "from sklearn.pipeline import FeatureUnion\n",
    "from sklearn.preprocessing import OneHotEncoder\n",
    "from sklearn.model_selection import RandomizedSearchCV\n",
    "from sklearn.model_selection import GridSearchCV\n",
    "from sklearn.metrics import mean_squared_error\n",
    "from sklearn.metrics import r2_score\n",
    "from sklearn.metrics import make_scorer\n",
    "from tabulate import tabulate\n",
    "import matplotlib.pyplot as plt\n",
    "from scipy.stats import uniform\n",
    "import warnings"
   ]
  },
  {
   "cell_type": "code",
   "execution_count": 92,
   "id": "5bf3de77",
   "metadata": {},
   "outputs": [],
   "source": [
    "warnings.filterwarnings(\"ignore\")"
   ]
  },
  {
   "cell_type": "markdown",
   "id": "29808426",
   "metadata": {},
   "source": [
    "### Reading the data set"
   ]
  },
  {
   "cell_type": "code",
   "execution_count": 2,
   "id": "4ae98ab6",
   "metadata": {},
   "outputs": [],
   "source": [
    "data_backup = pd.read_csv(\"./Datasets/Housing.csv\")"
   ]
  },
  {
   "cell_type": "code",
   "execution_count": 3,
   "id": "0d3b17ec",
   "metadata": {},
   "outputs": [],
   "source": [
    "data = data_backup.copy()"
   ]
  },
  {
   "cell_type": "code",
   "execution_count": 4,
   "id": "a3f8ad71",
   "metadata": {},
   "outputs": [
    {
     "name": "stdout",
     "output_type": "stream",
     "text": [
      "<class 'pandas.core.frame.DataFrame'>\n",
      "RangeIndex: 545 entries, 0 to 544\n",
      "Data columns (total 13 columns):\n",
      " #   Column            Non-Null Count  Dtype \n",
      "---  ------            --------------  ----- \n",
      " 0   price             545 non-null    int64 \n",
      " 1   area              545 non-null    int64 \n",
      " 2   bedrooms          545 non-null    int64 \n",
      " 3   bathrooms         545 non-null    int64 \n",
      " 4   stories           545 non-null    int64 \n",
      " 5   mainroad          545 non-null    object\n",
      " 6   guestroom         545 non-null    object\n",
      " 7   basement          545 non-null    object\n",
      " 8   hotwaterheating   545 non-null    object\n",
      " 9   airconditioning   545 non-null    object\n",
      " 10  parking           545 non-null    int64 \n",
      " 11  prefarea          545 non-null    object\n",
      " 12  furnishingstatus  545 non-null    object\n",
      "dtypes: int64(6), object(7)\n",
      "memory usage: 55.5+ KB\n"
     ]
    }
   ],
   "source": [
    "data.info()"
   ]
  },
  {
   "cell_type": "code",
   "execution_count": 5,
   "id": "9da88cfb",
   "metadata": {},
   "outputs": [
    {
     "data": {
      "text/html": [
       "<div>\n",
       "<style scoped>\n",
       "    .dataframe tbody tr th:only-of-type {\n",
       "        vertical-align: middle;\n",
       "    }\n",
       "\n",
       "    .dataframe tbody tr th {\n",
       "        vertical-align: top;\n",
       "    }\n",
       "\n",
       "    .dataframe thead th {\n",
       "        text-align: right;\n",
       "    }\n",
       "</style>\n",
       "<table border=\"1\" class=\"dataframe\">\n",
       "  <thead>\n",
       "    <tr style=\"text-align: right;\">\n",
       "      <th></th>\n",
       "      <th>price</th>\n",
       "      <th>area</th>\n",
       "      <th>bedrooms</th>\n",
       "      <th>bathrooms</th>\n",
       "      <th>stories</th>\n",
       "      <th>mainroad</th>\n",
       "      <th>guestroom</th>\n",
       "      <th>basement</th>\n",
       "      <th>hotwaterheating</th>\n",
       "      <th>airconditioning</th>\n",
       "      <th>parking</th>\n",
       "      <th>prefarea</th>\n",
       "      <th>furnishingstatus</th>\n",
       "    </tr>\n",
       "  </thead>\n",
       "  <tbody>\n",
       "    <tr>\n",
       "      <th>0</th>\n",
       "      <td>13300000</td>\n",
       "      <td>7420</td>\n",
       "      <td>4</td>\n",
       "      <td>2</td>\n",
       "      <td>3</td>\n",
       "      <td>yes</td>\n",
       "      <td>no</td>\n",
       "      <td>no</td>\n",
       "      <td>no</td>\n",
       "      <td>yes</td>\n",
       "      <td>2</td>\n",
       "      <td>yes</td>\n",
       "      <td>furnished</td>\n",
       "    </tr>\n",
       "    <tr>\n",
       "      <th>1</th>\n",
       "      <td>12250000</td>\n",
       "      <td>8960</td>\n",
       "      <td>4</td>\n",
       "      <td>4</td>\n",
       "      <td>4</td>\n",
       "      <td>yes</td>\n",
       "      <td>no</td>\n",
       "      <td>no</td>\n",
       "      <td>no</td>\n",
       "      <td>yes</td>\n",
       "      <td>3</td>\n",
       "      <td>no</td>\n",
       "      <td>furnished</td>\n",
       "    </tr>\n",
       "    <tr>\n",
       "      <th>2</th>\n",
       "      <td>12250000</td>\n",
       "      <td>9960</td>\n",
       "      <td>3</td>\n",
       "      <td>2</td>\n",
       "      <td>2</td>\n",
       "      <td>yes</td>\n",
       "      <td>no</td>\n",
       "      <td>yes</td>\n",
       "      <td>no</td>\n",
       "      <td>no</td>\n",
       "      <td>2</td>\n",
       "      <td>yes</td>\n",
       "      <td>semi-furnished</td>\n",
       "    </tr>\n",
       "    <tr>\n",
       "      <th>3</th>\n",
       "      <td>12215000</td>\n",
       "      <td>7500</td>\n",
       "      <td>4</td>\n",
       "      <td>2</td>\n",
       "      <td>2</td>\n",
       "      <td>yes</td>\n",
       "      <td>no</td>\n",
       "      <td>yes</td>\n",
       "      <td>no</td>\n",
       "      <td>yes</td>\n",
       "      <td>3</td>\n",
       "      <td>yes</td>\n",
       "      <td>furnished</td>\n",
       "    </tr>\n",
       "    <tr>\n",
       "      <th>4</th>\n",
       "      <td>11410000</td>\n",
       "      <td>7420</td>\n",
       "      <td>4</td>\n",
       "      <td>1</td>\n",
       "      <td>2</td>\n",
       "      <td>yes</td>\n",
       "      <td>yes</td>\n",
       "      <td>yes</td>\n",
       "      <td>no</td>\n",
       "      <td>yes</td>\n",
       "      <td>2</td>\n",
       "      <td>no</td>\n",
       "      <td>furnished</td>\n",
       "    </tr>\n",
       "  </tbody>\n",
       "</table>\n",
       "</div>"
      ],
      "text/plain": [
       "      price  area  bedrooms  bathrooms  stories mainroad guestroom basement   \n",
       "0  13300000  7420         4          2        3      yes        no       no  \\\n",
       "1  12250000  8960         4          4        4      yes        no       no   \n",
       "2  12250000  9960         3          2        2      yes        no      yes   \n",
       "3  12215000  7500         4          2        2      yes        no      yes   \n",
       "4  11410000  7420         4          1        2      yes       yes      yes   \n",
       "\n",
       "  hotwaterheating airconditioning  parking prefarea furnishingstatus  \n",
       "0              no             yes        2      yes        furnished  \n",
       "1              no             yes        3       no        furnished  \n",
       "2              no              no        2      yes   semi-furnished  \n",
       "3              no             yes        3      yes        furnished  \n",
       "4              no             yes        2       no        furnished  "
      ]
     },
     "execution_count": 5,
     "metadata": {},
     "output_type": "execute_result"
    }
   ],
   "source": [
    "data.head()"
   ]
  },
  {
   "cell_type": "code",
   "execution_count": 6,
   "id": "8fa72a5e",
   "metadata": {},
   "outputs": [],
   "source": [
    "train_data,test_data = train_test_split(data,test_size=0.2,random_state=10)"
   ]
  },
  {
   "cell_type": "markdown",
   "id": "cee4e2c2",
   "metadata": {},
   "source": [
    "### Exploratory Data Analysis"
   ]
  },
  {
   "cell_type": "code",
   "execution_count": 7,
   "id": "c6eb37c5",
   "metadata": {},
   "outputs": [
    {
     "data": {
      "image/png": "[encoded data removed]",
      "text/plain": [
       "<Figure size 1080x720 with 36 Axes>"
      ]
     },
     "metadata": {
      "needs_background": "light"
     },
     "output_type": "display_data"
    }
   ],
   "source": [
    "pd.plotting.scatter_matrix(train_data,figsize=(15,10))\n",
    "plt.show()"
   ]
  },
  {
   "cell_type": "code",
   "execution_count": 8,
   "id": "a4eb19e2",
   "metadata": {},
   "outputs": [],
   "source": [
    "train_data[\"log_price\"] = np.log(train_data[\"price\"])\n",
    "train_data[\"log_area\"] = np.log(train_data[\"area\"])"
   ]
  },
  {
   "cell_type": "code",
   "execution_count": 9,
   "id": "0af5b7b8",
   "metadata": {},
   "outputs": [
    {
     "data": {
      "text/plain": [
       "Text(0, 0.5, 'Log Price')"
      ]
     },
     "execution_count": 9,
     "metadata": {},
     "output_type": "execute_result"
    },
    {
     "data": {
      "image/png": "[encoded data removed]",
      "text/plain": [
       "<Figure size 1080x360 with 2 Axes>"
      ]
     },
     "metadata": {
      "needs_background": "light"
     },
     "output_type": "display_data"
    }
   ],
   "source": [
    "fig,ax = plt.subplots(nrows=1,ncols=2,figsize=(15,5))\n",
    "ax[0].scatter(train_data[\"area\"],train_data[\"price\"])\n",
    "ax[0].set_title(\"Price vs. Area\")\n",
    "ax[0].set_xlabel(\"Area\")\n",
    "ax[0].set_ylabel(\"Price\")\n",
    "ax[1].scatter(train_data[\"log_area\"],train_data[\"log_price\"])\n",
    "ax[1].set_title(\"Log Price vs. Log Area\")\n",
    "ax[1].set_xlabel(\"Log Area\")\n",
    "ax[1].set_ylabel(\"Log Price\")"
   ]
  },
  {
   "cell_type": "code",
   "execution_count": 10,
   "id": "cbb8070d",
   "metadata": {},
   "outputs": [
    {
     "data": {
      "text/plain": [
       "<matplotlib.collections.PathCollection at 0x22fa367c070>"
      ]
     },
     "execution_count": 10,
     "metadata": {},
     "output_type": "execute_result"
    },
    {
     "data": {
      "image/png": "[encoded data removed]",
      "text/plain": [
       "<Figure size 432x288 with 1 Axes>"
      ]
     },
     "metadata": {
      "needs_background": "light"
     },
     "output_type": "display_data"
    }
   ],
   "source": [
    "plt.scatter(train_data[\"bedrooms\"],train_data[\"log_price\"])"
   ]
  },
  {
   "cell_type": "code",
   "execution_count": 11,
   "id": "d1c56ed9",
   "metadata": {
    "scrolled": true
   },
   "outputs": [
    {
     "data": {
      "text/html": [
       "<div>\n",
       "<style scoped>\n",
       "    .dataframe tbody tr th:only-of-type {\n",
       "        vertical-align: middle;\n",
       "    }\n",
       "\n",
       "    .dataframe tbody tr th {\n",
       "        vertical-align: top;\n",
       "    }\n",
       "\n",
       "    .dataframe thead th {\n",
       "        text-align: right;\n",
       "    }\n",
       "</style>\n",
       "<table border=\"1\" class=\"dataframe\">\n",
       "  <thead>\n",
       "    <tr style=\"text-align: right;\">\n",
       "      <th></th>\n",
       "      <th>Mean_millions</th>\n",
       "      <th>Count</th>\n",
       "    </tr>\n",
       "    <tr>\n",
       "      <th>bedrooms</th>\n",
       "      <th></th>\n",
       "      <th></th>\n",
       "    </tr>\n",
       "  </thead>\n",
       "  <tbody>\n",
       "    <tr>\n",
       "      <th>1</th>\n",
       "      <td>27.125000</td>\n",
       "      <td>2</td>\n",
       "    </tr>\n",
       "    <tr>\n",
       "      <th>2</th>\n",
       "      <td>35.612667</td>\n",
       "      <td>105</td>\n",
       "    </tr>\n",
       "    <tr>\n",
       "      <th>3</th>\n",
       "      <td>50.393972</td>\n",
       "      <td>239</td>\n",
       "    </tr>\n",
       "    <tr>\n",
       "      <th>4</th>\n",
       "      <td>57.502375</td>\n",
       "      <td>80</td>\n",
       "    </tr>\n",
       "    <tr>\n",
       "      <th>5</th>\n",
       "      <td>53.103750</td>\n",
       "      <td>8</td>\n",
       "    </tr>\n",
       "    <tr>\n",
       "      <th>6</th>\n",
       "      <td>47.915000</td>\n",
       "      <td>2</td>\n",
       "    </tr>\n",
       "  </tbody>\n",
       "</table>\n",
       "</div>"
      ],
      "text/plain": [
       "          Mean_millions  Count\n",
       "bedrooms                      \n",
       "1             27.125000      2\n",
       "2             35.612667    105\n",
       "3             50.393972    239\n",
       "4             57.502375     80\n",
       "5             53.103750      8\n",
       "6             47.915000      2"
      ]
     },
     "execution_count": 11,
     "metadata": {},
     "output_type": "execute_result"
    }
   ],
   "source": [
    "train_data.groupby(\"bedrooms\")[\"price\"].agg(Mean_millions = lambda x : np.mean(x)/100000,Count = \"count\")"
   ]
  },
  {
   "cell_type": "code",
   "execution_count": 12,
   "id": "59121b06",
   "metadata": {},
   "outputs": [
    {
     "data": {
      "text/html": [
       "<div>\n",
       "<style scoped>\n",
       "    .dataframe tbody tr th:only-of-type {\n",
       "        vertical-align: middle;\n",
       "    }\n",
       "\n",
       "    .dataframe tbody tr th {\n",
       "        vertical-align: top;\n",
       "    }\n",
       "\n",
       "    .dataframe thead th {\n",
       "        text-align: right;\n",
       "    }\n",
       "</style>\n",
       "<table border=\"1\" class=\"dataframe\">\n",
       "  <thead>\n",
       "    <tr style=\"text-align: right;\">\n",
       "      <th></th>\n",
       "      <th>Mean_millions</th>\n",
       "      <th>Count</th>\n",
       "    </tr>\n",
       "    <tr>\n",
       "      <th>bathrooms</th>\n",
       "      <th></th>\n",
       "      <th></th>\n",
       "    </tr>\n",
       "  </thead>\n",
       "  <tbody>\n",
       "    <tr>\n",
       "      <th>1</th>\n",
       "      <td>42.139009</td>\n",
       "      <td>318</td>\n",
       "    </tr>\n",
       "    <tr>\n",
       "      <th>2</th>\n",
       "      <td>63.937949</td>\n",
       "      <td>110</td>\n",
       "    </tr>\n",
       "    <tr>\n",
       "      <th>3</th>\n",
       "      <td>65.651250</td>\n",
       "      <td>8</td>\n",
       "    </tr>\n",
       "  </tbody>\n",
       "</table>\n",
       "</div>"
      ],
      "text/plain": [
       "           Mean_millions  Count\n",
       "bathrooms                      \n",
       "1              42.139009    318\n",
       "2              63.937949    110\n",
       "3              65.651250      8"
      ]
     },
     "execution_count": 12,
     "metadata": {},
     "output_type": "execute_result"
    }
   ],
   "source": [
    "train_data.groupby(\"bathrooms\")[\"price\"].agg(Mean_millions = lambda x : np.mean(x)/100000,Count = \"count\")"
   ]
  },
  {
   "cell_type": "code",
   "execution_count": 13,
   "id": "33c3628d",
   "metadata": {},
   "outputs": [
    {
     "data": {
      "text/html": [
       "<div>\n",
       "<style scoped>\n",
       "    .dataframe tbody tr th:only-of-type {\n",
       "        vertical-align: middle;\n",
       "    }\n",
       "\n",
       "    .dataframe tbody tr th {\n",
       "        vertical-align: top;\n",
       "    }\n",
       "\n",
       "    .dataframe thead th {\n",
       "        text-align: right;\n",
       "    }\n",
       "</style>\n",
       "<table border=\"1\" class=\"dataframe\">\n",
       "  <thead>\n",
       "    <tr style=\"text-align: right;\">\n",
       "      <th></th>\n",
       "      <th>Mean_millions</th>\n",
       "      <th>Count</th>\n",
       "    </tr>\n",
       "    <tr>\n",
       "      <th>parking</th>\n",
       "      <th></th>\n",
       "      <th></th>\n",
       "    </tr>\n",
       "  </thead>\n",
       "  <tbody>\n",
       "    <tr>\n",
       "      <th>0</th>\n",
       "      <td>41.412794</td>\n",
       "      <td>238</td>\n",
       "    </tr>\n",
       "    <tr>\n",
       "      <th>1</th>\n",
       "      <td>52.859813</td>\n",
       "      <td>107</td>\n",
       "    </tr>\n",
       "    <tr>\n",
       "      <th>2</th>\n",
       "      <td>60.592101</td>\n",
       "      <td>83</td>\n",
       "    </tr>\n",
       "    <tr>\n",
       "      <th>3</th>\n",
       "      <td>52.150000</td>\n",
       "      <td>8</td>\n",
       "    </tr>\n",
       "  </tbody>\n",
       "</table>\n",
       "</div>"
      ],
      "text/plain": [
       "         Mean_millions  Count\n",
       "parking                      \n",
       "0            41.412794    238\n",
       "1            52.859813    107\n",
       "2            60.592101     83\n",
       "3            52.150000      8"
      ]
     },
     "execution_count": 13,
     "metadata": {},
     "output_type": "execute_result"
    }
   ],
   "source": [
    "train_data.groupby(\"parking\")[\"price\"].agg(Mean_millions = lambda x : np.mean(x)/100000,Count = \"count\")"
   ]
  },
  {
   "cell_type": "markdown",
   "id": "56768b3d",
   "metadata": {},
   "source": [
    "### Creating Custom Transformers for Feature Selection"
   ]
  },
  {
   "cell_type": "code",
   "execution_count": 14,
   "id": "4ad9cbf4",
   "metadata": {},
   "outputs": [],
   "source": [
    "class log_transform(BaseEstimator,TransformerMixin):\n",
    "    def fit(self,X,y=None):\n",
    "        return self\n",
    "    def transform(self,X,y=None):\n",
    "        X[\"log_area\"] = np.log(X[\"area\"])\n",
    "        return X"
   ]
  },
  {
   "cell_type": "code",
   "execution_count": 15,
   "id": "589b5501",
   "metadata": {},
   "outputs": [],
   "source": [
    "class bedrooms_coder(BaseEstimator,TransformerMixin):\n",
    "    def fit(self,X,y=None):\n",
    "        return self\n",
    "    def transform(self,X,y=None):\n",
    "        X[\"bedrooms_modified\"] = np.where(X.loc[:,'bedrooms']<2,\"<2\",np.where(X.loc[:,\"bedrooms\"]>4,\">4\",X.loc[:,\"bedrooms\"]))\n",
    "        return X"
   ]
  },
  {
   "cell_type": "code",
   "execution_count": 16,
   "id": "e42d3067",
   "metadata": {},
   "outputs": [],
   "source": [
    "class bathrooms_coder(BaseEstimator,TransformerMixin):\n",
    "    def fit(self,X,y=None):\n",
    "        return self\n",
    "    def transform(self,X,y=None):\n",
    "        X[\"bathrooms_modified\"] = np.where(X.loc[:,'bathrooms']>1,\">1\",X.loc[:,\"bathrooms\"])\n",
    "        return X"
   ]
  },
  {
   "cell_type": "code",
   "execution_count": 17,
   "id": "62414aa8",
   "metadata": {},
   "outputs": [],
   "source": [
    "class parking_coder(BaseEstimator,TransformerMixin):\n",
    "    def fit(self,X,y=None):\n",
    "        return self\n",
    "    def transform(self,X,y=None):\n",
    "        X[\"parking_modified\"] = np.where(X.loc[:,'parking']>2,\">2\",X.loc[:,\"parking\"])\n",
    "        return X"
   ]
  },
  {
   "cell_type": "code",
   "execution_count": 18,
   "id": "f0e105b0",
   "metadata": {},
   "outputs": [],
   "source": [
    "class column_selector(BaseEstimator,TransformerMixin):\n",
    "    def __init__(self,columns_list):\n",
    "        self.columns_list = columns_list\n",
    "        self.feature_names_in_ = columns_list\n",
    "    def fit(self,X,y=None):\n",
    "        return self\n",
    "    def transform(self,X):\n",
    "        return pd.DataFrame(X[self.columns_list])\n",
    "    def get_feature_names_out(self,feature_names=None):\n",
    "        return self.columns_list"
   ]
  },
  {
   "cell_type": "markdown",
   "id": "cd76c77f",
   "metadata": {},
   "source": [
    "### Creating Pipelines for Linear Regression"
   ]
  },
  {
   "cell_type": "code",
   "execution_count": 19,
   "id": "9a3e515e",
   "metadata": {},
   "outputs": [],
   "source": [
    "X_train = train_data.drop(\"price\",axis=1)\n",
    "Y_train = np.log(train_data['price'])"
   ]
  },
  {
   "cell_type": "code",
   "execution_count": 20,
   "id": "a9d575ff",
   "metadata": {},
   "outputs": [],
   "source": [
    "features_selected = ['log_area','bedrooms_modified', 'bathrooms_modified', 'parking_modified','stories','mainroad',\n",
    "       'guestroom', 'basement', 'hotwaterheating', 'airconditioning','prefarea', 'furnishingstatus']"
   ]
  },
  {
   "cell_type": "code",
   "execution_count": 21,
   "id": "b80f8fee",
   "metadata": {},
   "outputs": [],
   "source": [
    "features_transform = Pipeline([('log_area',log_transform()),(\"bedroom_transform\",bedrooms_coder()),\n",
    "                               (\"bathroom_transform\",bathrooms_coder()),(\"parking_transform\",parking_coder()),\n",
    "                               (\"Column_selector\",column_selector(features_selected))])"
   ]
  },
  {
   "cell_type": "code",
   "execution_count": 22,
   "id": "80e39d28",
   "metadata": {},
   "outputs": [],
   "source": [
    "features_to_encode = ['bedrooms_modified', 'bathrooms_modified', 'parking_modified','stories','mainroad',\n",
    "       'guestroom', 'basement', 'hotwaterheating', 'airconditioning','prefarea', 'furnishingstatus']\n",
    "encoding_transform = Pipeline([(\"features_selector\",column_selector(features_to_encode)),\n",
    "                               (\"encoder\",OneHotEncoder(drop=\"first\"))])"
   ]
  },
  {
   "cell_type": "code",
   "execution_count": 23,
   "id": "5616c0a4",
   "metadata": {},
   "outputs": [],
   "source": [
    "no_transform = Pipeline([(\"Columns_Selector\",column_selector([\"log_area\"]))])\n",
    "combined_encoding = FeatureUnion([(\"No_Transform\",no_transform),(\"encoding_transform\",encoding_transform)])\n",
    "feature_extract = Pipeline([(\"feature_transform\",features_transform),(\"combined_encoding\",combined_encoding)])\n",
    "lin_reg = Pipeline([('feature_extract',feature_extract),('regressor',LinearRegression())])"
   ]
  },
  {
   "cell_type": "markdown",
   "id": "65e7e591",
   "metadata": {},
   "source": [
    "### Creating Pipelines for Polynomial Regression"
   ]
  },
  {
   "cell_type": "code",
   "execution_count": 24,
   "id": "dda4fcc6",
   "metadata": {},
   "outputs": [],
   "source": [
    "poly_reg_pipe = Pipeline([(\"selection_for_poly\",column_selector([\"log_area\"])),(\"Poly_features\",PolynomialFeatures())])\n",
    "combined_encoding_polyreg = FeatureUnion([(\"Poly_pipe\",poly_reg_pipe),(\"encoding_transform\",encoding_transform)])\n",
    "feature_extract_poly = Pipeline([(\"feature_transform\",features_transform),(\"combined_encoding\",combined_encoding_polyreg)])\n",
    "poly_reg = Pipeline([('feature_extract',feature_extract_poly),('regressor',LinearRegression(fit_intercept=False))])"
   ]
  },
  {
   "cell_type": "markdown",
   "id": "97b91deb",
   "metadata": {},
   "source": [
    "### Creating Pipelines for Ridge & Lasso Regression"
   ]
  },
  {
   "cell_type": "code",
   "execution_count": 59,
   "id": "6434250e",
   "metadata": {},
   "outputs": [],
   "source": [
    "ridge_reg = Pipeline([('feature_extract',feature_extract_poly),('regressor',Ridge(fit_intercept=False))])\n",
    "lasso_reg = Pipeline([('feature_extract',feature_extract_poly),('regressor',Lasso(fit_intercept=False,max_iter=5000))])"
   ]
  },
  {
   "cell_type": "markdown",
   "id": "58486122",
   "metadata": {},
   "source": [
    "### Fitting all models with default Hyperparameters"
   ]
  },
  {
   "cell_type": "code",
   "execution_count": 60,
   "id": "46c4b577",
   "metadata": {},
   "outputs": [],
   "source": [
    "lin_reg_model = lin_reg.fit(X_train,Y_train)\n",
    "poly_reg_model = poly_reg.fit(X_train,Y_train)\n",
    "ridge_reg_model = ridge_reg.fit(X_train,Y_train)\n",
    "lasso_reg_model = lasso_reg.fit(X_train,Y_train)"
   ]
  },
  {
   "cell_type": "markdown",
   "id": "a53e16ab",
   "metadata": {},
   "source": [
    "### Coefficients of all the models"
   ]
  },
  {
   "cell_type": "code",
   "execution_count": 61,
   "id": "976531f0",
   "metadata": {},
   "outputs": [],
   "source": [
    "def get_coefficients(model):\n",
    "    intercept = model[1].intercept_\n",
    "    coefs = model[1].coef_\n",
    "    encoder = model[0][1]\n",
    "    col_names = []\n",
    "    for i in encoder.named_transformers.keys():\n",
    "        col_names.extend(encoder[i].get_feature_names_out())\n",
    "    \n",
    "    if col_names[0]!=\"1\":\n",
    "        coefs = np.insert(coefs,0,intercept)\n",
    "        col_names.insert(0,\"Intercept\")\n",
    "    else:\n",
    "        col_names[0] = \"Intercept\"\n",
    "    \n",
    "    return pd.DataFrame(coefs.reshape((-1,1)),index=col_names,columns=[np.random.randint(0,100)])"
   ]
  },
  {
   "cell_type": "code",
   "execution_count": 62,
   "id": "076cf6a2",
   "metadata": {},
   "outputs": [],
   "source": [
    "def get_coef_table(model_list,column_names = None):\n",
    "    coef_df = pd.DataFrame()\n",
    "    for model in model_list:\n",
    "        df = get_coefficients(model)\n",
    "        coef_df = pd.concat([coef_df,df],axis=1)\n",
    "    \n",
    "    if column_names is not None:\n",
    "        coef_df.columns = column_names\n",
    "    return coef_df"
   ]
  },
  {
   "cell_type": "code",
   "execution_count": 63,
   "id": "ab0cd2fe",
   "metadata": {},
   "outputs": [
    {
     "data": {
      "text/html": [
       "<div>\n",
       "<style scoped>\n",
       "    .dataframe tbody tr th:only-of-type {\n",
       "        vertical-align: middle;\n",
       "    }\n",
       "\n",
       "    .dataframe tbody tr th {\n",
       "        vertical-align: top;\n",
       "    }\n",
       "\n",
       "    .dataframe thead th {\n",
       "        text-align: right;\n",
       "    }\n",
       "</style>\n",
       "<table border=\"1\" class=\"dataframe\">\n",
       "  <thead>\n",
       "    <tr style=\"text-align: right;\">\n",
       "      <th></th>\n",
       "      <th>Linear</th>\n",
       "      <th>Poly (degree=2)</th>\n",
       "      <th>Ridge</th>\n",
       "      <th>Lasso</th>\n",
       "    </tr>\n",
       "  </thead>\n",
       "  <tbody>\n",
       "    <tr>\n",
       "      <th>Intercept</th>\n",
       "      <td>12.355129</td>\n",
       "      <td>5.618590</td>\n",
       "      <td>0.641770</td>\n",
       "      <td>0.000000</td>\n",
       "    </tr>\n",
       "    <tr>\n",
       "      <th>log_area</th>\n",
       "      <td>0.301503</td>\n",
       "      <td>1.895717</td>\n",
       "      <td>2.713144</td>\n",
       "      <td>0.000000</td>\n",
       "    </tr>\n",
       "    <tr>\n",
       "      <th>bedrooms_modified_3</th>\n",
       "      <td>0.103583</td>\n",
       "      <td>0.102736</td>\n",
       "      <td>0.149420</td>\n",
       "      <td>0.000000</td>\n",
       "    </tr>\n",
       "    <tr>\n",
       "      <th>bedrooms_modified_4</th>\n",
       "      <td>0.102905</td>\n",
       "      <td>0.100982</td>\n",
       "      <td>0.137104</td>\n",
       "      <td>0.000000</td>\n",
       "    </tr>\n",
       "    <tr>\n",
       "      <th>bedrooms_modified_&lt;2</th>\n",
       "      <td>-0.024386</td>\n",
       "      <td>-0.035161</td>\n",
       "      <td>0.014227</td>\n",
       "      <td>0.000000</td>\n",
       "    </tr>\n",
       "    <tr>\n",
       "      <th>bedrooms_modified_&gt;4</th>\n",
       "      <td>0.151544</td>\n",
       "      <td>0.156704</td>\n",
       "      <td>0.034489</td>\n",
       "      <td>0.000000</td>\n",
       "    </tr>\n",
       "    <tr>\n",
       "      <th>bathrooms_modified_&gt;1</th>\n",
       "      <td>0.159492</td>\n",
       "      <td>0.155371</td>\n",
       "      <td>0.363407</td>\n",
       "      <td>-0.000000</td>\n",
       "    </tr>\n",
       "    <tr>\n",
       "      <th>parking_modified_1</th>\n",
       "      <td>0.075066</td>\n",
       "      <td>0.076486</td>\n",
       "      <td>-0.136375</td>\n",
       "      <td>-0.000000</td>\n",
       "    </tr>\n",
       "    <tr>\n",
       "      <th>parking_modified_2</th>\n",
       "      <td>0.106112</td>\n",
       "      <td>0.112447</td>\n",
       "      <td>-0.174348</td>\n",
       "      <td>-0.000000</td>\n",
       "    </tr>\n",
       "    <tr>\n",
       "      <th>parking_modified_&gt;2</th>\n",
       "      <td>-0.058377</td>\n",
       "      <td>-0.052593</td>\n",
       "      <td>-0.146570</td>\n",
       "      <td>-0.000000</td>\n",
       "    </tr>\n",
       "    <tr>\n",
       "      <th>stories_2</th>\n",
       "      <td>0.067175</td>\n",
       "      <td>0.067061</td>\n",
       "      <td>0.174179</td>\n",
       "      <td>0.000000</td>\n",
       "    </tr>\n",
       "    <tr>\n",
       "      <th>stories_3</th>\n",
       "      <td>0.176828</td>\n",
       "      <td>0.177881</td>\n",
       "      <td>0.319049</td>\n",
       "      <td>0.000000</td>\n",
       "    </tr>\n",
       "    <tr>\n",
       "      <th>stories_4</th>\n",
       "      <td>0.240652</td>\n",
       "      <td>0.240642</td>\n",
       "      <td>0.100980</td>\n",
       "      <td>-0.000000</td>\n",
       "    </tr>\n",
       "    <tr>\n",
       "      <th>mainroad_yes</th>\n",
       "      <td>0.101190</td>\n",
       "      <td>0.091540</td>\n",
       "      <td>0.103464</td>\n",
       "      <td>0.000000</td>\n",
       "    </tr>\n",
       "    <tr>\n",
       "      <th>guestroom_yes</th>\n",
       "      <td>0.049911</td>\n",
       "      <td>0.044188</td>\n",
       "      <td>0.007798</td>\n",
       "      <td>-0.000000</td>\n",
       "    </tr>\n",
       "    <tr>\n",
       "      <th>basement_yes</th>\n",
       "      <td>0.100801</td>\n",
       "      <td>0.102095</td>\n",
       "      <td>0.248248</td>\n",
       "      <td>0.000000</td>\n",
       "    </tr>\n",
       "    <tr>\n",
       "      <th>hotwaterheating_yes</th>\n",
       "      <td>0.144456</td>\n",
       "      <td>0.145677</td>\n",
       "      <td>0.087394</td>\n",
       "      <td>0.000000</td>\n",
       "    </tr>\n",
       "    <tr>\n",
       "      <th>airconditioning_yes</th>\n",
       "      <td>0.158875</td>\n",
       "      <td>0.156920</td>\n",
       "      <td>0.270376</td>\n",
       "      <td>-0.000000</td>\n",
       "    </tr>\n",
       "    <tr>\n",
       "      <th>prefarea_yes</th>\n",
       "      <td>0.121124</td>\n",
       "      <td>0.132462</td>\n",
       "      <td>-0.028433</td>\n",
       "      <td>-0.000000</td>\n",
       "    </tr>\n",
       "    <tr>\n",
       "      <th>furnishingstatus_semi-furnished</th>\n",
       "      <td>0.018297</td>\n",
       "      <td>0.012674</td>\n",
       "      <td>0.197209</td>\n",
       "      <td>0.000000</td>\n",
       "    </tr>\n",
       "    <tr>\n",
       "      <th>furnishingstatus_unfurnished</th>\n",
       "      <td>-0.116760</td>\n",
       "      <td>-0.123222</td>\n",
       "      <td>0.133949</td>\n",
       "      <td>0.000000</td>\n",
       "    </tr>\n",
       "    <tr>\n",
       "      <th>log_area^2</th>\n",
       "      <td>NaN</td>\n",
       "      <td>-0.093956</td>\n",
       "      <td>-0.124367</td>\n",
       "      <td>0.211741</td>\n",
       "    </tr>\n",
       "  </tbody>\n",
       "</table>\n",
       "</div>"
      ],
      "text/plain": [
       "                                    Linear  Poly (degree=2)     Ridge   \n",
       "Intercept                        12.355129         5.618590  0.641770  \\\n",
       "log_area                          0.301503         1.895717  2.713144   \n",
       "bedrooms_modified_3               0.103583         0.102736  0.149420   \n",
       "bedrooms_modified_4               0.102905         0.100982  0.137104   \n",
       "bedrooms_modified_<2             -0.024386        -0.035161  0.014227   \n",
       "bedrooms_modified_>4              0.151544         0.156704  0.034489   \n",
       "bathrooms_modified_>1             0.159492         0.155371  0.363407   \n",
       "parking_modified_1                0.075066         0.076486 -0.136375   \n",
       "parking_modified_2                0.106112         0.112447 -0.174348   \n",
       "parking_modified_>2              -0.058377        -0.052593 -0.146570   \n",
       "stories_2                         0.067175         0.067061  0.174179   \n",
       "stories_3                         0.176828         0.177881  0.319049   \n",
       "stories_4                         0.240652         0.240642  0.100980   \n",
       "mainroad_yes                      0.101190         0.091540  0.103464   \n",
       "guestroom_yes                     0.049911         0.044188  0.007798   \n",
       "basement_yes                      0.100801         0.102095  0.248248   \n",
       "hotwaterheating_yes               0.144456         0.145677  0.087394   \n",
       "airconditioning_yes               0.158875         0.156920  0.270376   \n",
       "prefarea_yes                      0.121124         0.132462 -0.028433   \n",
       "furnishingstatus_semi-furnished   0.018297         0.012674  0.197209   \n",
       "furnishingstatus_unfurnished     -0.116760        -0.123222  0.133949   \n",
       "log_area^2                             NaN        -0.093956 -0.124367   \n",
       "\n",
       "                                    Lasso  \n",
       "Intercept                        0.000000  \n",
       "log_area                         0.000000  \n",
       "bedrooms_modified_3              0.000000  \n",
       "bedrooms_modified_4              0.000000  \n",
       "bedrooms_modified_<2             0.000000  \n",
       "bedrooms_modified_>4             0.000000  \n",
       "bathrooms_modified_>1           -0.000000  \n",
       "parking_modified_1              -0.000000  \n",
       "parking_modified_2              -0.000000  \n",
       "parking_modified_>2             -0.000000  \n",
       "stories_2                        0.000000  \n",
       "stories_3                        0.000000  \n",
       "stories_4                       -0.000000  \n",
       "mainroad_yes                     0.000000  \n",
       "guestroom_yes                   -0.000000  \n",
       "basement_yes                     0.000000  \n",
       "hotwaterheating_yes              0.000000  \n",
       "airconditioning_yes             -0.000000  \n",
       "prefarea_yes                    -0.000000  \n",
       "furnishingstatus_semi-furnished  0.000000  \n",
       "furnishingstatus_unfurnished     0.000000  \n",
       "log_area^2                       0.211741  "
      ]
     },
     "execution_count": 63,
     "metadata": {},
     "output_type": "execute_result"
    }
   ],
   "source": [
    "get_coef_table([lin_reg_model,poly_reg_model,ridge_reg_model,lasso_reg_model],[\"Linear\",\"Poly (degree=2)\",\"Ridge\",\"Lasso\"])"
   ]
  },
  {
   "cell_type": "markdown",
   "id": "5b18858f",
   "metadata": {},
   "source": [
    "### Feature elimination property of Ridge and Lasso"
   ]
  },
  {
   "cell_type": "code",
   "execution_count": 64,
   "id": "b34ea7cb",
   "metadata": {},
   "outputs": [],
   "source": [
    "def generate_ridge_pipe(l):\n",
    "    ridge_reg = Pipeline([('feature_extract',feature_extract_poly),('regressor',Ridge(fit_intercept=False,alpha=l))])\n",
    "    return ridge_reg\n",
    "\n",
    "def generate_lasso_pipe(l):\n",
    "    lasso_reg = Pipeline([('feature_extract',feature_extract_poly),('regressor',Lasso(fit_intercept=False,alpha=l))])\n",
    "    return lasso_reg"
   ]
  },
  {
   "cell_type": "code",
   "execution_count": 65,
   "id": "5daee09b",
   "metadata": {},
   "outputs": [],
   "source": [
    "l = np.linspace(0.1,2,11)\n",
    "ridge_model_list = [generate_ridge_pipe(i).fit(X_train,Y_train) for i in l]\n",
    "lasso_model_list = [generate_lasso_pipe(i).fit(X_train,Y_train) for i in l]\n",
    "ridge_col_names = [f\"Ridge (l={np.round(i,2)})\" for i in l]\n",
    "lasso_col_names = [f\"Lasso (l={np.round(i,2)})\" for i in l]"
   ]
  },
  {
   "cell_type": "code",
   "execution_count": 66,
   "id": "0c13cc5e",
   "metadata": {},
   "outputs": [],
   "source": [
    "ridge_coef_table = get_coef_table(ridge_model_list,ridge_col_names)\n",
    "lasso_coef_table = get_coef_table(lasso_model_list,lasso_col_names)"
   ]
  },
  {
   "cell_type": "code",
   "execution_count": 67,
   "id": "38918640",
   "metadata": {},
   "outputs": [
    {
     "data": {
      "image/png": "[encoded data removed]",
      "text/plain": [
       "<Figure size 720x360 with 1 Axes>"
      ]
     },
     "metadata": {
      "needs_background": "light"
     },
     "output_type": "display_data"
    }
   ],
   "source": [
    "plt.figure(figsize=(10,5))\n",
    "plt.plot(l,ridge_coef_table.T[[\"log_area\",\"log_area^2\"]],label = [\"log_area (Ridge)\",\"log_area^2 (Ridge)\"])\n",
    "plt.plot(l,lasso_coef_table.T[[\"log_area\",\"log_area^2\"]],label = [\"log_area (Lasso)\",\"log_area^2 (Lasso)\"])\n",
    "plt.legend()\n",
    "plt.xlabel(\"$\\lambda$\")\n",
    "plt.ylabel(\"Coefficients\")\n",
    "plt.title(\"Feature values by regularization parameter $\\lambda$\")\n",
    "plt.show()"
   ]
  },
  {
   "cell_type": "markdown",
   "id": "2345a3ad",
   "metadata": {},
   "source": [
    "### Scores for all the models"
   ]
  },
  {
   "cell_type": "code",
   "execution_count": 68,
   "id": "96034c56",
   "metadata": {},
   "outputs": [],
   "source": [
    "mse_scorer = make_scorer(mean_squared_error,greater_is_better=False)\n",
    "r2_scorer = make_scorer(r2_score)"
   ]
  },
  {
   "cell_type": "code",
   "execution_count": 69,
   "id": "7b7b7577",
   "metadata": {},
   "outputs": [],
   "source": [
    "def get_scores(model,X,y):\n",
    "    mse =  -mse_scorer(model,X,y)\n",
    "    r_2 = r2_scorer(model,X,y)\n",
    "    rmse = mse**0.5\n",
    "    adj_r_2 = 1-((1-r_2)*(X.shape[0]-1)/(X.shape[0] - X.shape[1]))\n",
    "    \n",
    "    return pd.DataFrame([mse,r_2,rmse,adj_r_2],index = [\"MSE\",\"R-sq\",\"RMSE\",\"Adj. R-sq\"])"
   ]
  },
  {
   "cell_type": "code",
   "execution_count": 70,
   "id": "3a441bc7",
   "metadata": {},
   "outputs": [],
   "source": [
    "def get_score_df(model_list,X,Y,column_names = None):\n",
    "    score_df = pd.DataFrame()\n",
    "    for model in model_list:\n",
    "        df = get_scores(model,X,Y)\n",
    "        if score_df.empty:\n",
    "            score_df = df\n",
    "        else:\n",
    "            score_df = pd.concat([score_df,df],axis=1)\n",
    "    if column_names is not None:\n",
    "        score_df.columns = column_names\n",
    "    \n",
    "    return score_df"
   ]
  },
  {
   "cell_type": "code",
   "execution_count": 71,
   "id": "ad467d8a",
   "metadata": {},
   "outputs": [
    {
     "data": {
      "text/html": [
       "<div>\n",
       "<style scoped>\n",
       "    .dataframe tbody tr th:only-of-type {\n",
       "        vertical-align: middle;\n",
       "    }\n",
       "\n",
       "    .dataframe tbody tr th {\n",
       "        vertical-align: top;\n",
       "    }\n",
       "\n",
       "    .dataframe thead th {\n",
       "        text-align: right;\n",
       "    }\n",
       "</style>\n",
       "<table border=\"1\" class=\"dataframe\">\n",
       "  <thead>\n",
       "    <tr style=\"text-align: right;\">\n",
       "      <th></th>\n",
       "      <th>Linear</th>\n",
       "      <th>Poly (degree=2)</th>\n",
       "      <th>Ridge</th>\n",
       "      <th>Lasso</th>\n",
       "    </tr>\n",
       "  </thead>\n",
       "  <tbody>\n",
       "    <tr>\n",
       "      <th>MSE</th>\n",
       "      <td>0.041443</td>\n",
       "      <td>0.041125</td>\n",
       "      <td>0.086136</td>\n",
       "      <td>1.524144</td>\n",
       "    </tr>\n",
       "    <tr>\n",
       "      <th>R-sq</th>\n",
       "      <td>0.712708</td>\n",
       "      <td>0.714910</td>\n",
       "      <td>0.402882</td>\n",
       "      <td>-9.565717</td>\n",
       "    </tr>\n",
       "    <tr>\n",
       "      <th>RMSE</th>\n",
       "      <td>0.203575</td>\n",
       "      <td>0.202794</td>\n",
       "      <td>0.293490</td>\n",
       "      <td>1.234562</td>\n",
       "    </tr>\n",
       "    <tr>\n",
       "      <th>Adj. R-sq</th>\n",
       "      <td>0.701737</td>\n",
       "      <td>0.704024</td>\n",
       "      <td>0.380081</td>\n",
       "      <td>-9.969181</td>\n",
       "    </tr>\n",
       "  </tbody>\n",
       "</table>\n",
       "</div>"
      ],
      "text/plain": [
       "             Linear  Poly (degree=2)     Ridge     Lasso\n",
       "MSE        0.041443         0.041125  0.086136  1.524144\n",
       "R-sq       0.712708         0.714910  0.402882 -9.565717\n",
       "RMSE       0.203575         0.202794  0.293490  1.234562\n",
       "Adj. R-sq  0.701737         0.704024  0.380081 -9.969181"
      ]
     },
     "execution_count": 71,
     "metadata": {},
     "output_type": "execute_result"
    }
   ],
   "source": [
    "get_score_df([lin_reg_model,poly_reg_model,ridge_reg_model,lasso_reg_model],X_train,Y_train,[\"Linear\",\"Poly (degree=2)\",\"Ridge\",\"Lasso\"])"
   ]
  },
  {
   "cell_type": "markdown",
   "id": "c8a3b3b0",
   "metadata": {},
   "source": [
    "### HyperParameter Tuning"
   ]
  },
  {
   "cell_type": "markdown",
   "id": "9f91aa00",
   "metadata": {},
   "source": [
    "#### Polynomial Regression"
   ]
  },
  {
   "cell_type": "code",
   "execution_count": 72,
   "id": "55e607de",
   "metadata": {},
   "outputs": [],
   "source": [
    "poly_reg_cv = GridSearchCV(poly_reg,\n",
    "             param_grid = {\"feature_extract__combined_encoding__Poly_pipe__Poly_features__degree\":[1,2,3,4,5]},\n",
    "            scoring=mse_scorer,cv=10)"
   ]
  },
  {
   "cell_type": "code",
   "execution_count": 73,
   "id": "04a89b8c",
   "metadata": {},
   "outputs": [],
   "source": [
    "poly_reg_cv_results = poly_reg_cv.fit(X_train,Y_train)"
   ]
  },
  {
   "cell_type": "code",
   "execution_count": 74,
   "id": "4af65085",
   "metadata": {},
   "outputs": [
    {
     "data": {
      "text/html": [
       "<div>\n",
       "<style scoped>\n",
       "    .dataframe tbody tr th:only-of-type {\n",
       "        vertical-align: middle;\n",
       "    }\n",
       "\n",
       "    .dataframe tbody tr th {\n",
       "        vertical-align: top;\n",
       "    }\n",
       "\n",
       "    .dataframe thead th {\n",
       "        text-align: right;\n",
       "    }\n",
       "</style>\n",
       "<table border=\"1\" class=\"dataframe\">\n",
       "  <thead>\n",
       "    <tr style=\"text-align: right;\">\n",
       "      <th></th>\n",
       "      <th>mean_fit_time</th>\n",
       "      <th>std_fit_time</th>\n",
       "      <th>mean_score_time</th>\n",
       "      <th>std_score_time</th>\n",
       "      <th>param_feature_extract__combined_encoding__Poly_pipe__Poly_features__degree</th>\n",
       "      <th>params</th>\n",
       "      <th>split0_test_score</th>\n",
       "      <th>split1_test_score</th>\n",
       "      <th>split2_test_score</th>\n",
       "      <th>split3_test_score</th>\n",
       "      <th>split4_test_score</th>\n",
       "      <th>split5_test_score</th>\n",
       "      <th>split6_test_score</th>\n",
       "      <th>split7_test_score</th>\n",
       "      <th>split8_test_score</th>\n",
       "      <th>split9_test_score</th>\n",
       "      <th>mean_test_score</th>\n",
       "      <th>std_test_score</th>\n",
       "      <th>rank_test_score</th>\n",
       "    </tr>\n",
       "  </thead>\n",
       "  <tbody>\n",
       "    <tr>\n",
       "      <th>0</th>\n",
       "      <td>0.018903</td>\n",
       "      <td>0.001511</td>\n",
       "      <td>0.008403</td>\n",
       "      <td>0.000487</td>\n",
       "      <td>1</td>\n",
       "      <td>{'feature_extract__combined_encoding__Poly_pip...</td>\n",
       "      <td>-0.030423</td>\n",
       "      <td>-0.047253</td>\n",
       "      <td>-0.056508</td>\n",
       "      <td>-0.055600</td>\n",
       "      <td>-0.044745</td>\n",
       "      <td>-0.040757</td>\n",
       "      <td>-0.052084</td>\n",
       "      <td>-0.047704</td>\n",
       "      <td>-0.052991</td>\n",
       "      <td>-0.035312</td>\n",
       "      <td>-0.046338</td>\n",
       "      <td>0.008233</td>\n",
       "      <td>4</td>\n",
       "    </tr>\n",
       "    <tr>\n",
       "      <th>1</th>\n",
       "      <td>0.018005</td>\n",
       "      <td>0.000447</td>\n",
       "      <td>0.007499</td>\n",
       "      <td>0.000500</td>\n",
       "      <td>2</td>\n",
       "      <td>{'feature_extract__combined_encoding__Poly_pip...</td>\n",
       "      <td>-0.032780</td>\n",
       "      <td>-0.048641</td>\n",
       "      <td>-0.056402</td>\n",
       "      <td>-0.054302</td>\n",
       "      <td>-0.043829</td>\n",
       "      <td>-0.040550</td>\n",
       "      <td>-0.050431</td>\n",
       "      <td>-0.047898</td>\n",
       "      <td>-0.053968</td>\n",
       "      <td>-0.034367</td>\n",
       "      <td>-0.046317</td>\n",
       "      <td>0.007838</td>\n",
       "      <td>3</td>\n",
       "    </tr>\n",
       "    <tr>\n",
       "      <th>2</th>\n",
       "      <td>0.019405</td>\n",
       "      <td>0.001115</td>\n",
       "      <td>0.008306</td>\n",
       "      <td>0.000644</td>\n",
       "      <td>3</td>\n",
       "      <td>{'feature_extract__combined_encoding__Poly_pip...</td>\n",
       "      <td>-0.031691</td>\n",
       "      <td>-0.047757</td>\n",
       "      <td>-0.056392</td>\n",
       "      <td>-0.054276</td>\n",
       "      <td>-0.043784</td>\n",
       "      <td>-0.040634</td>\n",
       "      <td>-0.050590</td>\n",
       "      <td>-0.047727</td>\n",
       "      <td>-0.054137</td>\n",
       "      <td>-0.035689</td>\n",
       "      <td>-0.046268</td>\n",
       "      <td>0.007835</td>\n",
       "      <td>2</td>\n",
       "    </tr>\n",
       "    <tr>\n",
       "      <th>3</th>\n",
       "      <td>0.016804</td>\n",
       "      <td>0.000983</td>\n",
       "      <td>0.008498</td>\n",
       "      <td>0.000674</td>\n",
       "      <td>4</td>\n",
       "      <td>{'feature_extract__combined_encoding__Poly_pip...</td>\n",
       "      <td>-0.032473</td>\n",
       "      <td>-0.046851</td>\n",
       "      <td>-0.056332</td>\n",
       "      <td>-0.053952</td>\n",
       "      <td>-0.043288</td>\n",
       "      <td>-0.040549</td>\n",
       "      <td>-0.049819</td>\n",
       "      <td>-0.046831</td>\n",
       "      <td>-0.056004</td>\n",
       "      <td>-0.033511</td>\n",
       "      <td>-0.045961</td>\n",
       "      <td>0.008137</td>\n",
       "      <td>1</td>\n",
       "    </tr>\n",
       "    <tr>\n",
       "      <th>4</th>\n",
       "      <td>0.015601</td>\n",
       "      <td>0.000488</td>\n",
       "      <td>0.008413</td>\n",
       "      <td>0.000481</td>\n",
       "      <td>5</td>\n",
       "      <td>{'feature_extract__combined_encoding__Poly_pip...</td>\n",
       "      <td>-0.034216</td>\n",
       "      <td>-0.048546</td>\n",
       "      <td>-0.063243</td>\n",
       "      <td>-0.052832</td>\n",
       "      <td>-0.040292</td>\n",
       "      <td>-0.044484</td>\n",
       "      <td>-0.051067</td>\n",
       "      <td>-0.040312</td>\n",
       "      <td>-0.065333</td>\n",
       "      <td>-0.037060</td>\n",
       "      <td>-0.047739</td>\n",
       "      <td>0.010028</td>\n",
       "      <td>5</td>\n",
       "    </tr>\n",
       "  </tbody>\n",
       "</table>\n",
       "</div>"
      ],
      "text/plain": [
       "   mean_fit_time  std_fit_time  mean_score_time  std_score_time   \n",
       "0       0.018903      0.001511         0.008403        0.000487  \\\n",
       "1       0.018005      0.000447         0.007499        0.000500   \n",
       "2       0.019405      0.001115         0.008306        0.000644   \n",
       "3       0.016804      0.000983         0.008498        0.000674   \n",
       "4       0.015601      0.000488         0.008413        0.000481   \n",
       "\n",
       "  param_feature_extract__combined_encoding__Poly_pipe__Poly_features__degree   \n",
       "0                                                  1                          \\\n",
       "1                                                  2                           \n",
       "2                                                  3                           \n",
       "3                                                  4                           \n",
       "4                                                  5                           \n",
       "\n",
       "                                              params  split0_test_score   \n",
       "0  {'feature_extract__combined_encoding__Poly_pip...          -0.030423  \\\n",
       "1  {'feature_extract__combined_encoding__Poly_pip...          -0.032780   \n",
       "2  {'feature_extract__combined_encoding__Poly_pip...          -0.031691   \n",
       "3  {'feature_extract__combined_encoding__Poly_pip...          -0.032473   \n",
       "4  {'feature_extract__combined_encoding__Poly_pip...          -0.034216   \n",
       "\n",
       "   split1_test_score  split2_test_score  split3_test_score  split4_test_score   \n",
       "0          -0.047253          -0.056508          -0.055600          -0.044745  \\\n",
       "1          -0.048641          -0.056402          -0.054302          -0.043829   \n",
       "2          -0.047757          -0.056392          -0.054276          -0.043784   \n",
       "3          -0.046851          -0.056332          -0.053952          -0.043288   \n",
       "4          -0.048546          -0.063243          -0.052832          -0.040292   \n",
       "\n",
       "   split5_test_score  split6_test_score  split7_test_score  split8_test_score   \n",
       "0          -0.040757          -0.052084          -0.047704          -0.052991  \\\n",
       "1          -0.040550          -0.050431          -0.047898          -0.053968   \n",
       "2          -0.040634          -0.050590          -0.047727          -0.054137   \n",
       "3          -0.040549          -0.049819          -0.046831          -0.056004   \n",
       "4          -0.044484          -0.051067          -0.040312          -0.065333   \n",
       "\n",
       "   split9_test_score  mean_test_score  std_test_score  rank_test_score  \n",
       "0          -0.035312        -0.046338        0.008233                4  \n",
       "1          -0.034367        -0.046317        0.007838                3  \n",
       "2          -0.035689        -0.046268        0.007835                2  \n",
       "3          -0.033511        -0.045961        0.008137                1  \n",
       "4          -0.037060        -0.047739        0.010028                5  "
      ]
     },
     "execution_count": 74,
     "metadata": {},
     "output_type": "execute_result"
    }
   ],
   "source": [
    "pd.DataFrame(poly_reg_cv_results. cv_results_)"
   ]
  },
  {
   "cell_type": "code",
   "execution_count": 75,
   "id": "404337ce",
   "metadata": {},
   "outputs": [
    {
     "data": {
      "image/png": "[encoded data removed]",
      "text/plain": [
       "<Figure size 720x288 with 1 Axes>"
      ]
     },
     "metadata": {
      "needs_background": "light"
     },
     "output_type": "display_data"
    }
   ],
   "source": [
    "plt.figure(figsize=(10,4))\n",
    "plt.plot([1,2,3,4,5],-poly_reg_cv_results.cv_results_['mean_test_score'],color=\"blue\")\n",
    "plt.axvline(x = list(poly_reg_cv_results.best_params_.values()),color=\"r\",ls=\":\",alpha=0.5)\n",
    "plt.xticks([1,2,3,4,5])\n",
    "plt.show()"
   ]
  },
  {
   "cell_type": "markdown",
   "id": "f7165237",
   "metadata": {},
   "source": [
    "#### Ridge and Lasso"
   ]
  },
  {
   "cell_type": "code",
   "execution_count": 76,
   "id": "d154f2a3",
   "metadata": {},
   "outputs": [],
   "source": [
    "ridge_alpha_cv = RandomizedSearchCV(ridge_reg,\n",
    "                                    param_distributions={\"regressor__alpha\":uniform(0.05,1)},\n",
    "                                    scoring=mse_scorer,n_iter=20,cv=10)"
   ]
  },
  {
   "cell_type": "code",
   "execution_count": 77,
   "id": "9fd7151f",
   "metadata": {},
   "outputs": [],
   "source": [
    "lasso_alpha_cv = RandomizedSearchCV(lasso_reg,\n",
    "                                    param_distributions={\"regressor__alpha\":uniform(0.05,1)},\n",
    "                                    scoring=mse_scorer,n_iter=20,cv=10)"
   ]
  },
  {
   "cell_type": "code",
   "execution_count": 78,
   "id": "dc0fb134",
   "metadata": {},
   "outputs": [],
   "source": [
    "ridge_alpha_cv_results = ridge_alpha_cv.fit(X_train,Y_train)\n",
    "lasso_alpha_cv_results = lasso_alpha_cv.fit(X_train,Y_train)"
   ]
  },
  {
   "cell_type": "code",
   "execution_count": 79,
   "id": "0fcfb4d2",
   "metadata": {},
   "outputs": [
    {
     "data": {
      "image/png": "[encoded data removed]",
      "text/plain": [
       "<Figure size 1080x360 with 2 Axes>"
      ]
     },
     "metadata": {
      "needs_background": "light"
     },
     "output_type": "display_data"
    }
   ],
   "source": [
    "fig,ax = plt.subplots(nrows=1,ncols=2,figsize=(15,5))\n",
    "result = pd.DataFrame(ridge_alpha_cv_results.cv_results_)\n",
    "ax[0].scatter(result[\"param_regressor__alpha\"],-result['mean_test_score'],color=\"blue\")\n",
    "ax[0].set_ylabel(\"MSE\")\n",
    "ax[0].set_xlabel(\"$\\lambda$\")\n",
    "ax[0].set_title(\"Ridge\")\n",
    "result = pd.DataFrame(lasso_alpha_cv_results.cv_results_)\n",
    "ax[1].scatter(result[\"param_regressor__alpha\"],-result['mean_test_score'],color=\"orange\")\n",
    "ax[1].set_ylabel(\"MSE\")\n",
    "ax[1].set_xlabel(\"$\\lambda$\")\n",
    "ax[1].set_title(\"Lasso\")\n",
    "plt.show()"
   ]
  },
  {
   "cell_type": "code",
   "execution_count": 86,
   "id": "597869c2",
   "metadata": {},
   "outputs": [],
   "source": [
    "param_grid = {\"regressor__alpha\":np.linspace(0.1,1,10),\n",
    "              \"feature_extract__combined_encoding__Poly_pipe__Poly_features__degree\":[1,2,3,4,5]}"
   ]
  },
  {
   "cell_type": "code",
   "execution_count": 87,
   "id": "e6b925cd",
   "metadata": {},
   "outputs": [],
   "source": [
    "ridge_GridCV = GridSearchCV(ridge_reg,param_grid,cv=10,scoring=mse_scorer)\n",
    "lasso_GridCV = GridSearchCV(lasso_reg,param_grid,cv=10,scoring=mse_scorer)"
   ]
  },
  {
   "cell_type": "code",
   "execution_count": 93,
   "id": "56f520b3",
   "metadata": {},
   "outputs": [],
   "source": [
    "ridge_cv_results = ridge_GridCV.fit(X_train,Y_train)\n",
    "lasso_cv_results = lasso_GridCV.fit(X_train,Y_train)"
   ]
  },
  {
   "cell_type": "markdown",
   "id": "7d8db486",
   "metadata": {},
   "source": [
    "### Coefs and Scores of Best Estimators "
   ]
  },
  {
   "cell_type": "code",
   "execution_count": 109,
   "id": "31b7fd9c",
   "metadata": {},
   "outputs": [],
   "source": [
    "best_estimators = [poly_reg_cv_results.best_estimator_,lin_reg_model,ridge_cv_results.best_estimator_,lasso_cv_results.best_estimator_]"
   ]
  },
  {
   "cell_type": "code",
   "execution_count": 110,
   "id": "10e76f45",
   "metadata": {},
   "outputs": [
    {
     "data": {
      "text/html": [
       "<div>\n",
       "<style scoped>\n",
       "    .dataframe tbody tr th:only-of-type {\n",
       "        vertical-align: middle;\n",
       "    }\n",
       "\n",
       "    .dataframe tbody tr th {\n",
       "        vertical-align: top;\n",
       "    }\n",
       "\n",
       "    .dataframe thead th {\n",
       "        text-align: right;\n",
       "    }\n",
       "</style>\n",
       "<table border=\"1\" class=\"dataframe\">\n",
       "  <thead>\n",
       "    <tr style=\"text-align: right;\">\n",
       "      <th></th>\n",
       "      <th>Poly (degree=4)</th>\n",
       "      <th>Linear</th>\n",
       "      <th>Ridge (degree=1, alpha=0.1)</th>\n",
       "      <th>Lasso (degree=4, alpha=0.1)</th>\n",
       "    </tr>\n",
       "  </thead>\n",
       "  <tbody>\n",
       "    <tr>\n",
       "      <th>Intercept</th>\n",
       "      <td>0.078248</td>\n",
       "      <td>12.355129</td>\n",
       "      <td>10.608768</td>\n",
       "      <td>0.000000</td>\n",
       "    </tr>\n",
       "    <tr>\n",
       "      <th>log_area</th>\n",
       "      <td>0.329137</td>\n",
       "      <td>0.301503</td>\n",
       "      <td>0.507723</td>\n",
       "      <td>0.000000</td>\n",
       "    </tr>\n",
       "    <tr>\n",
       "      <th>log_area^2</th>\n",
       "      <td>0.914021</td>\n",
       "      <td>NaN</td>\n",
       "      <td>NaN</td>\n",
       "      <td>0.414097</td>\n",
       "    </tr>\n",
       "    <tr>\n",
       "      <th>log_area^3</th>\n",
       "      <td>-0.135646</td>\n",
       "      <td>NaN</td>\n",
       "      <td>NaN</td>\n",
       "      <td>-0.005921</td>\n",
       "    </tr>\n",
       "    <tr>\n",
       "      <th>log_area^4</th>\n",
       "      <td>0.005621</td>\n",
       "      <td>NaN</td>\n",
       "      <td>NaN</td>\n",
       "      <td>-0.002078</td>\n",
       "    </tr>\n",
       "    <tr>\n",
       "      <th>bedrooms_modified_3</th>\n",
       "      <td>0.100258</td>\n",
       "      <td>0.103583</td>\n",
       "      <td>0.118111</td>\n",
       "      <td>0.000000</td>\n",
       "    </tr>\n",
       "    <tr>\n",
       "      <th>bedrooms_modified_4</th>\n",
       "      <td>0.092443</td>\n",
       "      <td>0.102905</td>\n",
       "      <td>0.131702</td>\n",
       "      <td>0.000000</td>\n",
       "    </tr>\n",
       "    <tr>\n",
       "      <th>bedrooms_modified_&lt;2</th>\n",
       "      <td>-0.023810</td>\n",
       "      <td>-0.024386</td>\n",
       "      <td>0.175377</td>\n",
       "      <td>-0.000000</td>\n",
       "    </tr>\n",
       "    <tr>\n",
       "      <th>bedrooms_modified_&gt;4</th>\n",
       "      <td>0.129655</td>\n",
       "      <td>0.151544</td>\n",
       "      <td>0.097817</td>\n",
       "      <td>0.000000</td>\n",
       "    </tr>\n",
       "    <tr>\n",
       "      <th>bathrooms_modified_&gt;1</th>\n",
       "      <td>0.155616</td>\n",
       "      <td>0.159492</td>\n",
       "      <td>0.164073</td>\n",
       "      <td>0.000000</td>\n",
       "    </tr>\n",
       "    <tr>\n",
       "      <th>parking_modified_1</th>\n",
       "      <td>0.073918</td>\n",
       "      <td>0.075066</td>\n",
       "      <td>0.018708</td>\n",
       "      <td>0.000000</td>\n",
       "    </tr>\n",
       "    <tr>\n",
       "      <th>parking_modified_2</th>\n",
       "      <td>0.111658</td>\n",
       "      <td>0.106112</td>\n",
       "      <td>0.063015</td>\n",
       "      <td>0.000000</td>\n",
       "    </tr>\n",
       "    <tr>\n",
       "      <th>parking_modified_&gt;2</th>\n",
       "      <td>-0.037380</td>\n",
       "      <td>-0.058377</td>\n",
       "      <td>-0.245529</td>\n",
       "      <td>-0.000000</td>\n",
       "    </tr>\n",
       "    <tr>\n",
       "      <th>stories_2</th>\n",
       "      <td>0.071409</td>\n",
       "      <td>0.067175</td>\n",
       "      <td>0.083989</td>\n",
       "      <td>0.000000</td>\n",
       "    </tr>\n",
       "    <tr>\n",
       "      <th>stories_3</th>\n",
       "      <td>0.189116</td>\n",
       "      <td>0.176828</td>\n",
       "      <td>0.154805</td>\n",
       "      <td>0.000000</td>\n",
       "    </tr>\n",
       "    <tr>\n",
       "      <th>stories_4</th>\n",
       "      <td>0.257462</td>\n",
       "      <td>0.240652</td>\n",
       "      <td>0.166921</td>\n",
       "      <td>0.000000</td>\n",
       "    </tr>\n",
       "    <tr>\n",
       "      <th>mainroad_yes</th>\n",
       "      <td>0.083784</td>\n",
       "      <td>0.101190</td>\n",
       "      <td>0.077131</td>\n",
       "      <td>0.000000</td>\n",
       "    </tr>\n",
       "    <tr>\n",
       "      <th>guestroom_yes</th>\n",
       "      <td>0.048174</td>\n",
       "      <td>0.049911</td>\n",
       "      <td>0.048444</td>\n",
       "      <td>0.000000</td>\n",
       "    </tr>\n",
       "    <tr>\n",
       "      <th>basement_yes</th>\n",
       "      <td>0.099944</td>\n",
       "      <td>0.100801</td>\n",
       "      <td>0.084921</td>\n",
       "      <td>0.000000</td>\n",
       "    </tr>\n",
       "    <tr>\n",
       "      <th>hotwaterheating_yes</th>\n",
       "      <td>0.159978</td>\n",
       "      <td>0.144456</td>\n",
       "      <td>0.251433</td>\n",
       "      <td>0.000000</td>\n",
       "    </tr>\n",
       "    <tr>\n",
       "      <th>airconditioning_yes</th>\n",
       "      <td>0.157419</td>\n",
       "      <td>0.158875</td>\n",
       "      <td>0.145574</td>\n",
       "      <td>0.000000</td>\n",
       "    </tr>\n",
       "    <tr>\n",
       "      <th>prefarea_yes</th>\n",
       "      <td>0.134511</td>\n",
       "      <td>0.121124</td>\n",
       "      <td>0.122853</td>\n",
       "      <td>0.000000</td>\n",
       "    </tr>\n",
       "    <tr>\n",
       "      <th>furnishingstatus_semi-furnished</th>\n",
       "      <td>0.010574</td>\n",
       "      <td>0.018297</td>\n",
       "      <td>0.050341</td>\n",
       "      <td>0.000000</td>\n",
       "    </tr>\n",
       "    <tr>\n",
       "      <th>furnishingstatus_unfurnished</th>\n",
       "      <td>-0.128311</td>\n",
       "      <td>-0.116760</td>\n",
       "      <td>-0.052156</td>\n",
       "      <td>-0.000000</td>\n",
       "    </tr>\n",
       "  </tbody>\n",
       "</table>\n",
       "</div>"
      ],
      "text/plain": [
       "                                 Poly (degree=4)     Linear   \n",
       "Intercept                               0.078248  12.355129  \\\n",
       "log_area                                0.329137   0.301503   \n",
       "log_area^2                              0.914021        NaN   \n",
       "log_area^3                             -0.135646        NaN   \n",
       "log_area^4                              0.005621        NaN   \n",
       "bedrooms_modified_3                     0.100258   0.103583   \n",
       "bedrooms_modified_4                     0.092443   0.102905   \n",
       "bedrooms_modified_<2                   -0.023810  -0.024386   \n",
       "bedrooms_modified_>4                    0.129655   0.151544   \n",
       "bathrooms_modified_>1                   0.155616   0.159492   \n",
       "parking_modified_1                      0.073918   0.075066   \n",
       "parking_modified_2                      0.111658   0.106112   \n",
       "parking_modified_>2                    -0.037380  -0.058377   \n",
       "stories_2                               0.071409   0.067175   \n",
       "stories_3                               0.189116   0.176828   \n",
       "stories_4                               0.257462   0.240652   \n",
       "mainroad_yes                            0.083784   0.101190   \n",
       "guestroom_yes                           0.048174   0.049911   \n",
       "basement_yes                            0.099944   0.100801   \n",
       "hotwaterheating_yes                     0.159978   0.144456   \n",
       "airconditioning_yes                     0.157419   0.158875   \n",
       "prefarea_yes                            0.134511   0.121124   \n",
       "furnishingstatus_semi-furnished         0.010574   0.018297   \n",
       "furnishingstatus_unfurnished           -0.128311  -0.116760   \n",
       "\n",
       "                                 Ridge (degree=1, alpha=0.1)   \n",
       "Intercept                                          10.608768  \\\n",
       "log_area                                            0.507723   \n",
       "log_area^2                                               NaN   \n",
       "log_area^3                                               NaN   \n",
       "log_area^4                                               NaN   \n",
       "bedrooms_modified_3                                 0.118111   \n",
       "bedrooms_modified_4                                 0.131702   \n",
       "bedrooms_modified_<2                                0.175377   \n",
       "bedrooms_modified_>4                                0.097817   \n",
       "bathrooms_modified_>1                               0.164073   \n",
       "parking_modified_1                                  0.018708   \n",
       "parking_modified_2                                  0.063015   \n",
       "parking_modified_>2                                -0.245529   \n",
       "stories_2                                           0.083989   \n",
       "stories_3                                           0.154805   \n",
       "stories_4                                           0.166921   \n",
       "mainroad_yes                                        0.077131   \n",
       "guestroom_yes                                       0.048444   \n",
       "basement_yes                                        0.084921   \n",
       "hotwaterheating_yes                                 0.251433   \n",
       "airconditioning_yes                                 0.145574   \n",
       "prefarea_yes                                        0.122853   \n",
       "furnishingstatus_semi-furnished                     0.050341   \n",
       "furnishingstatus_unfurnished                       -0.052156   \n",
       "\n",
       "                                 Lasso (degree=4, alpha=0.1)  \n",
       "Intercept                                           0.000000  \n",
       "log_area                                            0.000000  \n",
       "log_area^2                                          0.414097  \n",
       "log_area^3                                         -0.005921  \n",
       "log_area^4                                         -0.002078  \n",
       "bedrooms_modified_3                                 0.000000  \n",
       "bedrooms_modified_4                                 0.000000  \n",
       "bedrooms_modified_<2                               -0.000000  \n",
       "bedrooms_modified_>4                                0.000000  \n",
       "bathrooms_modified_>1                               0.000000  \n",
       "parking_modified_1                                  0.000000  \n",
       "parking_modified_2                                  0.000000  \n",
       "parking_modified_>2                                -0.000000  \n",
       "stories_2                                           0.000000  \n",
       "stories_3                                           0.000000  \n",
       "stories_4                                           0.000000  \n",
       "mainroad_yes                                        0.000000  \n",
       "guestroom_yes                                       0.000000  \n",
       "basement_yes                                        0.000000  \n",
       "hotwaterheating_yes                                 0.000000  \n",
       "airconditioning_yes                                 0.000000  \n",
       "prefarea_yes                                        0.000000  \n",
       "furnishingstatus_semi-furnished                     0.000000  \n",
       "furnishingstatus_unfurnished                       -0.000000  "
      ]
     },
     "execution_count": 110,
     "metadata": {},
     "output_type": "execute_result"
    }
   ],
   "source": [
    "get_coef_table(best_estimators,[\"Poly (degree=4)\",\"Linear\",\"Ridge (degree=1, alpha=0.1)\",\"Lasso (degree=4, alpha=0.1)\"])"
   ]
  },
  {
   "cell_type": "code",
   "execution_count": 112,
   "id": "2174fcdb",
   "metadata": {},
   "outputs": [
    {
     "data": {
      "text/html": [
       "<div>\n",
       "<style scoped>\n",
       "    .dataframe tbody tr th:only-of-type {\n",
       "        vertical-align: middle;\n",
       "    }\n",
       "\n",
       "    .dataframe tbody tr th {\n",
       "        vertical-align: top;\n",
       "    }\n",
       "\n",
       "    .dataframe thead th {\n",
       "        text-align: right;\n",
       "    }\n",
       "</style>\n",
       "<table border=\"1\" class=\"dataframe\">\n",
       "  <thead>\n",
       "    <tr style=\"text-align: right;\">\n",
       "      <th></th>\n",
       "      <th>Poly (degree=4)</th>\n",
       "      <th>Linear</th>\n",
       "      <th>Ridge (degree=1, alpha=0.1)</th>\n",
       "      <th>Lasso (degree=4, alpha=0.1)</th>\n",
       "    </tr>\n",
       "  </thead>\n",
       "  <tbody>\n",
       "    <tr>\n",
       "      <th>MSE</th>\n",
       "      <td>0.041230</td>\n",
       "      <td>0.041443</td>\n",
       "      <td>0.047732</td>\n",
       "      <td>0.108490</td>\n",
       "    </tr>\n",
       "    <tr>\n",
       "      <th>R-sq</th>\n",
       "      <td>0.714186</td>\n",
       "      <td>0.712708</td>\n",
       "      <td>0.669109</td>\n",
       "      <td>0.247921</td>\n",
       "    </tr>\n",
       "    <tr>\n",
       "      <th>RMSE</th>\n",
       "      <td>0.203051</td>\n",
       "      <td>0.203575</td>\n",
       "      <td>0.218477</td>\n",
       "      <td>0.329379</td>\n",
       "    </tr>\n",
       "    <tr>\n",
       "      <th>Adj. R-sq</th>\n",
       "      <td>0.703272</td>\n",
       "      <td>0.701737</td>\n",
       "      <td>0.656473</td>\n",
       "      <td>0.219202</td>\n",
       "    </tr>\n",
       "  </tbody>\n",
       "</table>\n",
       "</div>"
      ],
      "text/plain": [
       "           Poly (degree=4)    Linear  Ridge (degree=1, alpha=0.1)   \n",
       "MSE               0.041230  0.041443                     0.047732  \\\n",
       "R-sq              0.714186  0.712708                     0.669109   \n",
       "RMSE              0.203051  0.203575                     0.218477   \n",
       "Adj. R-sq         0.703272  0.701737                     0.656473   \n",
       "\n",
       "           Lasso (degree=4, alpha=0.1)  \n",
       "MSE                           0.108490  \n",
       "R-sq                          0.247921  \n",
       "RMSE                          0.329379  \n",
       "Adj. R-sq                     0.219202  "
      ]
     },
     "execution_count": 112,
     "metadata": {},
     "output_type": "execute_result"
    }
   ],
   "source": [
    "get_score_df(best_estimators,X_train,Y_train,[\"Poly (degree=4)\",\"Linear\",\"Ridge (degree=1, alpha=0.1)\",\"Lasso (degree=4, alpha=0.1)\"])"
   ]
  },
  {
   "cell_type": "markdown",
   "id": "9389144f",
   "metadata": {},
   "source": [
    "### Fitting best estimators on test data"
   ]
  },
  {
   "cell_type": "code",
   "execution_count": 114,
   "id": "eeff2efc",
   "metadata": {},
   "outputs": [],
   "source": [
    "X_test = test_data.drop(\"price\",axis=1)\n",
    "Y_test = np.log(test_data['price'])"
   ]
  },
  {
   "cell_type": "code",
   "execution_count": 115,
   "id": "e73d67ae",
   "metadata": {},
   "outputs": [
    {
     "data": {
      "text/html": [
       "<div>\n",
       "<style scoped>\n",
       "    .dataframe tbody tr th:only-of-type {\n",
       "        vertical-align: middle;\n",
       "    }\n",
       "\n",
       "    .dataframe tbody tr th {\n",
       "        vertical-align: top;\n",
       "    }\n",
       "\n",
       "    .dataframe thead th {\n",
       "        text-align: right;\n",
       "    }\n",
       "</style>\n",
       "<table border=\"1\" class=\"dataframe\">\n",
       "  <thead>\n",
       "    <tr style=\"text-align: right;\">\n",
       "      <th></th>\n",
       "      <th>Poly (degree=4)</th>\n",
       "      <th>Linear</th>\n",
       "      <th>Ridge (degree=1, alpha=0.1)</th>\n",
       "      <th>Lasso (degree=4, alpha=0.1)</th>\n",
       "    </tr>\n",
       "  </thead>\n",
       "  <tbody>\n",
       "    <tr>\n",
       "      <th>MSE</th>\n",
       "      <td>0.037466</td>\n",
       "      <td>0.036668</td>\n",
       "      <td>0.049724</td>\n",
       "      <td>0.098738</td>\n",
       "    </tr>\n",
       "    <tr>\n",
       "      <th>R-sq</th>\n",
       "      <td>0.670244</td>\n",
       "      <td>0.677264</td>\n",
       "      <td>0.562359</td>\n",
       "      <td>0.130963</td>\n",
       "    </tr>\n",
       "    <tr>\n",
       "      <th>RMSE</th>\n",
       "      <td>0.193561</td>\n",
       "      <td>0.191490</td>\n",
       "      <td>0.222988</td>\n",
       "      <td>0.314225</td>\n",
       "    </tr>\n",
       "    <tr>\n",
       "      <th>Adj. R-sq</th>\n",
       "      <td>0.617058</td>\n",
       "      <td>0.625210</td>\n",
       "      <td>0.491772</td>\n",
       "      <td>-0.009204</td>\n",
       "    </tr>\n",
       "  </tbody>\n",
       "</table>\n",
       "</div>"
      ],
      "text/plain": [
       "           Poly (degree=4)    Linear  Ridge (degree=1, alpha=0.1)   \n",
       "MSE               0.037466  0.036668                     0.049724  \\\n",
       "R-sq              0.670244  0.677264                     0.562359   \n",
       "RMSE              0.193561  0.191490                     0.222988   \n",
       "Adj. R-sq         0.617058  0.625210                     0.491772   \n",
       "\n",
       "           Lasso (degree=4, alpha=0.1)  \n",
       "MSE                           0.098738  \n",
       "R-sq                          0.130963  \n",
       "RMSE                          0.314225  \n",
       "Adj. R-sq                    -0.009204  "
      ]
     },
     "execution_count": 115,
     "metadata": {},
     "output_type": "execute_result"
    }
   ],
   "source": [
    "get_score_df(best_estimators,X_test,Y_test,[\"Poly (degree=4)\",\"Linear\",\"Ridge (degree=1, alpha=0.1)\",\"Lasso (degree=4, alpha=0.1)\"])"
   ]
  },
  {
   "cell_type": "code",
   "execution_count": 126,
   "id": "3b510794",
   "metadata": {},
   "outputs": [
    {
     "data": {
      "image/png": "[encoded data removed]",
      "text/plain": [
       "<Figure size 1080x576 with 1 Axes>"
      ]
     },
     "metadata": {
      "needs_background": "light"
     },
     "output_type": "display_data"
    }
   ],
   "source": [
    "plt.figure(figsize=(15,8))\n",
    "plt.scatter(Y_test,best_estimators[0].predict(X_test),label =\"Poly (degree=4)\")\n",
    "plt.scatter(Y_test,best_estimators[1].predict(X_test),alpha=0.7,label =\"Linear\")\n",
    "plt.scatter(Y_test,best_estimators[2].predict(X_test),alpha=0.7,label = \"Ridge (degree=1, alpha=0.1)\")\n",
    "plt.scatter(Y_test,best_estimators[3].predict(X_test),alpha=0.7,label = \"Lasso (degree=4, alpha=0.1)\")\n",
    "plt.plot(Y_test,Y_test,color = \"black\",ls = \":\",alpha=0.3)\n",
    "plt.legend()\n",
    "plt.show()"
   ]
  }
 ],
 "metadata": {
  "kernelspec": {
   "display_name": "Python 3 (ipykernel)",
   "language": "python",
   "name": "python3"
  },
  "language_info": {
   "codemirror_mode": {
    "name": "ipython",
    "version": 3
   },
   "file_extension": ".py",
   "mimetype": "text/x-python",
   "name": "python",
   "nbconvert_exporter": "python",
   "pygments_lexer": "ipython3",
   "version": "3.9.12"
  },
  "toc": {
   "base_numbering": 1,
   "nav_menu": {},
   "number_sections": false,
   "sideBar": true,
   "skip_h1_title": true,
   "title_cell": "Table of Contents",
   "title_sidebar": "Contents",
   "toc_cell": false,
   "toc_position": {},
   "toc_section_display": true,
   "toc_window_display": false
  },
  "varInspector": {
   "cols": {
    "lenName": 16,
    "lenType": 16,
    "lenVar": 40
   },
   "kernels_config": {
    "python": {
     "delete_cmd_postfix": "",
     "delete_cmd_prefix": "del ",
     "library": "var_list.py",
     "varRefreshCmd": "print(var_dic_list())"
    },
    "r": {
     "delete_cmd_postfix": ") ",
     "delete_cmd_prefix": "rm(",
     "library": "var_list.r",
     "varRefreshCmd": "cat(var_dic_list()) "
    }
   },
   "types_to_exclude": [
    "module",
    "function",
    "builtin_function_or_method",
    "instance",
    "_Feature"
   ],
   "window_display": false
  }
 },
 "nbformat": 4,
 "nbformat_minor": 5
}
